{
 "cells": [
  {
   "cell_type": "markdown",
   "metadata": {
    "collapsed": true
   },
   "source": [
    "# Distributional Semantics Model: Narrow Word-Window (-2,+2)"
   ]
  },
  {
   "cell_type": "markdown",
   "metadata": {},
   "source": [
    "### A. Data-Loading Facilities"
   ]
  },
  {
   "cell_type": "code",
   "execution_count": 4,
   "metadata": {
    "collapsed": true
   },
   "outputs": [],
   "source": [
    "import os\n",
    "os.chdir(\"/Users/jacobsw/Desktop/IMPLEMENTATION_CAMP/CODE/BASIC_TOPICS/DISTRIBUTIONAL_SEMANTICS/ASSIGNMENT_03\")"
   ]
  },
  {
   "cell_type": "code",
   "execution_count": 5,
   "metadata": {
    "collapsed": true
   },
   "outputs": [],
   "source": [
    "import nltk\n",
    "from nltk.corpus import stopwords\n",
    "stopwords = stopwords.words('english')\n",
    "from collections import defaultdict, Counter\n",
    "from functools import partial\n",
    "from itertools import permutations, product\n",
    "punctuation = '!\"#$%&\\'()*+,-/:;<=>?@[\\\\]^_`{|}~'\n",
    "from operator import itemgetter"
   ]
  },
  {
   "cell_type": "code",
   "execution_count": 6,
   "metadata": {
    "collapsed": true
   },
   "outputs": [],
   "source": [
    "import warnings\n",
    "warnings.filterwarnings(\"ignore\")"
   ]
  },
  {
   "cell_type": "code",
   "execution_count": 27,
   "metadata": {
    "collapsed": true
   },
   "outputs": [],
   "source": [
    "def load_wiki(cutoffFreq=20):\n",
    "    \n",
    "    print \"... extracting data\"\n",
    "    with open('wikicorpus.txt','rb') as f:\n",
    "        raw = f.readlines()\n",
    "    raw = [sent[4:].split() for sent in raw if sent.startswith('<c>')] \n",
    "        # sent[4:]: get rid of initial <c>.\n",
    "        # extract sentences; split sentences into word complexes.\n",
    "    raw = [[map(partial(str.split, word), '|') for word in sent] for sent in raw] \n",
    "        # split word complexes into words.\n",
    "    \n",
    "    print \"... cleaning data\"\n",
    "    tagged_sents = [[(word[0][1].lower(),word[0][2]) for word in sent if len(word[0])>1 \n",
    "                      and word[0][1].lower() not in stopwords\n",
    "                      and word[0][1] not in punctuation] for sent in raw]\n",
    "    \n",
    "    print \"... getting top-%d frequent context words and top-50 frequent nouns\" % cutoffFreq\n",
    "    all_tokens = [word for tagged_sent in tagged_sents for word,tag in tagged_sent]\n",
    "        # type: list of words.\n",
    "    context_fdist = Counter(all_tokens)\n",
    "    context_vocab = list({word for word,freq in context_fdist.iteritems() if freq>=cutoffFreq})\n",
    "    n_tokens = [word for tagged_sent in tagged_sents for word,tag in tagged_sent if tag.startswith('N')]\n",
    "    n_fdist = Counter(n_tokens)\n",
    "    n_vocab = list({word for word,freq in n_fdist.iteritems() if freq>=50})\n",
    "    \n",
    "    sents = [[word for word,tag in tagged_sent if word in context_vocab] for tagged_sent in tagged_sents]\n",
    "    \n",
    "    return (n_vocab, context_vocab, sents)\n"
   ]
  },
  {
   "cell_type": "code",
   "execution_count": 28,
   "metadata": {
    "collapsed": false
   },
   "outputs": [
    {
     "name": "stdout",
     "output_type": "stream",
     "text": [
      "... extracting data\n",
      "... cleaning data\n",
      "... getting top-20 frequent context words and top-50 frequent nouns\n",
      "CPU times: user 19min 23s, sys: 9.23 s, total: 19min 32s\n",
      "Wall time: 19min 30s\n"
     ]
    }
   ],
   "source": [
    "%%time\n",
    "n_vocab, context_vocab, sents = load_wiki()"
   ]
  },
  {
   "cell_type": "code",
   "execution_count": 7,
   "metadata": {
    "collapsed": true
   },
   "outputs": [],
   "source": [
    "import cPickle"
   ]
  },
  {
   "cell_type": "code",
   "execution_count": 8,
   "metadata": {
    "collapsed": false
   },
   "outputs": [],
   "source": [
    "# cleaned_data_path = '/Users/jacobsw/Desktop/IMPLEMENTATION_CAMP/CODE/BASIC_TOPICS/DISTRIBUTIONAL_SEMANTICS/CODE/CLEANED_DATA/'\n",
    "# cPickle.dump((n_vocab,context_vocab,sents), open(cleaned_data_path+'cleaned_wiki.p', 'wb')) \n",
    "# n_vocab, context_vocab, sents = cPickle.load(open(cleaned_data_path+'cleaned_wiki.p', 'rb'))"
   ]
  },
  {
   "cell_type": "markdown",
   "metadata": {},
   "source": [
    "### B1. Analyzer: Cooccurrence Matrix Based"
   ]
  },
  {
   "cell_type": "markdown",
   "metadata": {},
   "source": [
    "#### A. Model"
   ]
  },
  {
   "cell_type": "code",
   "execution_count": 9,
   "metadata": {
    "collapsed": true
   },
   "outputs": [],
   "source": [
    "import numpy as np"
   ]
  },
  {
   "cell_type": "code",
   "execution_count": 146,
   "metadata": {
    "collapsed": true
   },
   "outputs": [],
   "source": [
    "# SIMILARITY MEASURES\n",
    "def cosine(w2w):\n",
    "    w2w_norm = w2w / np.apply_along_axis(lambda r: np.sqrt(np.dot(r,r))\n",
    "                               , 1, w2w)[:,np.newaxis]\n",
    "    return np.dot(w2w_norm, w2w_norm.T)\n",
    "    \n",
    "def ppmi(w2w):\n",
    "    def iszero(m): return m==0\n",
    "    rowSums, colSums, totalSums = w2w.sum(axis=1), w2w.sum(axis=0), w2w.sum()\n",
    "    pwi, pwj, ppmiMatrix = rowSums/totalSums, colSums/totalSums, w2w/totalSums\n",
    "    ppmiMatrix /= pwi[:,np.newaxis] # * 1/pwi by row.\n",
    "    ppmiMatrix /= pwj # * 1/pwj by col.\n",
    "    ppmiMatrix[iszero[ppmiMatrix]] = 1e-10 # handling logging-on-0 issue.\n",
    "    ppmiMatrix = np.log(ppmiMatrix) # compute pmi.\n",
    "    ppmiMatrix = np.maximum(ppmiMatrix, 0) # compute ppmi.\n",
    "    return ppmiMatrix"
   ]
  },
  {
   "cell_type": "code",
   "execution_count": 147,
   "metadata": {
    "collapsed": false
   },
   "outputs": [],
   "source": [
    "class SimpleDistSem:\n",
    "    \n",
    "    def __init__(self, target_vocab, context_vocab, sents):\n",
    "        self.sents = sents \n",
    "            # a list of sents considered in the corpus.\n",
    "            #  in this case, words in context_vocab.\n",
    "        self.vocab = target_vocab\n",
    "        self.context = context_vocab\n",
    "        self.t2i = {t:i for i,t in enumerate(self.vocab)}\n",
    "        self.c2i = {word:i for i,word in enumerate(self.context)}\n",
    "        self.algos = {'ppmi':ppmi, 'cosine':cosine}\n",
    "    \n",
    "    def build_t2c_matrix(self, win_size):\n",
    "        \n",
    "        print \"... counting words\"\n",
    "        cooccurrenceDict = defaultdict(int)\n",
    "        for sent in self.sents:\n",
    "            for i,target in enumerate(sent):\n",
    "                contexts = sent[max(0,i-win_size):i] + \\\n",
    "                           sent[min(i+1,len(sent)):min(i+1+win_size,len(sent))]\n",
    "                for context in contexts:\n",
    "                    cooccurrenceDict[(target,context)] += 1\n",
    "        \n",
    "        print \"... building cooccurrence matrix\"\n",
    "        self.t2c = np.zeros((len(self.vocab),len(self.context)))\n",
    "        for target in self.vocab:\n",
    "            for context in self.context:\n",
    "                self.t2c[self.t2i[target]][self.c2i[context]] = cooccurrenceDict[(target,context)]\n",
    "        \n",
    "        print \"... performing association transformation (ppmi)\"\n",
    "        self.t2c = ppmi(self.t2c)\n",
    "    \n",
    "    def build_similarity_matrix(self, similarity='ppmi'):\n",
    "        self.sim_algo = similarity\n",
    "        self.simMatrix = self.algos[similarity](self.t2c)\n",
    "    \n",
    "    def k_most_similar(self, words, k=20):\n",
    "        assert len(words)==len(filter(lambda w:1 if w in self.vocab else 0, words))\n",
    "        w2sim = {}\n",
    "        for word in words:\n",
    "            simList = self.simMatrix[self.t2i[word]]\n",
    "            if self.sim_algo=='ppmi':\n",
    "                w2sim[word] = map(lambda idx:(self.context[idx],\n",
    "                                              self.simMatrix[self.t2i[word]][idx]),\n",
    "                                  np.argsort(simList)[::-1][1:k+1])\n",
    "            else:\n",
    "                w2sim[word] = map(lambda idx:(self.vocab[idx],\n",
    "                                              self.simMatrix[self.t2i[word]][idx]),\n",
    "                                  np.argsort(simList)[::-1][1:k+1])                \n",
    "            # [1:k+1]: skip self-similarty.\n",
    "        return w2sim"
   ]
  },
  {
   "cell_type": "code",
   "execution_count": 148,
   "metadata": {
    "collapsed": false
   },
   "outputs": [
    {
     "name": "stdout",
     "output_type": "stream",
     "text": [
      "CPU times: user 5.52 ms, sys: 25.9 ms, total: 31.4 ms\n",
      "Wall time: 35.3 ms\n"
     ]
    }
   ],
   "source": [
    "%%time\n",
    "ds = SimpleDistSem(n_vocab,context_vocab,sents)"
   ]
  },
  {
   "cell_type": "code",
   "execution_count": 150,
   "metadata": {
    "collapsed": false
   },
   "outputs": [
    {
     "name": "stdout",
     "output_type": "stream",
     "text": [
      "... counting words\n",
      "... building cooccurrence matrix\n",
      "... performing association transformation (ppmi)\n",
      "CPU times: user 5min 16s, sys: 3min 37s, total: 8min 54s\n",
      "Wall time: 10min 26s\n"
     ]
    }
   ],
   "source": [
    "%%time\n",
    "ds.build_t2c_matrix(win_size=2)"
   ]
  },
  {
   "cell_type": "code",
   "execution_count": 47,
   "metadata": {
    "collapsed": false
   },
   "outputs": [],
   "source": [
    "# model_path = '/Users/jacobsw/Desktop/IMPLEMENTATION_CAMP/CODE/BASIC_TOPICS/DISTRIBUTIONAL_SEMANTICS/CODE/MODELS/'\n",
    "# cPickle.dump(ds.t2c, open(model_path+'t2c_matrix.p', 'wb')) "
   ]
  },
  {
   "cell_type": "markdown",
   "metadata": {},
   "source": [
    "#### b. Evaluator: K-Frequent"
   ]
  },
  {
   "cell_type": "code",
   "execution_count": 151,
   "metadata": {
    "collapsed": false
   },
   "outputs": [
    {
     "name": "stdout",
     "output_type": "stream",
     "text": [
      "CPU times: user 1min 3s, sys: 1.27 s, total: 1min 4s\n",
      "Wall time: 11.4 s\n"
     ]
    }
   ],
   "source": [
    "%%time\n",
    "ds.build_similarity_matrix('cosine')"
   ]
  },
  {
   "cell_type": "code",
   "execution_count": 152,
   "metadata": {
    "collapsed": false
   },
   "outputs": [
    {
     "name": "stdout",
     "output_type": "stream",
     "text": [
      "CPU times: user 7.96 ms, sys: 4.96 ms, total: 12.9 ms\n",
      "Wall time: 25.6 ms\n"
     ]
    }
   ],
   "source": [
    "%%time\n",
    "words = ['car','bus','hospital','hotel','gun','bomb','horse','fox','table','bowl','guitar','piano']\n",
    "w2sim = ds.k_most_similar(words)"
   ]
  },
  {
   "cell_type": "code",
   "execution_count": 153,
   "metadata": {
    "collapsed": false
   },
   "outputs": [
    {
     "data": {
      "text/plain": [
       "[('car', 1.0000000000000002),\n",
       " ('vehicle', 0.25072320894335415),\n",
       " ('racing', 0.24022578208684151),\n",
       " ('engine', 0.22363940122018253),\n",
       " ('truck', 0.21850334001874441),\n",
       " ('motor', 0.18665395294251125),\n",
       " ('automobile', 0.18078987685826148),\n",
       " ('passenger', 0.18012375221484972),\n",
       " ('audi', 0.17510730832578281),\n",
       " ('diesel', 0.17401171371376842),\n",
       " ('race', 0.17030898939042763),\n",
       " ('bus', 0.16792566694909561),\n",
       " ('drive', 0.16740259061597954),\n",
       " ('train', 0.16448985856932427),\n",
       " ('company', 0.16447986670458833),\n",
       " ('driver', 0.16132842234251166),\n",
       " ('design', 0.1611686939345211),\n",
       " ('motorcycle', 0.15610660086994815),\n",
       " ('bmw', 0.15464034114236788),\n",
       " ('bicycle', 0.15417229535706148)]"
      ]
     },
     "execution_count": 153,
     "metadata": {},
     "output_type": "execute_result"
    }
   ],
   "source": [
    "w2sim['car']"
   ]
  },
  {
   "cell_type": "markdown",
   "metadata": {},
   "source": [
    "#### c. Evaluator: BLESS"
   ]
  },
  {
   "cell_type": "code",
   "execution_count": 154,
   "metadata": {
    "collapsed": true
   },
   "outputs": [],
   "source": [
    "import random"
   ]
  },
  {
   "cell_type": "code",
   "execution_count": 166,
   "metadata": {
    "collapsed": false
   },
   "outputs": [],
   "source": [
    "def bless_evaluator(simMatrix, indexers):\n",
    "    t2i,c2i = indexers\n",
    "    path = '/Users/jacobsw/Desktop/IMPLEMENTATION_CAMP/CODE/BASIC_TOPICS/DISTRIBUTIONAL_SEMANTICS/ASSIGNMENT_03/BLESS_part.txt'\n",
    "    with open(path,'rb') as f:\n",
    "        bless = f.readlines()\n",
    "    bless = [line.split('\\t') for line in bless] # split into (concept, _, relation, relatum).\n",
    "    crPairs = [(c.split('-')[0].lower(),r.split('-')[0].lower(),rel) for c,_,rel,r in bless]\n",
    "    crPairs = filter(lambda crPair: crPair[1] in ds.t2i, crPairs) # there's some unseen relata.\n",
    "    posPairs = [(c,r) for c,r,rel in crPairs if rel in ['hyper','coord']]\n",
    "    negPairs = [(c,r) for c,r,rel in crPairs if rel in ['mero','random-n']]\n",
    "    \n",
    "    return [map(lambda (c,r):(c,r,simMatrix[t2i[c]][c2i[r]]), posPairs),\n",
    "            map(lambda (c,r):(c,r,simMatrix[t2i[c]][c2i[r]]), negPairs)]"
   ]
  },
  {
   "cell_type": "markdown",
   "metadata": {},
   "source": [
    "##### Cosine"
   ]
  },
  {
   "cell_type": "code",
   "execution_count": 167,
   "metadata": {
    "collapsed": false
   },
   "outputs": [
    {
     "name": "stdout",
     "output_type": "stream",
     "text": [
      "CPU times: user 19.4 ms, sys: 6.44 ms, total: 25.8 ms\n",
      "Wall time: 22.6 ms\n"
     ]
    }
   ],
   "source": [
    "%%time\n",
    "# ds.build_similarity_matrix('cosine')\n",
    "posEval, negEval = bless_evaluator(ds.simMatrix, indexers=[ds.t2i,ds.t2i])"
   ]
  },
  {
   "cell_type": "code",
   "execution_count": 168,
   "metadata": {
    "collapsed": false
   },
   "outputs": [
    {
     "name": "stdout",
     "output_type": "stream",
     "text": [
      "Examples of Evaluation on Positive Relations (Cosine): \n",
      "[('shirt', 'object', 0.041864159270515566), ('train', 'jet', 0.08989481104311528), ('guitar', 'banjo', 0.22317135865887036), ('battleship', 'van', 0.047521489275332625), ('truck', 'transport', 0.11725661176396823)]\n",
      "Average Cosine:  0.100564104776\n"
     ]
    }
   ],
   "source": [
    "print \"Examples of Evaluation on Positive Relations (Cosine): \"\n",
    "print random.sample(posEval, 5)\n",
    "print \"Average Cosine: \", np.mean([cosineVal for _,_,cosineVal in posEval])"
   ]
  },
  {
   "cell_type": "code",
   "execution_count": 169,
   "metadata": {
    "collapsed": false
   },
   "outputs": [
    {
     "name": "stdout",
     "output_type": "stream",
     "text": [
      "Examples of Evaluation on Positive Relations (Cosine): \n",
      "[('hospital', 'symmetry', 0.013632528572148493), ('salmon', 'parameter', 0.021756062636271396), ('dagger', 'railway', 0.01554310357048351), ('van', 'metal', 0.031358001782264146), ('grape', 'disagreement', 0.0086348801143316407)]\n",
      "Average Cosine:  0.0513189291684\n"
     ]
    }
   ],
   "source": [
    "print \"Examples of Evaluation on Positive Relations (Cosine): \"\n",
    "print random.sample(negEval, 5)\n",
    "print \"Average Cosine: \", np.mean([cosineVal for _,_,cosineVal in negEval])"
   ]
  },
  {
   "cell_type": "code",
   "execution_count": null,
   "metadata": {
    "collapsed": true
   },
   "outputs": [],
   "source": []
  },
  {
   "cell_type": "markdown",
   "metadata": {},
   "source": [
    "### C. Acc@1 & Acc@5"
   ]
  },
  {
   "cell_type": "markdown",
   "metadata": {},
   "source": [
    "##### Data & Measures"
   ]
  },
  {
   "cell_type": "code",
   "execution_count": 104,
   "metadata": {
    "collapsed": true
   },
   "outputs": [],
   "source": [
    "path = '/Users/jacobsw/Desktop/IMPLEMENTATION_CAMP/CODE/BASIC_TOPICS/DISTRIBUTIONAL_SEMANTICS/ASSIGNMENT_03/BLESS_part.txt'\n",
    "with open(path,'rb') as f:\n",
    "    bless = f.readlines()\n",
    "bless = [line.split('\\t') for line in bless] # split into (concept, _, relation, relatum).\n",
    "cr_pairs = [(c.split('-')[0].lower(),r.split('-')[0].lower(),rel) for c,_,rel,r in bless] # len=4536\n",
    "pos_pairs = [(c,r) for c,r,rel in crPairs if rel=='hyper']\n",
    "neg_pairs = [(c,r) for c,r,rel in crPairs if rel=='mero']"
   ]
  },
  {
   "cell_type": "code",
   "execution_count": 105,
   "metadata": {
    "collapsed": false
   },
   "outputs": [
    {
     "name": "stdout",
     "output_type": "stream",
     "text": [
      "concepts:  True\n",
      "relata:  False\n"
     ]
    }
   ],
   "source": [
    "cs = list({c for c,_,_ in cr_pairs})\n",
    "rs = list({r for _,r,_ in cr_pairs})\n",
    "print 'concepts: ', all(cs_i in ds.t2i for cs_i in cs)\n",
    "print 'relata: ', all(rs_i in ds.t2i for rs_i in rs)"
   ]
  },
  {
   "cell_type": "code",
   "execution_count": 106,
   "metadata": {
    "collapsed": true
   },
   "outputs": [],
   "source": [
    "unseen_relata = filter(lambda rs_i: rs_i not in ds.t2i, rs)\n",
    "cr_pairs = filter(lambda cr: cr[1] not in unseen_relata, crPairs) # len=4527"
   ]
  },
  {
   "cell_type": "code",
   "execution_count": 140,
   "metadata": {
    "collapsed": false
   },
   "outputs": [],
   "source": [
    "from __future__ import division\n",
    "def weighted_jaccard(u,v): return sum(map(min, zip(u,v))) / sum(map(max, zip(u,v)))\n",
    "def csn(u,v): return np.dot(u,v)/(np.dot(u,u)*np.dot(v,v))\n",
    "def get_vector(word): return ds.simMatrix[ds.t2i[word]]\n",
    "cr_dict = {(c,r):rel for c,r,rel in cr_pairs}"
   ]
  },
  {
   "cell_type": "markdown",
   "metadata": {},
   "source": [
    "##### PPMI + Weighted Jaccard Condition"
   ]
  },
  {
   "cell_type": "code",
   "execution_count": 129,
   "metadata": {
    "collapsed": false
   },
   "outputs": [
    {
     "name": "stdout",
     "output_type": "stream",
     "text": [
      "CPU times: user 4.43 s, sys: 1.85 s, total: 6.28 s\n",
      "Wall time: 6.67 s\n"
     ]
    }
   ],
   "source": [
    "%%time\n",
    "ds.build_similarity_matrix('ppmi')"
   ]
  },
  {
   "cell_type": "code",
   "execution_count": 130,
   "metadata": {
    "collapsed": false
   },
   "outputs": [
    {
     "name": "stdout",
     "output_type": "stream",
     "text": [
      "CPU times: user 57.5 s, sys: 174 ms, total: 57.6 s\n",
      "Wall time: 57.7 s\n"
     ]
    }
   ],
   "source": [
    "%%time\n",
    "concepts = defaultdict(list)\n",
    "for concept, relatum, _ in cr_pairs:\n",
    "    concepts[concept] += [(relatum, weighted_jaccard(get_vector(concept),get_vector(relatum)))]"
   ]
  },
  {
   "cell_type": "code",
   "execution_count": 131,
   "metadata": {
    "collapsed": true
   },
   "outputs": [],
   "source": [
    "from operator import itemgetter\n",
    "for word in concepts.keys():\n",
    "    concepts[word] = sorted(concepts[word], key=itemgetter(1), reverse=True)\n",
    "# concepts['frog']\n",
    "# [('lizard', 0.091162496824635675),\n",
    "#  ('toad', 0.078255155511223695),\n",
    "#  ('snake', 0.068625132400646119),\n",
    "#  ('turtle', 0.064585659819217031),\n",
    "#  ('vertebrate', 0.063845815047815918),\n",
    "#  ... ]"
   ]
  },
  {
   "cell_type": "code",
   "execution_count": 132,
   "metadata": {
    "collapsed": false
   },
   "outputs": [
    {
     "name": "stdout",
     "output_type": "stream",
     "text": [
      "Acc@1 (ppmi): 0.81\n"
     ]
    }
   ],
   "source": [
    "num_concepts = len(concepts)\n",
    "correct = 0\n",
    "for concept,relata in concepts.iteritems():\n",
    "    correct += 1 if cr_dict[(concept,relata[0][0])] in ['hyper','coord'] else 0\n",
    "print 'Acc@1 (ppmi): %.2f' % (correct/num_concepts)"
   ]
  },
  {
   "cell_type": "code",
   "execution_count": 133,
   "metadata": {
    "collapsed": false
   },
   "outputs": [
    {
     "name": "stdout",
     "output_type": "stream",
     "text": [
      "Acc@5 (ppmi): 0.71\n"
     ]
    }
   ],
   "source": [
    "num_concepts = len(concepts)*5\n",
    "correct = 0\n",
    "for concept,relata in concepts.iteritems():\n",
    "    for i in xrange(5):\n",
    "        correct += 1 if cr_dict[(concept,relata[i][0])] in ['hyper','coord'] else 0\n",
    "print 'Acc@5 (ppmi): %.2f' % (correct/num_concepts)"
   ]
  },
  {
   "cell_type": "markdown",
   "metadata": {},
   "source": [
    "##### PPMI + Cosine Condition"
   ]
  },
  {
   "cell_type": "code",
   "execution_count": 141,
   "metadata": {
    "collapsed": false
   },
   "outputs": [
    {
     "name": "stdout",
     "output_type": "stream",
     "text": [
      "CPU times: user 4.18 s, sys: 1.68 s, total: 5.85 s\n",
      "Wall time: 6.2 s\n"
     ]
    }
   ],
   "source": [
    "%%time\n",
    "ds.build_similarity_matrix('ppmi')"
   ]
  },
  {
   "cell_type": "code",
   "execution_count": 142,
   "metadata": {
    "collapsed": false
   },
   "outputs": [
    {
     "name": "stdout",
     "output_type": "stream",
     "text": [
      "CPU times: user 124 ms, sys: 956 µs, total: 125 ms\n",
      "Wall time: 125 ms\n"
     ]
    }
   ],
   "source": [
    "%%time\n",
    "concepts = defaultdict(list)\n",
    "for concept, relatum, _ in cr_pairs:\n",
    "    concepts[concept] += [(relatum, csn(get_vector(concept),get_vector(relatum)))]"
   ]
  },
  {
   "cell_type": "code",
   "execution_count": 143,
   "metadata": {
    "collapsed": true
   },
   "outputs": [],
   "source": [
    "from operator import itemgetter\n",
    "for word in concepts.keys():\n",
    "    concepts[word] = sorted(concepts[word], key=itemgetter(1), reverse=True)\n",
    "# concepts['frog']\n",
    "# [('lizard', 0.091162496824635675),\n",
    "#  ('toad', 0.078255155511223695),\n",
    "#  ('snake', 0.068625132400646119),\n",
    "#  ('turtle', 0.064585659819217031),\n",
    "#  ('vertebrate', 0.063845815047815918),\n",
    "#  ... ]"
   ]
  },
  {
   "cell_type": "code",
   "execution_count": 144,
   "metadata": {
    "collapsed": false
   },
   "outputs": [
    {
     "name": "stdout",
     "output_type": "stream",
     "text": [
      "Acc@1 (ppmi): 0.81\n"
     ]
    }
   ],
   "source": [
    "num_concepts = len(concepts)\n",
    "correct = 0\n",
    "for concept,relata in concepts.iteritems():\n",
    "    correct += 1 if cr_dict[(concept,relata[0][0])] in ['hyper','coord'] else 0\n",
    "print 'Acc@1 (ppmi): %.2f' % (correct/num_concepts)"
   ]
  },
  {
   "cell_type": "code",
   "execution_count": 145,
   "metadata": {
    "collapsed": false
   },
   "outputs": [
    {
     "name": "stdout",
     "output_type": "stream",
     "text": [
      "Acc@5 (ppmi): 0.74\n"
     ]
    }
   ],
   "source": [
    "num_concepts = len(concepts)*5\n",
    "correct = 0\n",
    "for concept,relata in concepts.iteritems():\n",
    "    for i in xrange(5):\n",
    "        correct += 1 if cr_dict[(concept,relata[i][0])] in ['hyper','coord'] else 0\n",
    "print 'Acc@5 (ppmi): %.2f' % (correct/num_concepts)"
   ]
  },
  {
   "cell_type": "code",
   "execution_count": null,
   "metadata": {
    "collapsed": true
   },
   "outputs": [],
   "source": []
  }
 ],
 "metadata": {
  "kernelspec": {
   "display_name": "Python 2",
   "language": "python",
   "name": "python2"
  },
  "language_info": {
   "codemirror_mode": {
    "name": "ipython",
    "version": 2
   },
   "file_extension": ".py",
   "mimetype": "text/x-python",
   "name": "python",
   "nbconvert_exporter": "python",
   "pygments_lexer": "ipython2",
   "version": "2.7.11"
  }
 },
 "nbformat": 4,
 "nbformat_minor": 0
}
