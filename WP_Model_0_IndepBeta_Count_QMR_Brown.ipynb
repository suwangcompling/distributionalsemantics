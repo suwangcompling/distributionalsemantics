{
 "cells": [
  {
   "cell_type": "markdown",
   "metadata": {},
   "source": [
    "# Independent Beta Count (Syntax-Context)"
   ]
  },
  {
   "cell_type": "markdown",
   "metadata": {},
   "source": [
    "## 0a. Coding Info\n",
    "\n",
    "* **Corpus**\n",
    "    * Brown\n",
    "    * McRae Norms\n",
    "* **Parser**\n",
    "    * SpaCy\n",
    "* **Algorithm**\n",
    "    * Count-based Indep. Beta Bayesian Updating (Erk 2016)\n",
    "* **Evaluation**\n",
    "    * Precision @1/@5\n",
    "    * Mean Average Precision (MAP) https://www.youtube.com/watch?v=pM6DJ0ZZee0&index=12&list=PLBv09BD7ez_6nqE9YU9bQXpjJ5jJ1Kgr9"
   ]
  },
  {
   "cell_type": "markdown",
   "metadata": {},
   "source": [
    "## 0b. Packages"
   ]
  },
  {
   "cell_type": "code",
   "execution_count": 33,
   "metadata": {
    "collapsed": false
   },
   "outputs": [],
   "source": [
    "import numpy as np\n",
    "import matplotlib.pyplot as plt\n",
    "%matplotlib inline\n",
    "from collections import defaultdict\n",
    "from itertools import chain\n",
    "from __future__ import division\n",
    "from sklearn.metrics import average_precision_score"
   ]
  },
  {
   "cell_type": "markdown",
   "metadata": {},
   "source": [
    "## 0c. Input Preparation"
   ]
  },
  {
   "cell_type": "code",
   "execution_count": 4,
   "metadata": {
    "collapsed": true
   },
   "outputs": [],
   "source": [
    "import cPickle"
   ]
  },
  {
   "cell_type": "code",
   "execution_count": 5,
   "metadata": {
    "collapsed": true
   },
   "outputs": [],
   "source": [
    "concepts,cpt2ft,cpt2ftprob,features = cPickle.load(open(\"/Users/jacobsw/Desktop/UNIV/FALL_2016/LIN389C_RSCH_COMPLING/BAYESIAN/DATA/MCRAE/qmr.p\",'rb'))\n",
    "triples = cPickle.load(open(\"/Users/jacobsw/Desktop/UNIV/FALL_2016/LIN389C_RSCH_COMPLING/BAYESIAN/DATA/BROWN/brown_triples.p\",'rb'))"
   ]
  },
  {
   "cell_type": "code",
   "execution_count": 6,
   "metadata": {
    "collapsed": false
   },
   "outputs": [
    {
     "data": {
      "text/plain": [
       "True"
      ]
     },
     "execution_count": 6,
     "metadata": {},
     "output_type": "execute_result"
    }
   ],
   "source": [
    "len(concepts)==len(set(concepts))"
   ]
  },
  {
   "cell_type": "code",
   "execution_count": 7,
   "metadata": {
    "collapsed": true
   },
   "outputs": [],
   "source": [
    "f2i = {f:i for i,f in enumerate(features)}"
   ]
  },
  {
   "cell_type": "code",
   "execution_count": 8,
   "metadata": {
    "collapsed": false
   },
   "outputs": [],
   "source": [
    "cpt2ftprob_dic = defaultdict(dict)\n",
    "for cpt in concepts:\n",
    "    cpt2ftprob_dic[cpt] = {ft:ftprob for ft,ftprob in zip(cpt2ft[cpt],cpt2ftprob[cpt])}"
   ]
  },
  {
   "cell_type": "code",
   "execution_count": 9,
   "metadata": {
    "collapsed": false,
    "scrolled": true
   },
   "outputs": [
    {
     "data": {
      "text/plain": [
       "{'found_in_libraries': 0.34999999999999998,\n",
       " 'found_in_schools': 0.34999999999999998,\n",
       " 'found_on_shelves': 0.94999999999999996,\n",
       " 'has_a_hard_cover': 0.34999999999999998,\n",
       " 'has_a_soft_cover': 0.34999999999999998,\n",
       " 'has_authors': 1.0,\n",
       " 'has_information': 1.0,\n",
       " 'has_page_numbers': 1.0,\n",
       " 'has_pages': 1.0,\n",
       " 'has_pictures': 0.34999999999999998,\n",
       " 'has_words_in_it': 1.0,\n",
       " 'made_of_paper': 0.94999999999999996,\n",
       " 'tells_stories': 0.34999999999999998,\n",
       " 'used_by_reading': 1.0,\n",
       " 'used_for_acquiring/storing_knowledge': 1.0,\n",
       " 'used_for_learning': 0.34999999999999998}"
      ]
     },
     "execution_count": 9,
     "metadata": {},
     "output_type": "execute_result"
    }
   ],
   "source": [
    "cpt2ftprob_dic['book']"
   ]
  },
  {
   "cell_type": "markdown",
   "metadata": {},
   "source": [
    "## 0d. Disctinctiveness"
   ]
  },
  {
   "cell_type": "code",
   "execution_count": 36,
   "metadata": {
    "collapsed": true
   },
   "outputs": [],
   "source": [
    "def distinctiveness_stats(concepts, features, cpt2ft):\n",
    "    ft2numcpt = defaultdict(int)\n",
    "    ft2distinct = defaultdict(float)\n",
    "    for cpt in concepts:\n",
    "        fts = cpt2ft[cpt]\n",
    "        for ft in fts:\n",
    "            ft2numcpt[ft] += 1\n",
    "    dist_list = [1/ft2numcpt[ft] for ft in ft2numcpt.iterkeys()]\n",
    "    for ft in ft2numcpt.iterkeys():\n",
    "        ft2distinct[ft] = 1/ft2numcpt[ft] \n",
    "    print \"X: Distinctiveness | Y: # Feature having corresponding Distinctiveness\"\n",
    "    print \"Mean: %.2f | Standard Deviation: %.2f\" % (np.mean(dist_list), np.std(dist_list))\n",
    "    print \"Min: %d| Max: %d\" % (min(dist_list), max(dist_list))\n",
    "    plt.hist(dist_list,bins=100)\n",
    "    plt.show()\n",
    "    return ft2distinct"
   ]
  },
  {
   "cell_type": "code",
   "execution_count": 37,
   "metadata": {
    "collapsed": false
   },
   "outputs": [
    {
     "name": "stdout",
     "output_type": "stream",
     "text": [
      "X: Distinctiveness | Y: # Feature having corresponding Distinctiveness\n",
      "Mean: 0.77 | Standard Deviation: 0.33\n",
      "Min: 0| Max: 1\n"
     ]
    },
    {
     "data": {
      "image/png": "[encoded data removed]",
      "text/plain": [
       "<matplotlib.figure.Figure at 0x1366d9a90>"
      ]
     },
     "metadata": {},
     "output_type": "display_data"
    }
   ],
   "source": [
    "ft2distinct = distinctiveness_stats(concepts, features, cpt2ft)"
   ]
  },
  {
   "cell_type": "code",
   "execution_count": 43,
   "metadata": {
    "collapsed": false
   },
   "outputs": [
    {
     "name": "stdout",
     "output_type": "stream",
     "text": [
      "0.010101010101\n",
      "0.333333333333\n",
      "1.0\n"
     ]
    }
   ],
   "source": [
    "print ft2distinct['an_animal']\n",
    "print ft2distinct['eats_mice']\n",
    "print ft2distinct['used_for_wiping_feet']"
   ]
  },
  {
   "cell_type": "markdown",
   "metadata": {},
   "source": [
    "## 0f. General Purpose Functions"
   ]
  },
  {
   "cell_type": "code",
   "execution_count": 10,
   "metadata": {
    "collapsed": false
   },
   "outputs": [],
   "source": [
    "def normalize(arr):\n",
    "    return arr / arr.sum()\n",
    "\n",
    "def partition(l, k):\n",
    "    \"\"\" args: list, # partitions.\n",
    "        returns: a list of k partitions.\n",
    "    \"\"\"\n",
    "    k = max(1, k)\n",
    "    chunk_size = len(l)//k\n",
    "    if len(l)%k==0:\n",
    "        return [l[i:i+chunk_size] for i in xrange(0, len(l), chunk_size)]\n",
    "    return [l[i:i+chunk_size] if idx<k-1 else l[i:] for idx,i in enumerate(xrange(0, len(l), chunk_size))][:-1]"
   ]
  },
  {
   "cell_type": "markdown",
   "metadata": {},
   "source": [
    "## I. Preprocessing"
   ]
  },
  {
   "cell_type": "markdown",
   "metadata": {},
   "source": [
    "### A. Mappings\n",
    "\n",
    "* Verb-Role $\\mapsto$ Concept List/Set Mapping\n",
    "* Concept $\\mapsto$ Verb-Role List/Set Mapping"
   ]
  },
  {
   "cell_type": "code",
   "execution_count": 11,
   "metadata": {
    "collapsed": true
   },
   "outputs": [],
   "source": [
    "def preproc_mapping(concepts, triples):\n",
    "    \"\"\" args: concepts, features, concept->feature mapping, concept->P(feature) mapping, dependency triples.\n",
    "        returns: verb-role->concept-set mapping.\n",
    "    \"\"\"\n",
    "    concepts_set = set(concepts) # for fast lookup.\n",
    "    vr2c = defaultdict(set)\n",
    "    c2vr = defaultdict(list)\n",
    "    for word,dep,head in triples:\n",
    "        if word in concepts_set and (dep=='nsubj' or dep=='dobj'):\n",
    "            vr2c[head+'-'+dep].add(word)\n",
    "            c2vr[word].append(head+'-'+dep)\n",
    "    return vr2c, c2vr"
   ]
  },
  {
   "cell_type": "code",
   "execution_count": 12,
   "metadata": {
    "collapsed": true
   },
   "outputs": [],
   "source": [
    "vr2c, c2vr = preproc_mapping(concepts, triples)"
   ]
  },
  {
   "cell_type": "code",
   "execution_count": 13,
   "metadata": {
    "collapsed": false
   },
   "outputs": [
    {
     "name": "stdout",
     "output_type": "stream",
     "text": [
      "955\n"
     ]
    }
   ],
   "source": [
    "vrs = vr2c.keys() # global verb-role pair indexing.\n",
    "vr2i = {vr:i for i,vr in enumerate(vrs)}\n",
    "print len(vrs)"
   ]
  },
  {
   "cell_type": "code",
   "execution_count": 14,
   "metadata": {
    "collapsed": false
   },
   "outputs": [
    {
     "name": "stdout",
     "output_type": "stream",
     "text": [
      "311\n"
     ]
    }
   ],
   "source": [
    "concepts_subset = c2vr.keys() # ORDER DOESN'T MATTER\n",
    "print len(concepts_subset)"
   ]
  },
  {
   "cell_type": "markdown",
   "metadata": {},
   "source": [
    "### B. Train-Test Split"
   ]
  },
  {
   "cell_type": "code",
   "execution_count": 15,
   "metadata": {
    "collapsed": true
   },
   "outputs": [],
   "source": [
    "def preproc_split(concepts, k=5):\n",
    "    \"\"\" arg: concepts, cv numbers.\n",
    "        returns: k .8/.2 train-test splits.\n",
    "    \"\"\"\n",
    "    # random.shuffle(concepts) # TODO: messing up with the indexing. will fix later.\n",
    "    concept_chunks = partition(concepts, k)\n",
    "    train_test_splits = []\n",
    "    for i in range(k):\n",
    "        train_cpts = list(chain.from_iterable([concept_chunk for j,concept_chunk in enumerate(concept_chunks)\n",
    "                                               if j!=i]))\n",
    "        test_cpts = concept_chunks[i]\n",
    "        train_test_splits.append((train_cpts,test_cpts))\n",
    "    return train_test_splits"
   ]
  },
  {
   "cell_type": "code",
   "execution_count": 16,
   "metadata": {
    "collapsed": true
   },
   "outputs": [],
   "source": [
    "train_test_splits = preproc_split(concepts_subset)"
   ]
  },
  {
   "cell_type": "code",
   "execution_count": 17,
   "metadata": {
    "collapsed": false
   },
   "outputs": [
    {
     "name": "stdout",
     "output_type": "stream",
     "text": [
      "[u'wagon', u'bat', u'clam', u'peacock', u'tongs', u'level', u'cigar', u'bracelet', u'gun', u'pencil', u'swimsuit', u'axe', u'bag', u'microscope', u'hatchet', u'gloves', u'subway', u'rock', u'nightingale', u'mouse', u'garage', u'tray', u'trailer', u'lantern', u'turtle', u'butterfly', u'fence', u'cage', u'house', u'duck', u'crown', u'worm', u'lion', u'cellar', u'mirror', u'candle', u'marble', u'hammer', u'chicken', u'whip', u'barn', u'moth', u'peg', u'closet', u'clock', u'kettle', u'fox', u'revolver', u'vest', u'mug', u'stool', u'bureau', u'pistol', u'slingshot', u'knife', u'tent', u'cockroach', u'sheep', u'pepper', u'hose', u'umbrella', u'camel', u'pear', u'corn', u'cart', u'cork', u'guitar', u'spoon', u'grasshopper', u'sink', u'key', u'goldfish', u'comb', u'grenade', u'card', u'box', u'stone', u'drum', u'jet', u'cow', u'saddle', u'jeep', u'walrus', u'biscuit', u'anchor', u'magazine', u'cod', u'falcon', u'ox', u'coin', u'buckle', u'scarf', u'clamp', u'shovel', u'apple', u'spear', u'toilet', u'wall', u'jar', u'pot', u'bayonet', u'coconut', u'sack', u'cloak', u'vine', u'brush', u'church', u'table', u'ring', u'boat', u'belt', u'turkey', u'razor', u'horse', u'toy', u'van', u'certificate', u'pearl', u'dove', u'sweater', u'doll', u'frog', u'submarine', u'crow', u'helicopter', u'brick', u'limousine', u'banana', u'calf', u'fork', u'tomato', u'shell', u'door', u'squirrel', u'bus', u'shawl', u'buggy', u'envelope', u'faucet', u'tripod', u'cabinet', u'hut', u'orange', u'train', u'stick', u'rabbit', u'rifle', u'cottage', u'coyote', u'crane', u'rooster', u'radish', u'robe', u'tortoise', u'tank', u'car', u'ruler', u'cap', u'chisel', u'rat', u'bed', u'cat', u'rope', u'cabin', u'drill', u'coat', u'cake', u'bathtub', u'plug', u'tractor', u'shrimp', u'bridge', u'donkey', u'mink', u'pony', u'pin', u'canoe', u'pie', u'seal', u'deer', u'telephone', u'pig', u'ant', u'inn', u'carrot', u'cathedral', u'violin', u'ship', u'bow', u'skirt', u'airplane', u'spade', u'lamb', u'jacket', u'lemon', u'shirt', u'peach', u'mole', u'dress', u'balloon', u'bowl', u'couch', u'lamp', u'book', u'parakeet', u'sword', u'elephant', u'tie', u'saucer', u'goat', u'pan', u'typewriter', u'wheel', u'ball', u'cupboard', u'mat', u'snail', u'toad', u'football', u'pineapple', u'bucket', u'cigarette', u'tack', u'garlic', u'salamander', u'apron', u'cabbage', u'missile', u'medal', u'building', u'stereo', u'sardine', u'bullet', u'potato', u'shotgun', u'urn', u'napkin', u'hawk', u'dog', u'pillow', u'pipe', u'truck', u'bottle', u'ambulance', u'basket', u'barrel', u'buffalo', u'eagle', u'drain']\n",
      "\n",
      "[u'taxi', u'gown', u'bull', u'bomb', u'kite', u'rocket', u'owl', u'pigeon', u'stove', u'desk', u'doorknob', u'rattlesnake', u'crocodile', u'rattle', u'radio', u'oven', u'bedroom', u'dish', u'pheasant', u'chair', u'carpet', u'muzzle', u'apartment', u'grape', u'chain', u'cup', u'basement', u'menu', u'broom', u'swan', u'avocado', u'pen', u'bench', u'celery', u'bouquet', u'thimble', u'tape', u'board', u'wasp', u'bin', u'piano', u'rice', u'pumpkin', u'sailboat', u'plate', u'tap', u'lime', u'python', u'cannon', u'thermometer', u'vulture', u'bear', u'baton', u'whistle', u'caterpillar', u'fan', u'cushion', u'gate', u'flea', u'cape', u'banner', u'bread']\n",
      "\n",
      "5\n"
     ]
    }
   ],
   "source": [
    "print train_test_splits[0][0]; print\n",
    "print train_test_splits[0][1]; print\n",
    "print len(train_test_splits)"
   ]
  },
  {
   "cell_type": "markdown",
   "metadata": {},
   "source": [
    "** ================== NB: The objects above this line are globally referenced!! ==================**"
   ]
  },
  {
   "cell_type": "markdown",
   "metadata": {},
   "source": [
    "## II. Learning"
   ]
  },
  {
   "cell_type": "code",
   "execution_count": 18,
   "metadata": {
    "collapsed": false
   },
   "outputs": [],
   "source": [
    "def to_ft_vec(cpt):\n",
    "    \"\"\" args: a concept\n",
    "        returns: a len(features) array of feature probs in numpy array.\n",
    "    \"\"\"\n",
    "    return np.array([cpt2ftprob_dic[cpt][ft] if ft in cpt2ftprob_dic[cpt] else 0 for ft in features],dtype=np.float32)\n",
    "\n",
    "def learn_stc(train_cpts):\n",
    "    \n",
    "    vr2ftabs = defaultdict(lambda : np.array([[1,1] for _ in range(len(features))],dtype=np.float32))\n",
    "    for vr in vrs:\n",
    "        cpts = list(vr2c[vr])\n",
    "        for cpt in filter(lambda cpt:cpt in train_cpts, cpts):\n",
    "            cpt_ftprobs = to_ft_vec(cpt)\n",
    "            for f_i in range(len(features)):\n",
    "                if cpt_ftprobs[f_i]!=0:\n",
    "                    vr2ftabs[vr][f_i] = [vr2ftabs[vr][f_i][0]+cpt_ftprobs[f_i], \n",
    "                                         vr2ftabs[vr][f_i][1]+(1-cpt_ftprobs[f_i])]\n",
    "                else:\n",
    "                    vr2ftabs[vr][f_i] = [vr2ftabs[vr][f_i][0], \n",
    "                                         vr2ftabs[vr][f_i][1]+1]                    \n",
    "    return vr2ftabs\n",
    "\n",
    "# def learn_bin(train_cpts):\n",
    "\n",
    "#     vr2ftabs = defaultdict(lambda : np.array([[1,1] for _ in range(len(features))],dtype=np.float32))\n",
    "#     for vr in vrs:\n",
    "#         cpts = list(vr2c[vr])\n",
    "#         for cpt in filter(lambda cpt:cpt in train_cpts, cpts):\n",
    "#             cpt_ftprobs = to_ft_vec(cpt)\n",
    "#             for f_i in range(len(features)):\n",
    "#                 if cpt_ftprobs[f_i]!=0:\n",
    "#                     vr2ftabs[vr][f_i] = [vr2ftabs[vr][f_i][0]+1, vr2ftabs[vr][f_i][0]] # if pos, alpha+1\n",
    "#                 else:\n",
    "#                     vr2ftabs[vr][f_i] = [vr2ftabs[vr][f_i][0], vr2ftabs[vr][f_i][1]+1] # if neg, beta+1\n",
    "#     return vr2ftabs"
   ]
  },
  {
   "cell_type": "code",
   "execution_count": 19,
   "metadata": {
    "collapsed": true
   },
   "outputs": [],
   "source": [
    "# t = learn_bin(train_test_splits[0][0])"
   ]
  },
  {
   "cell_type": "code",
   "execution_count": 199,
   "metadata": {
    "collapsed": false,
    "scrolled": true
   },
   "outputs": [],
   "source": [
    "# for i,(a,b) in enumerate(t['feed-dobj']):\n",
    "#     if a!=1:\n",
    "#         print a,b,features[i]"
   ]
  },
  {
   "cell_type": "code",
   "execution_count": 20,
   "metadata": {
    "collapsed": true
   },
   "outputs": [],
   "source": [
    "# t = learn_stc(train_test_splits[0][0])"
   ]
  },
  {
   "cell_type": "code",
   "execution_count": 21,
   "metadata": {
    "collapsed": false,
    "scrolled": false
   },
   "outputs": [],
   "source": [
    "# for i,(a,b) in enumerate(t['feed-dobj']):\n",
    "#     print a,b,features[i]"
   ]
  },
  {
   "cell_type": "markdown",
   "metadata": {},
   "source": [
    "## III. Inference"
   ]
  },
  {
   "cell_type": "code",
   "execution_count": 22,
   "metadata": {
    "collapsed": true
   },
   "outputs": [],
   "source": [
    "def infer_stc(train_test_splits):\n",
    "    \n",
    "    cpt2ftabs = defaultdict(lambda : np.array([[1,1] for _ in range(len(features))],dtype=np.float32))\n",
    "    for train_cpts,test_cpts in train_test_splits:\n",
    "        vr2ftabs = learn_stc(train_cpts)\n",
    "        for cpt in test_cpts:\n",
    "            ftabs = np.array([[1,1] for _ in range(len(features))],dtype=np.float32)\n",
    "            for vr in c2vr[cpt]:\n",
    "                vr_ftabs = vr2ftabs[vr]\n",
    "                for f_i in range(len(features)):\n",
    "                    ftabs[f_i] = [ftabs[f_i][0]+vr_ftabs[f_i][0],\n",
    "                                  ftabs[f_i][1]+vr_ftabs[f_i][1]]\n",
    "            cpt2ftabs[cpt] = ftabs\n",
    "    return cpt2ftabs\n",
    "\n",
    "# def infer_bin(train_test_splits):\n",
    "    \n",
    "#     cpt2ftabs = defaultdict(lambda : np.array([[1,1] for _ in range(len(features))],dtype=np.float32))\n",
    "#     for train_cpts,test_cpts in train_test_splits:\n",
    "#         vr2ftabs = learn_bin(train_cpts)\n",
    "#         for cpt in test_cpts:\n",
    "#             ftabs = np.array([[1,1] for _ in range(len(features))],dtype=np.float32)\n",
    "#             for vr in c2vr[cpt]:\n",
    "#                 vr_ftabs = vr2ftabs[vr]\n",
    "#                 for f_i in range(len(features)):\n",
    "#                     if not (vr_ftabs[f_i][0]==1 and vr_ftabs[f_i][1]==1): # means there's evidence at this feature.\n",
    "#                         ftabs[f_i] = [ftabs[f_i][0]+vr_ftabs[f_i][0],\n",
    "#                                       ftabs[f_i][1]+vr_ftabs[f_i][1]]                       \n",
    "#             cpt2ftabs[cpt] = ftabs\n",
    "#     return cpt2ftabs"
   ]
  },
  {
   "cell_type": "code",
   "execution_count": 23,
   "metadata": {
    "collapsed": false,
    "scrolled": true
   },
   "outputs": [
    {
     "name": "stdout",
     "output_type": "stream",
     "text": [
      "CPU times: user 2min 21s, sys: 1.1 s, total: 2min 22s\n",
      "Wall time: 2min 22s\n"
     ]
    }
   ],
   "source": [
    "%%time\n",
    "cpt2ftabs_stc = infer_stc(train_test_splits)"
   ]
  },
  {
   "cell_type": "code",
   "execution_count": 24,
   "metadata": {
    "collapsed": false
   },
   "outputs": [],
   "source": [
    "# %%time\n",
    "# cpt2ftabs_bin = infer_bin(train_test_splits)"
   ]
  },
  {
   "cell_type": "code",
   "execution_count": 206,
   "metadata": {
    "collapsed": false,
    "scrolled": true
   },
   "outputs": [],
   "source": [
    "# for i,(a,b) in enumerate(cpt2ftabs_bin['cat']):\n",
    "#     if a>b:\n",
    "#         print a,b, a/b, features[i]"
   ]
  },
  {
   "cell_type": "code",
   "execution_count": 200,
   "metadata": {
    "collapsed": false,
    "scrolled": false
   },
   "outputs": [],
   "source": [
    "# for i,(a,b) in enumerate(cpt2ftabs_bin['cat']):\n",
    "#     if a<b:\n",
    "#         print a,b, a/b, features[i]"
   ]
  },
  {
   "cell_type": "code",
   "execution_count": 201,
   "metadata": {
    "collapsed": false
   },
   "outputs": [],
   "source": [
    "# for i,(a,b) in enumerate(cpt2ftabs_stc['cat']):\n",
    "#     if a>b:\n",
    "#         print a,b, a/b, features[i]"
   ]
  },
  {
   "cell_type": "code",
   "execution_count": 202,
   "metadata": {
    "collapsed": false
   },
   "outputs": [],
   "source": [
    "# for i,(a,b) in enumerate(cpt2ftabs_stc['cat']):\n",
    "#     if a<b:\n",
    "#         print a,b, a/b, features[i]"
   ]
  },
  {
   "cell_type": "code",
   "execution_count": 44,
   "metadata": {
    "collapsed": true
   },
   "outputs": [],
   "source": [
    "def to_probdist(cpt2ftabs):\n",
    "    cpt2ftdist = defaultdict(lambda : np.zeros(len(features)))\n",
    "    for cpt in cpt2ftabs.iterkeys():\n",
    "        cpt2ftdist[cpt] = np.array([cpt2ftabs[cpt][f_i][0]/(cpt2ftabs[cpt][f_i][0]+cpt2ftabs[cpt][f_i][1])\n",
    "                                    for f_i in range(len(features))])\n",
    "    return cpt2ftdist\n",
    "\n",
    "# def to_probdist2(cpt2ftabs): # weight predictions by distinctiveness\n",
    "#     cpt2ftdist = defaultdict(lambda : np.zeros(len(features)))\n",
    "#     for cpt in cpt2ftabs.iterkeys():\n",
    "#         cpt2ftdist[cpt] = np.array([(cpt2ftabs[cpt][f_i][0]/(cpt2ftabs[cpt][f_i][0]+cpt2ftabs[cpt][f_i][1])) *\\\n",
    "#                                     ft2distinct[ft]\n",
    "#                                     for f_i,ft in enumerate(features)])\n",
    "#     return cpt2ftdist"
   ]
  },
  {
   "cell_type": "code",
   "execution_count": 26,
   "metadata": {
    "collapsed": true
   },
   "outputs": [],
   "source": [
    "%%time\n",
    "cpt2ftdist_stc = to_probdist(cpt2ftabs_stc)"
   ]
  },
  {
   "cell_type": "code",
   "execution_count": 58,
   "metadata": {
    "collapsed": true
   },
   "outputs": [],
   "source": [
    "# cpt2ftdist_stc2 = to_probdist2(cpt2ftabs_stc)"
   ]
  },
  {
   "cell_type": "code",
   "execution_count": 209,
   "metadata": {
    "collapsed": false
   },
   "outputs": [],
   "source": [
    "# cpt2ftdist_bin = to_probdist(cpt2ftabs_bin)"
   ]
  },
  {
   "cell_type": "markdown",
   "metadata": {},
   "source": [
    "## IV. Evaluation"
   ]
  },
  {
   "cell_type": "code",
   "execution_count": 85,
   "metadata": {
    "collapsed": true
   },
   "outputs": [],
   "source": [
    "def evaluate_prec(cpt2ftdist):\n",
    "    precs_1, precs_5, precs_10, precs_20, precs_50 = [], [], [], [], []\n",
    "    for cpt in cpt2ftdist.iterkeys():\n",
    "        true_fts = cpt2ft[cpt]\n",
    "        pred_fts = map(lambda f_i:features[f_i], np.argsort(cpt2ftdist[cpt])[::-1])\n",
    "        precs_1.append(1 if pred_fts[0] in true_fts else 0)\n",
    "        precs_5.append(sum(1 if pred_ft in true_fts else 0 for pred_ft in pred_fts[:5]) / 5)\n",
    "        precs_10.append(sum(1 if pred_ft in true_fts else 0 for pred_ft in pred_fts[:10]) / 10)\n",
    "        precs_20.append(sum(1 if pred_ft in true_fts else 0 for pred_ft in pred_fts[:20]) / 20)\n",
    "        precs_50.append(sum(1 if pred_ft in true_fts else 0 for pred_ft in pred_fts[:50]) / 50)\n",
    "    print \"Average Prec @1: %.6f%%\" % (np.mean(precs_1)*100)\n",
    "    print \"Average Prec @5: %.6f%%\" % (np.mean(precs_5)*100)\n",
    "    print \"Average Prec @10: %.6f%%\" % (np.mean(precs_10)*100)\n",
    "    print \"Average Prec @20: %.6f%%\" % (np.mean(precs_20)*100)\n",
    "    print \"Average Prec @50: %.6f%%\" % (np.mean(precs_50)*100)"
   ]
  },
  {
   "cell_type": "code",
   "execution_count": 28,
   "metadata": {
    "collapsed": true
   },
   "outputs": [],
   "source": [
    "def evaluate_map(cpt2ftdist):\n",
    "    aps = []\n",
    "    for cpt in cpt2ftdist.iterkeys():\n",
    "        true_ftbin = np.array([1 if ft in cpt2ft[cpt] else 0 for ft in features])\n",
    "        pred_ftdist = normalize(cpt2ftdist[cpt])\n",
    "        aps.append(average_precision_score(true_ftbin, pred_ftdist))\n",
    "    print \"MAP: %.6f%%\" % (np.mean(aps)*100)"
   ]
  },
  {
   "cell_type": "code",
   "execution_count": 47,
   "metadata": {
    "collapsed": false,
    "scrolled": true
   },
   "outputs": [
    {
     "name": "stdout",
     "output_type": "stream",
     "text": [
      "Average Prec @1: 23.472669%\n",
      "Average Prec @5: 16.141479%\n",
      "MAP: 12.103578%\n"
     ]
    }
   ],
   "source": [
    "evaluate_prec(cpt2ftdist_stc)\n",
    "evaluate_map(cpt2ftdist_stc)"
   ]
  },
  {
   "cell_type": "code",
   "execution_count": 59,
   "metadata": {
    "collapsed": false
   },
   "outputs": [],
   "source": [
    "# evaluate_prec(cpt2ftdist_stc2)\n",
    "# evaluate_map(cpt2ftdist_stc2)\n",
    "# Average Prec @1: 0.000000%\n",
    "# Average Prec @5: 0.000000%\n",
    "# MAP: 1.144657%"
   ]
  },
  {
   "cell_type": "code",
   "execution_count": 30,
   "metadata": {
    "collapsed": false
   },
   "outputs": [],
   "source": [
    "# evaluate_prec(cpt2ftdist_bin)\n",
    "# evaluate_map(cpt2ftdist_bin)"
   ]
  },
  {
   "cell_type": "markdown",
   "metadata": {},
   "source": [
    "## V. Revision & Error Analysis"
   ]
  },
  {
   "cell_type": "markdown",
   "metadata": {},
   "source": [
    "### A. Experiment: Learn only from informative verb-role pairs (unmask distinctive features)"
   ]
  },
  {
   "cell_type": "code",
   "execution_count": 52,
   "metadata": {
    "collapsed": false
   },
   "outputs": [
    {
     "data": {
      "text/plain": [
       "[(u'be-nsubj', 100),\n",
       " (u'have-dobj', 53),\n",
       " (u'take-dobj', 33),\n",
       " (u'put-dobj', 33),\n",
       " (u'have-nsubj', 30),\n",
       " (u'get-dobj', 29),\n",
       " (u'use-dobj', 25),\n",
       " (u'come-nsubj', 23),\n",
       " (u'leave-dobj', 19),\n",
       " (u'carry-dobj', 18),\n",
       " (u'turn-dobj', 18),\n",
       " (u'hold-dobj', 17),\n",
       " (u'see-dobj', 17),\n",
       " (u'go-nsubj', 17),\n",
       " (u'drop-dobj', 15),\n",
       " (u'make-dobj', 14),\n",
       " (u'bring-dobj', 14),\n",
       " (u'wear-dobj', 13),\n",
       " (u'find-dobj', 13),\n",
       " (u'give-dobj', 13),\n",
       " (u'pick-dobj', 13),\n",
       " (u'buy-dobj', 13),\n",
       " (u'do-nsubj', 12),\n",
       " (u'build-dobj', 12),\n",
       " (u'keep-dobj', 12),\n",
       " (u'begin-nsubj', 11),\n",
       " (u'move-nsubj', 11),\n",
       " (u'enter-dobj', 11),\n",
       " (u'play-dobj', 10),\n",
       " (u'offer-dobj', 10),\n",
       " (u'open-dobj', 10),\n",
       " (u'stand-nsubj', 10),\n",
       " (u'fill-dobj', 10),\n",
       " (u'need-dobj', 9),\n",
       " (u'watch-dobj', 9),\n",
       " (u'send-dobj', 9),\n",
       " (u'pull-dobj', 9),\n",
       " (u'give-nsubj', 8),\n",
       " (u'grab-dobj', 8),\n",
       " (u'add-dobj', 8),\n",
       " (u'lay-dobj', 8),\n",
       " (u'take-nsubj', 8),\n",
       " (u'fall-nsubj', 8),\n",
       " (u'look-nsubj', 8),\n",
       " (u'run-nsubj', 8),\n",
       " (u'hand-dobj', 8),\n",
       " (u'do-dobj', 7),\n",
       " (u'throw-dobj', 7),\n",
       " (u'swing-dobj', 7),\n",
       " (u'push-dobj', 7),\n",
       " (u'remove-dobj', 7),\n",
       " (u'toss-dobj', 7),\n",
       " (u'become-nsubj', 7),\n",
       " (u'reach-dobj', 7),\n",
       " (u'set-dobj', 7),\n",
       " (u'contain-nsubj', 6),\n",
       " (u'pass-nsubj', 6),\n",
       " (u'keep-nsubj', 6),\n",
       " (u'want-dobj', 6),\n",
       " (u'stop-nsubj', 6),\n",
       " (u'fix-dobj', 6),\n",
       " (u'lift-dobj', 6),\n",
       " (u'move-dobj', 6),\n",
       " (u'make-nsubj', 6),\n",
       " (u'raise-dobj', 6),\n",
       " (u'provide-nsubj', 6),\n",
       " (u'say-nsubj', 6),\n",
       " (u'find-nsubj', 6),\n",
       " (u'feed-dobj', 6),\n",
       " (u'show-nsubj', 6),\n",
       " (u'place-dobj', 6),\n",
       " (u'get-nsubj', 5),\n",
       " (u'catch-dobj', 5),\n",
       " (u'turn-nsubj', 5),\n",
       " (u'form-dobj', 5),\n",
       " (u'approach-dobj', 5),\n",
       " (u'include-dobj', 5),\n",
       " (u'show-dobj', 5),\n",
       " (u'need-nsubj', 5),\n",
       " (u'drive-dobj', 5),\n",
       " (u'run-dobj', 5),\n",
       " (u'bring-nsubj', 5),\n",
       " (u'cover-dobj', 5),\n",
       " (u'close-dobj', 5),\n",
       " (u'meet-dobj', 5),\n",
       " (u'clean-dobj', 5),\n",
       " (u'receive-dobj', 5),\n",
       " (u'contain-dobj', 5),\n",
       " (u'include-nsubj', 5),\n",
       " (u'draw-dobj', 5),\n",
       " (u'follow-dobj', 5),\n",
       " (u'provide-dobj', 5),\n",
       " (u'visit-dobj', 5),\n",
       " (u'fill-nsubj', 5),\n",
       " (u'own-dobj', 5),\n",
       " (u'cut-dobj', 5),\n",
       " (u'play-nsubj', 4),\n",
       " (u'report-nsubj', 4),\n",
       " (u'obtain-dobj', 4),\n",
       " (u'clutch-dobj', 4),\n",
       " (u'consider-dobj', 4),\n",
       " (u'fly-dobj', 4),\n",
       " (u'drop-nsubj', 4),\n",
       " (u'know-nsubj', 4),\n",
       " (u'roll-nsubj', 4),\n",
       " (u'produce-dobj', 4),\n",
       " (u'rise-nsubj', 4),\n",
       " (u'pass-dobj', 4),\n",
       " (u'tear-dobj', 4),\n",
       " (u'hit-dobj', 4),\n",
       " (u'maintain-dobj', 4),\n",
       " (u'choose-dobj', 4),\n",
       " (u'sound-nsubj', 4),\n",
       " (u'pick-nsubj', 4),\n",
       " (u'jerk-dobj', 4),\n",
       " (u'fly-nsubj', 4),\n",
       " (u'saw-dobj', 4),\n",
       " (u'hold-nsubj', 4),\n",
       " (u'feature-dobj', 4),\n",
       " (u'announce-nsubj', 4),\n",
       " (u'stop-dobj', 4),\n",
       " (u'wipe-dobj', 4),\n",
       " (u'point-nsubj', 4),\n",
       " (u'pull-nsubj', 4),\n",
       " (u'change-dobj', 4),\n",
       " (u'hang-nsubj', 4),\n",
       " (u'touch-nsubj', 4),\n",
       " (u'follow-nsubj', 4),\n",
       " (u'shake-dobj', 4),\n",
       " (u'supply-dobj', 4),\n",
       " (u'light-dobj', 4),\n",
       " (u'notice-dobj', 3),\n",
       " (u'smash-dobj', 3),\n",
       " (u'open-nsubj', 3),\n",
       " (u'fee-dobj', 3),\n",
       " (u'meet-nsubj', 3),\n",
       " (u'eat-dobj', 3),\n",
       " (u'fire-dobj', 3),\n",
       " (u'burn-dobj', 3),\n",
       " (u'draw-nsubj', 3),\n",
       " (u'join-nsubj', 3),\n",
       " (u'grow-nsubj', 3),\n",
       " (u'start-nsubj', 3),\n",
       " (u'indicate-nsubj', 3),\n",
       " (u'destroy-nsubj', 3),\n",
       " (u\"''-dobj\", 3),\n",
       " (u'call-nsubj', 3),\n",
       " (u'force-dobj', 3),\n",
       " (u'lean-nsubj', 3),\n",
       " (u'slide-nsubj', 3),\n",
       " (u'kill-dobj', 3),\n",
       " (u'bear-nsubj', 3),\n",
       " (u'check-dobj', 3),\n",
       " (u'ready-nsubj', 3),\n",
       " (u'lend-dobj', 3),\n",
       " (u'hang-dobj', 3),\n",
       " (u'furnish-dobj', 3),\n",
       " (u'straighten-dobj', 3),\n",
       " (u'strike-nsubj', 3),\n",
       " (u'develop-dobj', 3),\n",
       " (u'mention-dobj', 3),\n",
       " (u'connect-dobj', 3),\n",
       " (u'lose-dobj', 3),\n",
       " (u'travel-nsubj', 3),\n",
       " (u'sponsor-nsubj', 3),\n",
       " (u'arrive-nsubj', 3),\n",
       " (u'swing-nsubj', 3),\n",
       " (u'carry-nsubj', 3),\n",
       " (u'sell-dobj', 3),\n",
       " (u'cut-nsubj', 3),\n",
       " (u'lead-dobj', 3),\n",
       " (u'order-dobj', 3),\n",
       " (u'strike-dobj', 3),\n",
       " (u'hit-nsubj', 3),\n",
       " (u'continue-nsubj', 3),\n",
       " (u'call-dobj', 3),\n",
       " (u'increase-nsubj', 3),\n",
       " (u'snatch-dobj', 3),\n",
       " (u'flip-dobj', 3),\n",
       " (u'slip-dobj', 3),\n",
       " (u'wait-nsubj', 3),\n",
       " (u'design-dobj', 3),\n",
       " (u'lose-nsubj', 3),\n",
       " (u'face-dobj', 3),\n",
       " (u'hear-dobj', 3),\n",
       " (u'finish-dobj', 3),\n",
       " (u'afford-nsubj', 3),\n",
       " (u'haul-dobj', 3),\n",
       " (u'return-nsubj', 3),\n",
       " (u'discuss-dobj', 3),\n",
       " (u'rid-dobj', 3),\n",
       " (u'guard-dobj', 3),\n",
       " (u'fit-dobj', 3),\n",
       " (u'present-nsubj', 3),\n",
       " (u'swoop-dobj', 2),\n",
       " (u'lift-nsubj', 2),\n",
       " (u'use-nsubj', 2),\n",
       " (u'point-dobj', 2),\n",
       " (u'march-nsubj', 2),\n",
       " (u'fire-nsubj', 2),\n",
       " (u'train-dobj', 2),\n",
       " (u'rattle-dobj', 2),\n",
       " (u'require-dobj', 2),\n",
       " (u'prove-nsubj', 2),\n",
       " (u'regard-dobj', 2),\n",
       " (u'dry-nsubj', 2),\n",
       " (u'prepare-dobj', 2),\n",
       " (u'slice-dobj', 2),\n",
       " (u'handle-dobj', 2),\n",
       " (u'bury-dobj', 2),\n",
       " (u'click-dobj', 2),\n",
       " (u'identify-nsubj', 2),\n",
       " (u'lay-nsubj', 2),\n",
       " (u'unlock-dobj', 2),\n",
       " (u'empty-dobj', 2),\n",
       " (u'start-dobj', 2),\n",
       " (u'saw-nsubj', 2),\n",
       " (u'out-nsubj', 2),\n",
       " (u'depict-dobj', 2),\n",
       " (u'lead-nsubj', 2),\n",
       " (u'note-nsubj', 2),\n",
       " (u'eye-dobj', 2),\n",
       " (u'erect-dobj', 2),\n",
       " (u\"'-nsubj\", 2),\n",
       " (u'discharge-nsubj', 2),\n",
       " (u'locate-dobj', 2),\n",
       " (u'set-nsubj', 2),\n",
       " (u'cost-nsubj', 2),\n",
       " (u'peck-dobj', 2),\n",
       " (u'hurl-dobj', 2),\n",
       " (u'break-nsubj', 2),\n",
       " (u'walk-dobj', 2),\n",
       " (u'dump-dobj', 2),\n",
       " (u'untie-dobj', 2),\n",
       " (u'ask-dobj', 2),\n",
       " (u'select-dobj', 2),\n",
       " (u'return-dobj', 2),\n",
       " (u'arrange-dobj', 2),\n",
       " (u'favor-nsubj', 2),\n",
       " (u'rend-dobj', 2),\n",
       " (u'whip-dobj', 2),\n",
       " (u'break-dobj', 2),\n",
       " (u'tend-nsubj', 2),\n",
       " (u'reserve-dobj', 2),\n",
       " (u'tie-dobj', 2),\n",
       " (u'bang-dobj', 2),\n",
       " (u'enter-nsubj', 2),\n",
       " (u'cease-nsubj', 2),\n",
       " (u'burst-nsubj', 2),\n",
       " (u'suffer-nsubj', 2),\n",
       " (u'collect-dobj', 2),\n",
       " (u'line-nsubj', 2),\n",
       " (u'like-dobj', 2),\n",
       " (u'publish-dobj', 2),\n",
       " (u'smoke-dobj', 2),\n",
       " (u'house-dobj', 2),\n",
       " (u'illustrate-nsubj', 2),\n",
       " (u'pursue-nsubj', 2),\n",
       " (u'fit-nsubj', 2),\n",
       " (u'appear-nsubj', 2),\n",
       " (u'read-dobj', 2),\n",
       " (u'grip-dobj', 2),\n",
       " (u'punch-dobj', 2),\n",
       " (u'tuck-dobj', 2),\n",
       " (u'maneuver-dobj', 2),\n",
       " (u'regulate-dobj', 2),\n",
       " (u'crash-nsubj', 2),\n",
       " (u'spin-nsubj', 2),\n",
       " (u'lower-dobj', 2),\n",
       " (u'abandon-dobj', 2),\n",
       " (u'match-dobj', 2),\n",
       " (u'study-dobj', 2),\n",
       " (u'throw-nsubj', 2),\n",
       " (u'enjoy-nsubj', 2),\n",
       " (u'lack-dobj', 2),\n",
       " (u'enjoy-dobj', 2),\n",
       " (u'avoid-dobj', 2),\n",
       " (u'drag-dobj', 2),\n",
       " (u'examine-dobj', 2),\n",
       " (u'mean-nsubj', 2),\n",
       " (u'sign-dobj', 2),\n",
       " (u'replace-nsubj', 2),\n",
       " (u'drown-nsubj', 2),\n",
       " (u'feel-dobj', 2),\n",
       " (u'resemble-dobj', 2),\n",
       " (u'hug-dobj', 2),\n",
       " (u'purchase-dobj', 2),\n",
       " (u'burn-nsubj', 2),\n",
       " (u'tear-nsubj', 2),\n",
       " (u'share-dobj', 2),\n",
       " (u'seize-dobj', 2),\n",
       " (u'love-dobj', 2),\n",
       " (u'rotate-nsubj', 2),\n",
       " (u'lock-dobj', 2),\n",
       " (u'protect-dobj', 2),\n",
       " (u'attack-dobj', 2),\n",
       " (u'serve-dobj', 2),\n",
       " (u'touch-dobj', 2),\n",
       " (u'know-dobj', 2),\n",
       " (u'insert-dobj', 2),\n",
       " (u'replace-dobj', 2),\n",
       " (u'dent-dobj', 2),\n",
       " (u'plod-nsubj', 2),\n",
       " (u'beat-dobj', 2),\n",
       " (u'block-dobj', 2),\n",
       " (u'transport-dobj', 2),\n",
       " (u'circle-dobj', 2),\n",
       " (u'ride-dobj', 2),\n",
       " (u'vote-nsubj', 2),\n",
       " (u'land-nsubj', 2),\n",
       " (u'sit-dobj', 2),\n",
       " (u'help-nsubj', 2),\n",
       " (u'race-dobj', 2),\n",
       " (u'decide-nsubj', 2),\n",
       " (u'boil-nsubj', 2),\n",
       " (u'roar-nsubj', 2),\n",
       " (u'serve-nsubj', 2),\n",
       " (u'spot-dobj', 2),\n",
       " (u'hide-dobj', 2),\n",
       " (u'leap-dobj', 2),\n",
       " (u'accept-dobj', 2),\n",
       " (u'disappear-nsubj', 2),\n",
       " (u'name-dobj', 2),\n",
       " (u'think-nsubj', 2),\n",
       " (u'cross-dobj', 2),\n",
       " (u'write-dobj', 2),\n",
       " (u'pour-dobj', 2),\n",
       " (u'pat-dobj', 2),\n",
       " (u'form-nsubj', 2),\n",
       " (u'guide-dobj', 2),\n",
       " (u'support-dobj', 2),\n",
       " (u'tell-nsubj', 2),\n",
       " (u'assemble-dobj', 2),\n",
       " (u'sit-nsubj', 2),\n",
       " (u'create-dobj', 2),\n",
       " (u'head-nsubj', 2),\n",
       " (u'borrow-dobj', 2),\n",
       " (u'name-nsubj', 2),\n",
       " (u'put-nsubj', 2),\n",
       " (u'furnish-nsubj', 2),\n",
       " (u'hire-dobj', 2),\n",
       " (u'watch-nsubj', 2),\n",
       " (u'complete-nsubj', 1),\n",
       " (u'speed-nsubj', 1),\n",
       " (u'hurtle-nsubj', 1),\n",
       " (u'plop-nsubj', 1),\n",
       " (u'ring-dobj', 1),\n",
       " (u'shove-dobj', 1),\n",
       " (u'die-nsubj', 1),\n",
       " (u'rub-dobj', 1),\n",
       " (u'classify-dobj', 1),\n",
       " (u'roast-dobj', 1),\n",
       " (u'try-nsubj', 1),\n",
       " (u'race-nsubj', 1),\n",
       " (u'swallow-nsubj', 1),\n",
       " (u'welcome-nsubj', 1),\n",
       " (u'consign-dobj', 1),\n",
       " (u'wink-nsubj', 1),\n",
       " (u'investigate-dobj', 1),\n",
       " (u'combine-dobj', 1),\n",
       " (u'peel-dobj', 1),\n",
       " (u'come-dobj', 1),\n",
       " (u'ransack-dobj', 1),\n",
       " (u'ricochet-dobj', 1),\n",
       " (u'would-nsubj', 1),\n",
       " (u'prohibit-dobj', 1),\n",
       " (u'near-dobj', 1),\n",
       " (u'wheel-nsubj', 1),\n",
       " (u'sanction-nsubj', 1),\n",
       " (u'add-nsubj', 1),\n",
       " (u'bat-dobj', 1),\n",
       " (u'reverse-dobj', 1),\n",
       " (u'ricochet-nsubj', 1),\n",
       " (u'butt-dobj', 1),\n",
       " (u'scatter-dobj', 1),\n",
       " (u'paddle-dobj', 1),\n",
       " (u'operate-dobj', 1),\n",
       " (u'tap-dobj', 1),\n",
       " (u'control-dobj', 1),\n",
       " (u'collide-nsubj', 1),\n",
       " (u'fight-dobj', 1),\n",
       " (u'err-nsubj', 1),\n",
       " (u'can-nsubj', 1),\n",
       " (u'shoot-nsubj', 1),\n",
       " (u'goad-dobj', 1),\n",
       " (u'build-nsubj', 1),\n",
       " (u'shy-nsubj', 1),\n",
       " (u'poke-dobj', 1),\n",
       " (u'determine-dobj', 1),\n",
       " (u'round-dobj', 1),\n",
       " (u'smell-dobj', 1),\n",
       " (u'propose-dobj', 1),\n",
       " (u'constitute-dobj', 1),\n",
       " (u'jab-dobj', 1),\n",
       " (u'trail-dobj', 1),\n",
       " (u'assure-nsubj', 1),\n",
       " (u'step-dobj', 1),\n",
       " (u'miss-dobj', 1),\n",
       " (u'stuff-dobj', 1),\n",
       " (u'benefit-dobj', 1),\n",
       " (u'exist-nsubj', 1),\n",
       " (u'thumb-dobj', 1),\n",
       " (u'represent-dobj', 1),\n",
       " (u'develop-nsubj', 1),\n",
       " (u'rap-dobj', 1),\n",
       " (u'round-nsubj', 1),\n",
       " (u'work-nsubj', 1),\n",
       " (u'underlay-dobj', 1),\n",
       " (u'struggle-dobj', 1),\n",
       " (u'sterilize-dobj', 1),\n",
       " (u'criticize-dobj', 1),\n",
       " (u'comprise-nsubj', 1),\n",
       " (u'sharpen-dobj', 1),\n",
       " (u'trim-nsubj', 1),\n",
       " (u'apply-dobj', 1),\n",
       " (u'hammer-dobj', 1),\n",
       " (u'translate-dobj', 1),\n",
       " (u'complement-nsubj', 1),\n",
       " (u'pump-dobj', 1),\n",
       " (u'stretch-nsubj', 1),\n",
       " (u'hail-dobj', 1),\n",
       " (u'bubble-nsubj', 1),\n",
       " (u'undergo-nsubj', 1),\n",
       " (u'whack-nsubj', 1),\n",
       " (u'confused-nsubj', 1),\n",
       " (u'level-nsubj', 1),\n",
       " (u'shed-dobj', 1),\n",
       " (u'shatter-nsubj', 1),\n",
       " (u'remain-nsubj', 1),\n",
       " (u'bear-dobj', 1),\n",
       " (u'fashion-dobj', 1),\n",
       " (u'lam-dobj', 1),\n",
       " (u'haunt-dobj', 1),\n",
       " (u'arm-dobj', 1),\n",
       " (u'delay-nsubj', 1),\n",
       " (u'cool-nsubj', 1),\n",
       " (u'leap-nsubj', 1),\n",
       " (u'disfigure-dobj', 1),\n",
       " (u'drown-dobj', 1),\n",
       " (u'establish-dobj', 1),\n",
       " (u'bulge-nsubj', 1),\n",
       " (u'reclassify-nsubj', 1),\n",
       " (u'peek-dobj', 1),\n",
       " (u'padlock-dobj', 1),\n",
       " (u'widen-nsubj', 1),\n",
       " (u'accept-nsubj', 1),\n",
       " (u'print-nsubj', 1),\n",
       " (u'rent-dobj', 1),\n",
       " (u'hum-nsubj', 1),\n",
       " (u'grind-nsubj', 1),\n",
       " (u'smooth-dobj', 1),\n",
       " (u'rip-dobj', 1),\n",
       " (u'handy-nsubj', 1),\n",
       " (u'fine-nsubj', 1),\n",
       " (u'buck-dobj', 1),\n",
       " (u'convert-dobj', 1),\n",
       " (u'spring-nsubj', 1),\n",
       " (u'extricate-dobj', 1),\n",
       " (u'forget-dobj', 1),\n",
       " (u'command-nsubj', 1),\n",
       " (u'rebuild-dobj', 1),\n",
       " (u'pave-dobj', 1),\n",
       " (u'sell-nsubj', 1),\n",
       " (u'photograph-dobj', 1),\n",
       " (u'secure-dobj', 1),\n",
       " (u'rest-nsubj', 1),\n",
       " (u'protrude-nsubj', 1),\n",
       " (u'sling-dobj', 1),\n",
       " (u'moderate-dobj', 1),\n",
       " (u'perform-dobj', 1),\n",
       " (u'down-dobj', 1),\n",
       " (u'cooperate-nsubj', 1),\n",
       " (u'shift-nsubj', 1),\n",
       " (u'pilot-dobj', 1),\n",
       " (u'permit-dobj', 1),\n",
       " (u'visit-nsubj', 1),\n",
       " (u'haul-nsubj', 1),\n",
       " (u'specify-nsubj', 1),\n",
       " (u'unpack-dobj', 1),\n",
       " (u'face-nsubj', 1),\n",
       " (u'declare-nsubj', 1),\n",
       " (u'address-dobj', 1),\n",
       " (u'emulate-dobj', 1),\n",
       " (u'smash-nsubj', 1),\n",
       " (u'sting-nsubj', 1),\n",
       " (u'surmount-dobj', 1),\n",
       " (u'encourage-dobj', 1),\n",
       " (u'outrun-dobj', 1),\n",
       " (u'skid-nsubj', 1),\n",
       " (u'discount-dobj', 1),\n",
       " (u'maul-dobj', 1),\n",
       " (u'mark-dobj', 1),\n",
       " (u'strop-dobj', 1),\n",
       " (u'settle-dobj', 1),\n",
       " (u'participate-dobj', 1),\n",
       " (u'weigh-nsubj', 1),\n",
       " (u'stir-dobj', 1),\n",
       " (u'clamp-nsubj', 1),\n",
       " (u'shoot-dobj', 1),\n",
       " (u'brandish-dobj', 1),\n",
       " (u'award-dobj', 1),\n",
       " (u'import-dobj', 1),\n",
       " (u'crowd-dobj', 1),\n",
       " (u'hitch-dobj', 1),\n",
       " (u'writhe-dobj', 1),\n",
       " (u'seek-dobj', 1),\n",
       " (u'pay-dobj', 1),\n",
       " (u'delude-nsubj', 1),\n",
       " (u'dance-nsubj', 1),\n",
       " (u'consider-nsubj', 1),\n",
       " (u'land-dobj', 1),\n",
       " (u'bristle-nsubj', 1),\n",
       " (u'shut-nsubj', 1),\n",
       " (u'join-dobj', 1),\n",
       " (u'cry-nsubj', 1),\n",
       " (u'twirl-dobj', 1),\n",
       " (u'strengthen-nsubj', 1),\n",
       " (u'look-dobj', 1),\n",
       " (u'want-nsubj', 1),\n",
       " (u'veer-dobj', 1),\n",
       " (u'dock-nsubj', 1),\n",
       " (u'experience-nsubj', 1),\n",
       " (u'distribute-nsubj', 1),\n",
       " (u'escape-dobj', 1),\n",
       " (u'study-nsubj', 1),\n",
       " (u'reload-dobj', 1),\n",
       " (u'pole-dobj', 1),\n",
       " (u'breed-dobj', 1),\n",
       " (u'speak-nsubj', 1),\n",
       " (u'burst-dobj', 1),\n",
       " (u'pound-dobj', 1),\n",
       " (u'leave-nsubj', 1),\n",
       " (u'fling-nsubj', 1),\n",
       " (u'speak-dobj', 1),\n",
       " (u'notify-dobj', 1),\n",
       " (u'window-dobj', 1),\n",
       " (u'penetrate-nsubj', 1),\n",
       " (u'achieve-nsubj', 1),\n",
       " (u'roam-nsubj', 1),\n",
       " (u'expand-nsubj', 1),\n",
       " (u'tip-nsubj', 1),\n",
       " (u'advise-dobj', 1),\n",
       " (u'steal-dobj', 1),\n",
       " (u'range-nsubj', 1),\n",
       " (u'feel-nsubj', 1),\n",
       " (u'cool-dobj', 1),\n",
       " (u'chop-nsubj', 1),\n",
       " (u'stay-nsubj', 1),\n",
       " (u'unbreakable-nsubj', 1),\n",
       " (u'slow-nsubj', 1),\n",
       " (u'expect-nsubj', 1),\n",
       " (u'complete-dobj', 1),\n",
       " (u'fling-dobj', 1),\n",
       " (u'tinkle-nsubj', 1),\n",
       " (u'garage-dobj', 1),\n",
       " (u'fix-nsubj', 1),\n",
       " (u'acquire-dobj', 1),\n",
       " (u'conceal-nsubj', 1),\n",
       " (u'cough-nsubj', 1),\n",
       " (u'tilt-nsubj', 1),\n",
       " (u'crush-dobj', 1),\n",
       " (u'seizin-dobj', 1),\n",
       " (u'stiffen-nsubj', 1),\n",
       " (u'unscrew-dobj', 1),\n",
       " (u'climb-dobj', 1),\n",
       " (u'inform-dobj', 1),\n",
       " (u'respond-nsubj', 1),\n",
       " (u'employ-nsubj', 1),\n",
       " (u'rule-dobj', 1),\n",
       " (u'jingle-nsubj', 1),\n",
       " (u'approach-nsubj', 1),\n",
       " (u'poach-dobj', 1),\n",
       " (u'free-dobj', 1),\n",
       " (u'register-dobj', 1),\n",
       " (u'when-nsubj', 1),\n",
       " (u'strain-dobj', 1),\n",
       " (u'traverse-dobj', 1),\n",
       " (u'drink-dobj', 1),\n",
       " (u'wake-dobj', 1),\n",
       " (u'undo-dobj', 1),\n",
       " (u'project-nsubj', 1),\n",
       " (u'commit-nsubj', 1),\n",
       " (u'wean-dobj', 1),\n",
       " (u'harbor-dobj', 1),\n",
       " (u'introduce-nsubj', 1),\n",
       " (u'survive-nsubj', 1),\n",
       " (u'dare-dobj', 1),\n",
       " (u'skirt-dobj', 1),\n",
       " (u'survey-dobj', 1),\n",
       " (u'smack-dobj', 1),\n",
       " (u'ignore-dobj', 1),\n",
       " (u'increase-dobj', 1),\n",
       " (u'rouse-nsubj', 1),\n",
       " (u'rake-dobj', 1),\n",
       " (u'strum-dobj', 1),\n",
       " (u'approve-nsubj', 1),\n",
       " (u'refuse-nsubj', 1),\n",
       " (u'raise-nsubj', 1),\n",
       " (u'press-dobj', 1),\n",
       " (u'deter-nsubj', 1),\n",
       " (u'imprison-dobj', 1),\n",
       " (u'nail-dobj', 1),\n",
       " (u'go-dobj', 1),\n",
       " (u'clobber-nsubj', 1),\n",
       " (u'draft-dobj', 1),\n",
       " (u'sing-nsubj', 1),\n",
       " (u'rot-dobj', 1),\n",
       " (u'famous-nsubj', 1),\n",
       " (u'manage-nsubj', 1),\n",
       " (u'chew-nsubj', 1),\n",
       " (u'trade-dobj', 1),\n",
       " (u'loosen-dobj', 1),\n",
       " (u'define-nsubj', 1),\n",
       " (u'water-dobj', 1),\n",
       " (u'whirl-nsubj', 1),\n",
       " (u'park-dobj', 1),\n",
       " (u'ride-nsubj', 1),\n",
       " (u'divide-nsubj', 1),\n",
       " (u'shuffle-nsubj', 1),\n",
       " (u'occupy-dobj', 1),\n",
       " (u'prefer-dobj', 1),\n",
       " (u'inflame-dobj', 1),\n",
       " (u'mastermind-dobj', 1),\n",
       " (u'praise-dobj', 1),\n",
       " (u'close-nsubj', 1),\n",
       " (u'ring-nsubj', 1),\n",
       " (u'head-dobj', 1),\n",
       " (u'like-nsubj', 1),\n",
       " (u'rear-dobj', 1),\n",
       " (u'inhabit-dobj', 1),\n",
       " (u'ga-dobj', 1),\n",
       " (u'knock-dobj', 1),\n",
       " (u'dress-dobj', 1),\n",
       " (u'strip-nsubj', 1),\n",
       " (u'brush-nsubj', 1),\n",
       " (u'bind-dobj', 1),\n",
       " (u'remember-dobj', 1),\n",
       " (u'unhitch-dobj', 1),\n",
       " (u'indicate-dobj', 1),\n",
       " (u'wad-dobj', 1),\n",
       " (u'cite-dobj', 1),\n",
       " (u'advance-nsubj', 1),\n",
       " (u'thrust-dobj', 1),\n",
       " (u'focus-nsubj', 1),\n",
       " (u'engage-nsubj', 1),\n",
       " (u'confine-dobj', 1),\n",
       " (u'double-dobj', 1),\n",
       " (u'commandeer-dobj', 1),\n",
       " (u'soak-nsubj', 1),\n",
       " (u'mount-dobj', 1),\n",
       " (u'devise-nsubj', 1),\n",
       " (u'least-dobj', 1),\n",
       " (u'chase-dobj', 1),\n",
       " (u'hook-dobj', 1),\n",
       " (u'catch-nsubj', 1),\n",
       " (u'suggest-dobj', 1),\n",
       " (u'constitute-nsubj', 1),\n",
       " (u'ping-nsubj', 1),\n",
       " (u'excommunicate-nsubj', 1),\n",
       " (u'click-nsubj', 1),\n",
       " (u'slash-dobj', 1),\n",
       " (u'try-dobj', 1),\n",
       " (u'halt-nsubj', 1),\n",
       " (u'manufacture-dobj', 1),\n",
       " (u'whiz-nsubj', 1),\n",
       " (u'forfeit-nsubj', 1),\n",
       " (u'load-dobj', 1),\n",
       " (u'choose-nsubj', 1),\n",
       " (u'plan-dobj', 1),\n",
       " (u'back-dobj', 1),\n",
       " (u'cleft-nsubj', 1),\n",
       " (u'suffice-nsubj', 1),\n",
       " (u'rush-nsubj', 1),\n",
       " (u'repeat-dobj', 1),\n",
       " (u'receive-nsubj', 1),\n",
       " (u'strut-nsubj', 1),\n",
       " (u'string-nsubj', 1),\n",
       " (u'lurch-nsubj', 1),\n",
       " (u'wear-nsubj', 1),\n",
       " (u'explode-dobj', 1),\n",
       " (u'mop-dobj', 1),\n",
       " (u'charge-dobj', 1),\n",
       " (u'write-nsubj', 1),\n",
       " (u'duck-dobj', 1),\n",
       " (u'discover-dobj', 1),\n",
       " (u'observe-dobj', 1),\n",
       " (u'destroy-dobj', 1),\n",
       " (u'win-nsubj', 1),\n",
       " (u'crimson-dobj', 1),\n",
       " (u'consist-nsubj', 1),\n",
       " (u'detect-dobj', 1),\n",
       " (u'swamp-dobj', 1),\n",
       " (u'melt-nsubj', 1),\n",
       " (u'learn-dobj', 1),\n",
       " (u'train-nsubj', 1),\n",
       " (u'let-dobj', 1),\n",
       " (u'rid-nsubj', 1),\n",
       " (u'swim-nsubj', 1),\n",
       " (u'skim-dobj', 1),\n",
       " (u'linger-dobj', 1),\n",
       " (u'deny-nsubj', 1),\n",
       " (u'outdistance-nsubj', 1),\n",
       " (u'cruise-dobj', 1),\n",
       " (u'begin-dobj', 1),\n",
       " (u'maintain-nsubj', 1),\n",
       " (u'spread-dobj', 1),\n",
       " (u'shift-dobj', 1),\n",
       " (u'easy-nsubj', 1),\n",
       " (u'grind-dobj', 1),\n",
       " (u'uncap-dobj', 1),\n",
       " (u'hunt-dobj', 1),\n",
       " (u'gallop-dobj', 1),\n",
       " (u'seek-nsubj', 1),\n",
       " (u'zigzag-dobj', 1),\n",
       " (u'acclaim-nsubj', 1),\n",
       " (u'bake-dobj', 1),\n",
       " (u'press-nsubj', 1),\n",
       " (u'reflect-nsubj', 1),\n",
       " (u'slam-dobj', 1),\n",
       " (u'contrast-dobj', 1),\n",
       " (u'affect-nsubj', 1),\n",
       " (u'seem-nsubj', 1),\n",
       " (u'twist-dobj', 1),\n",
       " (u'thump-dobj', 1),\n",
       " (u'describe-dobj', 1),\n",
       " (u'recoil-dobj', 1),\n",
       " (u'climb-nsubj', 1),\n",
       " (u'will-nsubj', 1),\n",
       " (u'mean-dobj', 1),\n",
       " (u'sleep-nsubj', 1),\n",
       " (u'unleavened-dobj', 1),\n",
       " (u'lactate-dobj', 1),\n",
       " (u'recognize-nsubj', 1),\n",
       " (u'dye-dobj', 1),\n",
       " (u'advertise-dobj', 1),\n",
       " (u'tether-dobj', 1),\n",
       " (u'slam-nsubj', 1),\n",
       " (u'chip-nsubj', 1),\n",
       " (u'pinch-nsubj', 1),\n",
       " (u'limit-dobj', 1),\n",
       " (u'despatch-nsubj', 1),\n",
       " (u'inspect-dobj', 1),\n",
       " (u'shoo-dobj', 1),\n",
       " (u'brush-dobj', 1),\n",
       " (u'hole-nsubj', 1),\n",
       " (u'saddle-dobj', 1),\n",
       " (u'deny-dobj', 1),\n",
       " (u'resemble-nsubj', 1),\n",
       " (u'pitch-dobj', 1),\n",
       " (u'elect-nsubj', 1),\n",
       " (u'unsheathe-dobj', 1),\n",
       " (u'paint-nsubj', 1),\n",
       " (u'attack-nsubj', 1),\n",
       " (u'collect-nsubj', 1),\n",
       " (u'roam-dobj', 1),\n",
       " (u'present-dobj', 1),\n",
       " (u'dedicate-dobj', 1),\n",
       " (u'banish-dobj', 1),\n",
       " (u'munch-dobj', 1),\n",
       " (u'ship-dobj', 1),\n",
       " (u'moo-nsubj', 1),\n",
       " (u'paint-dobj', 1),\n",
       " (u'dangle-dobj', 1),\n",
       " (u'afford-dobj', 1),\n",
       " (u'load-nsubj', 1),\n",
       " (u'hack-dobj', 1),\n",
       " (u'garland-nsubj', 1),\n",
       " (u'damage-dobj', 1),\n",
       " (u'crash-dobj', 1),\n",
       " (u'update-dobj', 1),\n",
       " (u'introduce-dobj', 1),\n",
       " (u'lease-dobj', 1),\n",
       " (u'attend-dobj', 1),\n",
       " (u'shut-dobj', 1),\n",
       " (u'recognize-dobj', 1),\n",
       " (u'taste-nsubj', 1),\n",
       " (u'checkin-dobj', 1),\n",
       " (u'improvise-dobj', 1),\n",
       " (u'carve-dobj', 1),\n",
       " (u'supervise-dobj', 1),\n",
       " (u'improved-nsubj', 1),\n",
       " (u'bang-nsubj', 1),\n",
       " (u'plunge-nsubj', 1),\n",
       " (u'unlock-nsubj', 1),\n",
       " (u'mention-nsubj', 1),\n",
       " (u'upgrade-dobj', 1),\n",
       " (u'above-nsubj', 1),\n",
       " (u'guide-nsubj', 1),\n",
       " (u'cock-nsubj', 1),\n",
       " (u'crack-nsubj', 1),\n",
       " (u'concur-nsubj', 1),\n",
       " (u'tell-dobj', 1),\n",
       " (u'impale-dobj', 1),\n",
       " (u'stack-dobj', 1),\n",
       " (u'direct-nsubj', 1),\n",
       " (u'interrupt-nsubj', 1),\n",
       " (u'cap-dobj', 1),\n",
       " (u'poise-dobj', 1),\n",
       " (u'prepare-nsubj', 1),\n",
       " (u'trill-nsubj', 1),\n",
       " (u'puff-dobj', 1),\n",
       " (u'coo-dobj', 1),\n",
       " (u'swallow-dobj', 1),\n",
       " (u'crack-dobj', 1),\n",
       " (u'cover-nsubj', 1),\n",
       " (u'estimate-nsubj', 1),\n",
       " (u'guess-nsubj', 1),\n",
       " (u'require-nsubj', 1),\n",
       " (u'blunt-nsubj', 1),\n",
       " (u'connect-nsubj', 1),\n",
       " (u'fuel-dobj', 1),\n",
       " (u'describe-nsubj', 1),\n",
       " (u'acquire-nsubj', 1),\n",
       " (u'unwire-dobj', 1),\n",
       " (u'lash-dobj', 1),\n",
       " (u'pack-dobj', 1),\n",
       " (u'poking-dobj', 1),\n",
       " (u'halt-dobj', 1),\n",
       " (u'rear-nsubj', 1),\n",
       " (u'enslave-nsubj', 1),\n",
       " (u'accommodate-dobj', 1),\n",
       " (u'bounce-dobj', 1),\n",
       " (u'cradle-nsubj', 1),\n",
       " (u'heave-dobj', 1),\n",
       " (u'swirl-dobj', 1),\n",
       " (u'dig-nsubj', 1),\n",
       " (u'list-nsubj', 1),\n",
       " (u'cause-dobj', 1),\n",
       " (u'hustle-dobj', 1),\n",
       " (u'inch-nsubj', 1),\n",
       " (u'order-nsubj', 1),\n",
       " (u'exude-nsubj', 1),\n",
       " (u'uphold-nsubj', 1),\n",
       " (u'wheel-dobj', 1),\n",
       " (u'weigh-dobj', 1),\n",
       " (u'tighten-dobj', 1),\n",
       " (u'petition-nsubj', 1),\n",
       " (u'bounce-nsubj', 1),\n",
       " (u'stroke-dobj', 1),\n",
       " (u'gulp-nsubj', 1),\n",
       " (u'walk-nsubj', 1),\n",
       " (u'scream-nsubj', 1),\n",
       " (u'man-nsubj', 1),\n",
       " (u'chuckle-nsubj', 1),\n",
       " (u'withdraw-nsubj', 1),\n",
       " (u'change-nsubj', 1),\n",
       " (u'crow-nsubj', 1),\n",
       " (u'prevent-nsubj', 1),\n",
       " (u'jeopardize-nsubj', 1),\n",
       " (u'adorn-dobj', 1),\n",
       " (u'issue-dobj', 1),\n",
       " (u'kick-dobj', 1),\n",
       " (u'save-dobj', 1),\n",
       " (u'grasp-nsubj', 1),\n",
       " (u'answer-dobj', 1),\n",
       " (u'coast-nsubj', 1),\n",
       " (u'adjust-dobj', 1),\n",
       " (u'churn-nsubj', 1),\n",
       " (u'creak-nsubj', 1),\n",
       " (u'sight-nsubj', 1),\n",
       " (u'scrub-dobj', 1),\n",
       " (u'mince-dobj', 1),\n",
       " (u'milk-dobj', 1),\n",
       " (u'straddle-dobj', 1),\n",
       " (u'float-nsubj', 1),\n",
       " (u'spark-dobj', 1),\n",
       " (u'tax-dobj', 1),\n",
       " (u'scoop-dobj', 1),\n",
       " (u'muffle-nsubj', 1),\n",
       " (u'quiet-nsubj', 1),\n",
       " (u'tour-dobj', 1),\n",
       " (u'dash-nsubj', 1),\n",
       " (u'shake-nsubj', 1),\n",
       " (u'impose-dobj', 1),\n",
       " (u'question-dobj', 1),\n",
       " (u'belong-nsubj', 1),\n",
       " (u'tumble-nsubj', 1),\n",
       " (u'earn-dobj', 1),\n",
       " (u'blast-dobj', 1),\n",
       " (u'lie-nsubj', 1),\n",
       " (u'snatch-nsubj', 1),\n",
       " (u'decry-nsubj', 1),\n",
       " (u'repair-dobj', 1),\n",
       " (u'treat-dobj', 1),\n",
       " (u'contribute-dobj', 1),\n",
       " (u'sneak-dobj', 1),\n",
       " (u'abet-dobj', 1),\n",
       " (u'nest-nsubj', 1),\n",
       " (u'review-nsubj', 1),\n",
       " (u'note-dobj', 1),\n",
       " (u'satisfy-dobj', 1),\n",
       " (u'kick-nsubj', 1),\n",
       " (u'tilt-dobj', 1),\n",
       " (u'emerge-nsubj', 1),\n",
       " (u'interfere-nsubj', 1),\n",
       " (u'wave-dobj', 1),\n",
       " (u'beat-nsubj', 1),\n",
       " (u'express-nsubj', 1),\n",
       " (u'cruise-nsubj', 1),\n",
       " (u'pocket-nsubj', 1),\n",
       " (u'united-nsubj', 1),\n",
       " (u'suppress-dobj', 1),\n",
       " (u'pop-nsubj', 1),\n",
       " (u'storm-dobj', 1),\n",
       " (u'transcend-dobj', 1),\n",
       " (u'fight-nsubj', 1),\n",
       " (u'rattle-nsubj', 1),\n",
       " (u'wash-dobj', 1),\n",
       " (u'celebrate-dobj', 1),\n",
       " (u'rejoin-dobj', 1),\n",
       " (u'clear-nsubj', 1),\n",
       " (u'lug-dobj', 1),\n",
       " (u'merit-dobj', 1),\n",
       " (u'vacate-dobj', 1),\n",
       " (u'that-nsubj', 1),\n",
       " (u'hop-dobj', 1),\n",
       " (u'rock-dobj', 1),\n",
       " (u'defends-dobj', 1),\n",
       " (u'adapt-dobj', 1),\n",
       " (u'summarize-nsubj', 1),\n",
       " (u'taste-dobj', 1),\n",
       " (u'skirt-nsubj', 1),\n",
       " (u'conceal-dobj', 1),\n",
       " (u'offer-nsubj', 1),\n",
       " (u'streak-nsubj', 1),\n",
       " (u'swap-dobj', 1),\n",
       " (u'python-nsubj', 1),\n",
       " (u'cock-dobj', 1),\n",
       " (u'frost-dobj', 1),\n",
       " (u'recoil-nsubj', 1),\n",
       " (u'scrap-nsubj', 1),\n",
       " (u'bloom-nsubj', 1),\n",
       " (u'effect-dobj', 1),\n",
       " (u'freeze-nsubj', 1),\n",
       " (u'unload-nsubj', 1),\n",
       " (u'star-dobj', 1),\n",
       " (u'besiege-dobj', 1),\n",
       " (u'radar-dobj', 1),\n",
       " (u'lock-nsubj', 1),\n",
       " (u'tip-dobj', 1),\n",
       " (u'toll-dobj', 1),\n",
       " (u'yield-dobj', 1),\n",
       " (u'report-dobj', 1),\n",
       " (u'scratch-nsubj', 1),\n",
       " (u'gather-nsubj', 1),\n",
       " (u'average-nsubj', 1),\n",
       " (u'murderer-nsubj', 1),\n",
       " (u'agree-nsubj', 1),\n",
       " (u'squeak-nsubj', 1),\n",
       " (u'displace-dobj', 1),\n",
       " (u'surround-nsubj', 1),\n",
       " (u'contribute-nsubj', 1),\n",
       " (u'mince-nsubj', 1),\n",
       " (u'sample-dobj', 1),\n",
       " (u'protect-nsubj', 1)]"
      ]
     },
     "execution_count": 52,
     "metadata": {},
     "output_type": "execute_result"
    }
   ],
   "source": [
    "sorted(map(lambda (vr,c): (vr,len(c)), vr2c.items()),key=lambda x:x[1],reverse=True)"
   ]
  },
  {
   "cell_type": "code",
   "execution_count": 54,
   "metadata": {
    "collapsed": false
   },
   "outputs": [],
   "source": [
    "vr2numc = {vr:len_c for vr,len_c in map(lambda (vr,c): (vr,len(c)), vr2c.items())}"
   ]
  },
  {
   "cell_type": "code",
   "execution_count": 56,
   "metadata": {
    "collapsed": false
   },
   "outputs": [
    {
     "name": "stdout",
     "output_type": "stream",
     "text": [
      "100\n"
     ]
    }
   ],
   "source": [
    "print vr2numc['be-nsubj']"
   ]
  },
  {
   "cell_type": "code",
   "execution_count": 64,
   "metadata": {
    "collapsed": true
   },
   "outputs": [],
   "source": [
    "def infer_stc2(train_test_splits, info_cut=5):\n",
    "    \n",
    "    cpt2ftabs = defaultdict(lambda : np.array([[1,1] for _ in range(len(features))],dtype=np.float32))\n",
    "    for train_cpts,test_cpts in train_test_splits:\n",
    "        vr2ftabs = learn_stc(train_cpts)\n",
    "        for cpt in test_cpts:\n",
    "            ftabs = np.array([[1,1] for _ in range(len(features))],dtype=np.float32)\n",
    "            for vr in c2vr[cpt]:\n",
    "                \n",
    "                if vr2numc[vr] > info_cut: continue # ONLY UPDATE ON INFORMATIVE VRS\n",
    "                \n",
    "                vr_ftabs = vr2ftabs[vr]\n",
    "                for f_i in range(len(features)):\n",
    "                    ftabs[f_i] = [ftabs[f_i][0]+vr_ftabs[f_i][0],\n",
    "                                  ftabs[f_i][1]+vr_ftabs[f_i][1]]\n",
    "            cpt2ftabs[cpt] = ftabs\n",
    "    return cpt2ftabs"
   ]
  },
  {
   "cell_type": "markdown",
   "metadata": {},
   "source": [
    "** a. Info_cut = 1 **"
   ]
  },
  {
   "cell_type": "code",
   "execution_count": 87,
   "metadata": {
    "collapsed": false
   },
   "outputs": [
    {
     "name": "stdout",
     "output_type": "stream",
     "text": [
      "CPU times: user 2min 1s, sys: 1 s, total: 2min 2s\n",
      "Wall time: 2min 2s\n"
     ]
    }
   ],
   "source": [
    "%%time\n",
    "cpt2ftabs_stc2 = infer_stc2(train_test_splits, info_cut=1)"
   ]
  },
  {
   "cell_type": "code",
   "execution_count": 88,
   "metadata": {
    "collapsed": false
   },
   "outputs": [
    {
     "name": "stdout",
     "output_type": "stream",
     "text": [
      "CPU times: user 736 ms, sys: 63.8 ms, total: 800 ms\n",
      "Wall time: 749 ms\n"
     ]
    }
   ],
   "source": [
    "%%time\n",
    "cpt2ftdist_stc2 = to_probdist(cpt2ftabs_stc2)"
   ]
  },
  {
   "cell_type": "code",
   "execution_count": 89,
   "metadata": {
    "collapsed": false
   },
   "outputs": [
    {
     "name": "stdout",
     "output_type": "stream",
     "text": [
      "Average Prec @1: 0.321543%\n",
      "Average Prec @5: 0.192926%\n",
      "Average Prec @10: 0.418006%\n",
      "Average Prec @20: 0.627010%\n",
      "Average Prec @50: 0.430868%\n",
      "MAP: 50.281714%\n"
     ]
    }
   ],
   "source": [
    "evaluate_prec(cpt2ftdist_stc2)\n",
    "evaluate_map(cpt2ftdist_stc2)"
   ]
  },
  {
   "cell_type": "markdown",
   "metadata": {},
   "source": [
    "** Info_cut = 3 **"
   ]
  },
  {
   "cell_type": "code",
   "execution_count": 90,
   "metadata": {
    "collapsed": false
   },
   "outputs": [
    {
     "name": "stdout",
     "output_type": "stream",
     "text": [
      "CPU times: user 2min 6s, sys: 954 ms, total: 2min 7s\n",
      "Wall time: 2min 6s\n"
     ]
    }
   ],
   "source": [
    "%%time\n",
    "cpt2ftabs_stc2 = infer_stc2(train_test_splits, info_cut=3)"
   ]
  },
  {
   "cell_type": "code",
   "execution_count": 91,
   "metadata": {
    "collapsed": false
   },
   "outputs": [
    {
     "name": "stdout",
     "output_type": "stream",
     "text": [
      "CPU times: user 720 ms, sys: 43.7 ms, total: 764 ms\n",
      "Wall time: 729 ms\n"
     ]
    }
   ],
   "source": [
    "%%time\n",
    "cpt2ftdist_stc2 = to_probdist(cpt2ftabs_stc2)"
   ]
  },
  {
   "cell_type": "code",
   "execution_count": 92,
   "metadata": {
    "collapsed": false
   },
   "outputs": [
    {
     "name": "stdout",
     "output_type": "stream",
     "text": [
      "Average Prec @1: 8.038585%\n",
      "Average Prec @5: 4.694534%\n",
      "Average Prec @10: 4.405145%\n",
      "Average Prec @20: 3.456592%\n",
      "Average Prec @50: 1.980707%\n",
      "MAP: 28.075794%\n"
     ]
    }
   ],
   "source": [
    "evaluate_prec(cpt2ftdist_stc2)\n",
    "evaluate_map(cpt2ftdist_stc2)"
   ]
  },
  {
   "cell_type": "markdown",
   "metadata": {},
   "source": [
    "** c. Info_cut = 5 **"
   ]
  },
  {
   "cell_type": "code",
   "execution_count": 93,
   "metadata": {
    "collapsed": false
   },
   "outputs": [
    {
     "name": "stdout",
     "output_type": "stream",
     "text": [
      "CPU times: user 2min 9s, sys: 961 ms, total: 2min 10s\n",
      "Wall time: 2min 9s\n"
     ]
    }
   ],
   "source": [
    "%%time\n",
    "cpt2ftabs_stc2 = infer_stc2(train_test_splits)"
   ]
  },
  {
   "cell_type": "code",
   "execution_count": 94,
   "metadata": {
    "collapsed": false
   },
   "outputs": [
    {
     "name": "stdout",
     "output_type": "stream",
     "text": [
      "CPU times: user 730 ms, sys: 28.8 ms, total: 759 ms\n",
      "Wall time: 737 ms\n"
     ]
    }
   ],
   "source": [
    "%%time\n",
    "cpt2ftdist_stc2 = to_probdist(cpt2ftabs_stc2)"
   ]
  },
  {
   "cell_type": "code",
   "execution_count": 95,
   "metadata": {
    "collapsed": false
   },
   "outputs": [
    {
     "name": "stdout",
     "output_type": "stream",
     "text": [
      "Average Prec @1: 9.003215%\n",
      "Average Prec @5: 6.237942%\n",
      "Average Prec @10: 5.627010%\n",
      "Average Prec @20: 4.581994%\n",
      "Average Prec @50: 2.655949%\n",
      "MAP: 22.680469%\n"
     ]
    }
   ],
   "source": [
    "evaluate_prec(cpt2ftdist_stc2)\n",
    "evaluate_map(cpt2ftdist_stc2)"
   ]
  },
  {
   "cell_type": "markdown",
   "metadata": {},
   "source": [
    "** d. Info_cut = 10 **"
   ]
  },
  {
   "cell_type": "code",
   "execution_count": 96,
   "metadata": {
    "collapsed": false
   },
   "outputs": [
    {
     "name": "stdout",
     "output_type": "stream",
     "text": [
      "CPU times: user 2min 6s, sys: 1.18 s, total: 2min 7s\n",
      "Wall time: 2min 6s\n"
     ]
    }
   ],
   "source": [
    "%%time\n",
    "cpt2ftabs_stc2 = infer_stc2(train_test_splits, info_cut=10)"
   ]
  },
  {
   "cell_type": "code",
   "execution_count": 97,
   "metadata": {
    "collapsed": false
   },
   "outputs": [
    {
     "name": "stdout",
     "output_type": "stream",
     "text": [
      "CPU times: user 745 ms, sys: 31.8 ms, total: 776 ms\n",
      "Wall time: 751 ms\n"
     ]
    }
   ],
   "source": [
    "%%time\n",
    "cpt2ftdist_stc2 = to_probdist(cpt2ftabs_stc2)"
   ]
  },
  {
   "cell_type": "code",
   "execution_count": 98,
   "metadata": {
    "collapsed": false
   },
   "outputs": [
    {
     "name": "stdout",
     "output_type": "stream",
     "text": [
      "Average Prec @1: 14.469453%\n",
      "Average Prec @5: 10.225080%\n",
      "Average Prec @10: 8.135048%\n",
      "Average Prec @20: 5.964630%\n",
      "Average Prec @50: 3.581994%\n",
      "MAP: 16.725461%\n"
     ]
    }
   ],
   "source": [
    "evaluate_prec(cpt2ftdist_stc2)\n",
    "evaluate_map(cpt2ftdist_stc2)"
   ]
  },
  {
   "cell_type": "markdown",
   "metadata": {},
   "source": [
    "** f. Info_cut = 15 **"
   ]
  },
  {
   "cell_type": "code",
   "execution_count": 99,
   "metadata": {
    "collapsed": false
   },
   "outputs": [
    {
     "name": "stdout",
     "output_type": "stream",
     "text": [
      "CPU times: user 2min 8s, sys: 1.12 s, total: 2min 9s\n",
      "Wall time: 2min 9s\n"
     ]
    }
   ],
   "source": [
    "%%time\n",
    "cpt2ftabs_stc2 = infer_stc2(train_test_splits, info_cut=15)"
   ]
  },
  {
   "cell_type": "code",
   "execution_count": 100,
   "metadata": {
    "collapsed": false
   },
   "outputs": [
    {
     "name": "stdout",
     "output_type": "stream",
     "text": [
      "CPU times: user 749 ms, sys: 22.1 ms, total: 771 ms\n",
      "Wall time: 755 ms\n"
     ]
    }
   ],
   "source": [
    "%%time\n",
    "cpt2ftdist_stc2 = to_probdist(cpt2ftabs_stc2)"
   ]
  },
  {
   "cell_type": "code",
   "execution_count": 101,
   "metadata": {
    "collapsed": false
   },
   "outputs": [
    {
     "name": "stdout",
     "output_type": "stream",
     "text": [
      "Average Prec @1: 18.649518%\n",
      "Average Prec @5: 12.282958%\n",
      "Average Prec @10: 9.710611%\n",
      "Average Prec @20: 6.961415%\n",
      "Average Prec @50: 4.167203%\n",
      "MAP: 15.225408%\n"
     ]
    }
   ],
   "source": [
    "evaluate_prec(cpt2ftdist_stc2)\n",
    "evaluate_map(cpt2ftdist_stc2)"
   ]
  },
  {
   "cell_type": "markdown",
   "metadata": {},
   "source": [
    "** g. Info_cut = 20 **"
   ]
  },
  {
   "cell_type": "code",
   "execution_count": 71,
   "metadata": {
    "collapsed": false
   },
   "outputs": [
    {
     "name": "stdout",
     "output_type": "stream",
     "text": [
      "CPU times: user 2min 15s, sys: 1.06 s, total: 2min 16s\n",
      "Wall time: 2min 15s\n"
     ]
    }
   ],
   "source": [
    "%%time\n",
    "cpt2ftabs_stc2 = infer_stc2(train_test_splits, info_cut=20)"
   ]
  },
  {
   "cell_type": "code",
   "execution_count": 72,
   "metadata": {
    "collapsed": false
   },
   "outputs": [
    {
     "name": "stdout",
     "output_type": "stream",
     "text": [
      "CPU times: user 758 ms, sys: 43 ms, total: 801 ms\n",
      "Wall time: 768 ms\n"
     ]
    }
   ],
   "source": [
    "%%time\n",
    "cpt2ftdist_stc2 = to_probdist(cpt2ftabs_stc2)"
   ]
  },
  {
   "cell_type": "code",
   "execution_count": 86,
   "metadata": {
    "collapsed": false
   },
   "outputs": [
    {
     "name": "stdout",
     "output_type": "stream",
     "text": [
      "Average Prec @1: 8.038585%\n",
      "Average Prec @5: 4.694534%\n",
      "Average Prec @10: 4.405145%\n",
      "Average Prec @20: 3.456592%\n",
      "Average Prec @50: 1.980707%\n",
      "MAP: 28.075794%\n"
     ]
    }
   ],
   "source": [
    "evaluate_prec(cpt2ftdist_stc2)\n",
    "evaluate_map(cpt2ftdist_stc2)"
   ]
  },
  {
   "cell_type": "code",
   "execution_count": null,
   "metadata": {
    "collapsed": true
   },
   "outputs": [],
   "source": []
  },
  {
   "cell_type": "code",
   "execution_count": null,
   "metadata": {
    "collapsed": true
   },
   "outputs": [],
   "source": []
  },
  {
   "cell_type": "code",
   "execution_count": null,
   "metadata": {
    "collapsed": true
   },
   "outputs": [],
   "source": []
  },
  {
   "cell_type": "code",
   "execution_count": null,
   "metadata": {
    "collapsed": true
   },
   "outputs": [],
   "source": []
  }
 ],
 "metadata": {
  "kernelspec": {
   "display_name": "Python 2",
   "language": "python",
   "name": "python2"
  },
  "language_info": {
   "codemirror_mode": {
    "name": "ipython",
    "version": 2
   },
   "file_extension": ".py",
   "mimetype": "text/x-python",
   "name": "python",
   "nbconvert_exporter": "python",
   "pygments_lexer": "ipython2",
   "version": "2.7.11"
  }
 },
 "nbformat": 4,
 "nbformat_minor": 0
}
