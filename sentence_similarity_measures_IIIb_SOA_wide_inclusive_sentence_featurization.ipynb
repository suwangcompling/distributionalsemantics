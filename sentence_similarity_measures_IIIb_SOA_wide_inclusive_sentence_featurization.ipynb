{
 "cells": [
  {
   "cell_type": "markdown",
   "metadata": {},
   "source": [
    "# Sentence Similarity Measures IIIb: SOA Wide-Inclusive Sentence Featurization"
   ]
  },
  {
   "cell_type": "markdown",
   "metadata": {},
   "source": [
    "## 0. Contents\n",
    "\n",
    "* I. Corpora\n",
    "    * MSR Paraphrase Corpus (Dolan et al. 2004 (D04))\n",
    "* II. Sent-Feature Matrix (Guo & Diab 2012 (GD12); Ji & Eisenstein 2013 (JE13))\n",
    "* III. TF-KLD Weigthing (JE13)\n",
    "* IV. NMF Reduction (Lee & Seung 2003 (LS03))\n",
    "* V. Final Featurization (Wan et al. 2006 (W06); JE13)\n",
    "* VI. Evaluation \n",
    "    * Logistic Regression\n",
    "    * SVM\n",
    "    * Customized Paraphrase Searching"
   ]
  },
  {
   "cell_type": "markdown",
   "metadata": {},
   "source": [
    "## I. Corpora"
   ]
  },
  {
   "cell_type": "code",
   "execution_count": 1,
   "metadata": {
    "collapsed": true
   },
   "outputs": [],
   "source": [
    "from nltk import bigrams\n",
    "import numpy as np\n",
    "import pandas as pd\n",
    "from spacy.en import English\n",
    "from collections import defaultdict"
   ]
  },
  {
   "cell_type": "code",
   "execution_count": 2,
   "metadata": {
    "collapsed": true
   },
   "outputs": [],
   "source": [
    "parser = English()"
   ]
  },
  {
   "cell_type": "markdown",
   "metadata": {
    "collapsed": true
   },
   "source": [
    "##### Load MSR"
   ]
  },
  {
   "cell_type": "code",
   "execution_count": 3,
   "metadata": {
    "collapsed": true
   },
   "outputs": [],
   "source": [
    "train_path = \"/Users/jacobsw/Desktop/WORK/OJO_CODE/SENTENCE_SIMILARITIES/CORPORA/paraphrase/msr_paraphrase_train.txt\"\n",
    "test_path = \"/Users/jacobsw/Desktop/WORK/OJO_CODE/SENTENCE_SIMILARITIES/CORPORA/paraphrase/msr_paraphrase_test.txt\""
   ]
  },
  {
   "cell_type": "code",
   "execution_count": 4,
   "metadata": {
    "collapsed": false
   },
   "outputs": [
    {
     "data": {
      "text/html": [
       "<div>\n",
       "<table border=\"1\" class=\"dataframe\">\n",
       "  <thead>\n",
       "    <tr style=\"text-align: right;\">\n",
       "      <th></th>\n",
       "      <th>Quality</th>\n",
       "      <th>#1 ID</th>\n",
       "      <th>#2 ID</th>\n",
       "      <th>#1 String</th>\n",
       "      <th>#2 String</th>\n",
       "    </tr>\n",
       "  </thead>\n",
       "  <tbody>\n",
       "    <tr>\n",
       "      <th>0</th>\n",
       "      <td>1</td>\n",
       "      <td>702876</td>\n",
       "      <td>702977</td>\n",
       "      <td>Amrozi accused his brother, whom he called the...</td>\n",
       "      <td>Referring to him as only the witness, Amrozi a...</td>\n",
       "    </tr>\n",
       "    <tr>\n",
       "      <th>1</th>\n",
       "      <td>0</td>\n",
       "      <td>2108705</td>\n",
       "      <td>2108831</td>\n",
       "      <td>Yucaipa owned Dominick's before selling the ch...</td>\n",
       "      <td>Yucaipa bought Dominick's in 1995 for $693 mil...</td>\n",
       "    </tr>\n",
       "    <tr>\n",
       "      <th>2</th>\n",
       "      <td>1</td>\n",
       "      <td>1330381</td>\n",
       "      <td>1330521</td>\n",
       "      <td>They had published an advertisement on the Int...</td>\n",
       "      <td>On June 10, the ship's owners had published an...</td>\n",
       "    </tr>\n",
       "    <tr>\n",
       "      <th>3</th>\n",
       "      <td>0</td>\n",
       "      <td>3344667</td>\n",
       "      <td>3344648</td>\n",
       "      <td>Around 0335 GMT, Tab shares were up 19 cents, ...</td>\n",
       "      <td>Tab shares jumped 20 cents, or 4.6%, to set a ...</td>\n",
       "    </tr>\n",
       "    <tr>\n",
       "      <th>4</th>\n",
       "      <td>1</td>\n",
       "      <td>1236820</td>\n",
       "      <td>1236712</td>\n",
       "      <td>The stock rose $2.11, or about 11 percent, to ...</td>\n",
       "      <td>PG&amp;E Corp. shares jumped $1.63 or 8 percent to...</td>\n",
       "    </tr>\n",
       "  </tbody>\n",
       "</table>\n",
       "</div>"
      ],
      "text/plain": [
       "   Quality    #1 ID    #2 ID  \\\n",
       "0        1   702876   702977   \n",
       "1        0  2108705  2108831   \n",
       "2        1  1330381  1330521   \n",
       "3        0  3344667  3344648   \n",
       "4        1  1236820  1236712   \n",
       "\n",
       "                                           #1 String  \\\n",
       "0  Amrozi accused his brother, whom he called the...   \n",
       "1  Yucaipa owned Dominick's before selling the ch...   \n",
       "2  They had published an advertisement on the Int...   \n",
       "3  Around 0335 GMT, Tab shares were up 19 cents, ...   \n",
       "4  The stock rose $2.11, or about 11 percent, to ...   \n",
       "\n",
       "                                           #2 String  \n",
       "0  Referring to him as only the witness, Amrozi a...  \n",
       "1  Yucaipa bought Dominick's in 1995 for $693 mil...  \n",
       "2  On June 10, the ship's owners had published an...  \n",
       "3  Tab shares jumped 20 cents, or 4.6%, to set a ...  \n",
       "4  PG&E Corp. shares jumped $1.63 or 8 percent to...  "
      ]
     },
     "execution_count": 4,
     "metadata": {},
     "output_type": "execute_result"
    }
   ],
   "source": [
    "df_train = pd.read_table(train_path, encoding='utf-8-sig')\n",
    "df_test = pd.read_table(test_path, encoding='utf-8-sig')\n",
    "df_train.head()"
   ]
  },
  {
   "cell_type": "code",
   "execution_count": 5,
   "metadata": {
    "collapsed": false
   },
   "outputs": [
    {
     "name": "stdout",
     "output_type": "stream",
     "text": [
      "(4076, 5)\n",
      "(1725, 5)\n"
     ]
    }
   ],
   "source": [
    "print df_train.shape\n",
    "print df_test.shape"
   ]
  },
  {
   "cell_type": "code",
   "execution_count": 6,
   "metadata": {
    "collapsed": false
   },
   "outputs": [
    {
     "data": {
      "text/plain": [
       "Quality                                                      1\n",
       "#1 ID                                                   702876\n",
       "#2 ID                                                   702977\n",
       "#1 String    Amrozi accused his brother, whom he called the...\n",
       "#2 String    Referring to him as only the witness, Amrozi a...\n",
       "Name: 0, dtype: object"
      ]
     },
     "execution_count": 6,
     "metadata": {},
     "output_type": "execute_result"
    }
   ],
   "source": [
    "df_train.ix[0] # NB: index Quality is actually weirdly '﻿Quality'."
   ]
  },
  {
   "cell_type": "code",
   "execution_count": 7,
   "metadata": {
    "collapsed": false,
    "scrolled": false
   },
   "outputs": [
    {
     "data": {
      "text/plain": [
       "u'Amrozi accused his brother, whom he called the witness, of deliberately distorting his evidence.'"
      ]
     },
     "execution_count": 7,
     "metadata": {},
     "output_type": "execute_result"
    }
   ],
   "source": [
    "df_train.ix[0]['#1 String']"
   ]
  },
  {
   "cell_type": "markdown",
   "metadata": {},
   "source": [
    "##### Make Train/Test"
   ]
  },
  {
   "cell_type": "code",
   "execution_count": 8,
   "metadata": {
    "collapsed": true
   },
   "outputs": [],
   "source": [
    "def dep_pairs(parsed_s):\n",
    "    return [(token.head.lemma_,'rel',token.lemma_) \n",
    "            for token in parsed_s if token.head.lemma_!=token.lemma_] # differentiate dep-pairs from bigrams"
   ]
  },
  {
   "cell_type": "code",
   "execution_count": 9,
   "metadata": {
    "collapsed": true
   },
   "outputs": [],
   "source": [
    "def parse_msr(df, indexer):\n",
    "    \n",
    "    X_dic, Y_dic = defaultdict(lambda x: defaultdict(list)), \\\n",
    "                   defaultdict(lambda x: defaultdict(list))\n",
    "\n",
    "    for i in indexer:\n",
    "        \n",
    "        entry_dic = defaultdict(list)\n",
    "        s1, s2 = df.ix[i]['#1 String'][:-1], \\\n",
    "                 df.ix[i]['#2 String'][:-1] \n",
    "                # get rid of period, which causes problem in distinguishing identical tokens.\n",
    "        \n",
    "        parsed_s1, parsed_s2 = parser(unicode(s1)), parser(unicode(s2))\n",
    "\n",
    "        entry_dic['s1'] = [token.lemma_ for token in parsed_s1]\n",
    "        entry_dic['s2'] = [token.lemma_ for token in parsed_s2]\n",
    "        entry_dic['s1_ft'] = entry_dic['s1'] + \\\n",
    "                             [bigram for bigram in bigrams(entry_dic['s1'])] + \\\n",
    "                             dep_pairs(parsed_s1)\n",
    "        entry_dic['s2_ft'] = entry_dic['s2'] + \\\n",
    "                             [bigram for bigram in bigrams(entry_dic['s2'])] + \\\n",
    "                             dep_pairs(parsed_s2) \n",
    "        entry_dic['s1_id'] = df.ix[i]['#1 ID'] # for error analysis later.\n",
    "        entry_dic['s2_id'] = df.ix[i]['#2 ID']\n",
    "        \n",
    "        X_dic[i] = entry_dic\n",
    "        Y_dic[i] = df.ix[i]['Quality']\n",
    "    \n",
    "    return X_dic, Y_dic\n"
   ]
  },
  {
   "cell_type": "code",
   "execution_count": 10,
   "metadata": {
    "collapsed": false
   },
   "outputs": [
    {
     "name": "stdout",
     "output_type": "stream",
     "text": [
      "CPU times: user 18.4 s, sys: 183 ms, total: 18.6 s\n",
      "Wall time: 18.7 s\n"
     ]
    }
   ],
   "source": [
    "%%time\n",
    "X_train, Y_train = parse_msr(df_train, df_train.index)"
   ]
  },
  {
   "cell_type": "code",
   "execution_count": 11,
   "metadata": {
    "collapsed": false
   },
   "outputs": [
    {
     "name": "stdout",
     "output_type": "stream",
     "text": [
      "CPU times: user 7.87 s, sys: 89.1 ms, total: 7.95 s\n",
      "Wall time: 8.01 s\n"
     ]
    }
   ],
   "source": [
    "%%time\n",
    "X_test, Y_test = parse_msr(df_test, df_test.index)"
   ]
  },
  {
   "cell_type": "code",
   "execution_count": 12,
   "metadata": {
    "collapsed": true
   },
   "outputs": [],
   "source": [
    "sample = X_train[0]"
   ]
  },
  {
   "cell_type": "code",
   "execution_count": 13,
   "metadata": {
    "collapsed": false
   },
   "outputs": [
    {
     "name": "stdout",
     "output_type": "stream",
     "text": [
      "[u'amrozi', u'accuse', u'his', u'brother', u',', u'whom', u'he', u'call', u'the', u'witness', u',', u'of', u'deliberately', u'distort', u'his', u'evidence']\n",
      "\n",
      "[u'amrozi', u'accuse', u'his', u'brother', u',', u'whom', u'he', u'call', u'the', u'witness', u',', u'of', u'deliberately', u'distort', u'his', u'evidence', (u'amrozi', u'accuse'), (u'accuse', u'his'), (u'his', u'brother'), (u'brother', u','), (u',', u'whom'), (u'whom', u'he'), (u'he', u'call'), (u'call', u'the'), (u'the', u'witness'), (u'witness', u','), (u',', u'of'), (u'of', u'deliberately'), (u'deliberately', u'distort'), (u'distort', u'his'), (u'his', u'evidence'), (u'accuse', 'rel', u'amrozi'), (u'brother', 'rel', u'his'), (u'accuse', 'rel', u'brother'), (u'brother', 'rel', u','), (u'call', 'rel', u'whom'), (u'call', 'rel', u'he'), (u'brother', 'rel', u'call'), (u'witness', 'rel', u'the'), (u'call', 'rel', u'witness'), (u'brother', 'rel', u','), (u'accuse', 'rel', u'of'), (u'distort', 'rel', u'deliberately'), (u'of', 'rel', u'distort'), (u'evidence', 'rel', u'his'), (u'distort', 'rel', u'evidence')]\n"
     ]
    }
   ],
   "source": [
    "print sample['s1']; print\n",
    "print sample['s1_ft']"
   ]
  },
  {
   "cell_type": "markdown",
   "metadata": {},
   "source": [
    "##### Get Sent/Unigram/Bigram/Dep-pair Dictionary"
   ]
  },
  {
   "cell_type": "code",
   "execution_count": 14,
   "metadata": {
    "collapsed": true
   },
   "outputs": [],
   "source": [
    "def indexing(train, test):\n",
    "    \n",
    "    idx2id, idx2ft = set(), set()\n",
    "    \n",
    "    for x in train.values(): # we have to keep the two sets separate\n",
    "        idx2id.update([x['s1_id'],x['s2_id']])\n",
    "        idx2ft.update(x['s1_ft']+x['s2_ft'])\n",
    "    for x in test.values():\n",
    "        idx2id.update([x['s1_id'],x['s2_id']])\n",
    "        idx2ft.update(x['s1_ft']+x['s2_ft']) \n",
    "    \n",
    "    idx2id, idx2ft = list(idx2id),list(idx2ft)\n",
    "    \n",
    "    id2idx = {i:idx for idx,i in enumerate(idx2id)}\n",
    "    ft2idx = {ft:idx for idx,ft in enumerate(idx2ft)}\n",
    "        \n",
    "    return {'idx2id':idx2id, 'idx2ft':idx2ft,\n",
    "            'id2idx':id2idx, 'ft2idx':ft2idx}\n"
   ]
  },
  {
   "cell_type": "code",
   "execution_count": 15,
   "metadata": {
    "collapsed": false
   },
   "outputs": [],
   "source": [
    "dicts = indexing(X_train, X_test)"
   ]
  },
  {
   "cell_type": "code",
   "execution_count": 16,
   "metadata": {
    "collapsed": false
   },
   "outputs": [
    {
     "name": "stdout",
     "output_type": "stream",
     "text": [
      "# rows:  10948\n",
      "# cols:  191497\n"
     ]
    }
   ],
   "source": [
    "nrows = len(dicts['idx2id'])\n",
    "ncols = len(dicts['idx2ft'])\n",
    "print '# rows: ', nrows\n",
    "print '# cols: ', ncols"
   ]
  },
  {
   "cell_type": "markdown",
   "metadata": {},
   "source": [
    "## II. Sent-Feature Matrix"
   ]
  },
  {
   "cell_type": "code",
   "execution_count": 65,
   "metadata": {
    "collapsed": true
   },
   "outputs": [],
   "source": [
    "def s2f_matrix(dicts, train, test):\n",
    "    \n",
    "    s2f = np.zeros((nrows,ncols))\n",
    "    idx2id, idx2ft = dicts['idx2id'], dicts['idx2ft'] # easier to refer to.\n",
    "    id2idx, ft2idx = dicts['id2idx'], dicts['ft2idx']\n",
    "    \n",
    "    for x in train.values():\n",
    "        r_idx1, r_idx2 = id2idx[x['s1_id']], id2idx[x['s2_id']]\n",
    "        for ft in x['s1_ft']+x['s1_ft']:\n",
    "            s2f[r_idx1][ft2idx[ft]] += 1\n",
    "        for ft in x['s2_ft']+x['s2_ft']:\n",
    "            s2f[r_idx2][ft2idx[ft]] += 1        \n",
    "    for x in test.values():\n",
    "        r_idx1, r_idx2 = id2idx[x['s1_id']], id2idx[x['s2_id']]\n",
    "        for ft in x['s1_ft']+x['s1_ft']:\n",
    "            s2f[r_idx1][ft2idx[ft]] += 1\n",
    "        for ft in x['s2_ft']+x['s2_ft']:\n",
    "            s2f[r_idx2][ft2idx[ft]] += 1 \n",
    "    \n",
    "    return s2f\n"
   ]
  },
  {
   "cell_type": "code",
   "execution_count": 66,
   "metadata": {
    "collapsed": false,
    "scrolled": true
   },
   "outputs": [
    {
     "name": "stdout",
     "output_type": "stream",
     "text": [
      "CPU times: user 1.79 s, sys: 831 ms, total: 2.62 s\n",
      "Wall time: 2.7 s\n"
     ]
    }
   ],
   "source": [
    "%%time\n",
    "s2f = s2f_matrix(dicts, X_train, X_test)"
   ]
  },
  {
   "cell_type": "code",
   "execution_count": 67,
   "metadata": {
    "collapsed": false
   },
   "outputs": [
    {
     "data": {
      "text/plain": [
       "(10948, 191497)"
      ]
     },
     "execution_count": 67,
     "metadata": {},
     "output_type": "execute_result"
    }
   ],
   "source": [
    "s2f.shape"
   ]
  },
  {
   "cell_type": "markdown",
   "metadata": {},
   "source": [
    "##### To Sparse"
   ]
  },
  {
   "cell_type": "code",
   "execution_count": 68,
   "metadata": {
    "collapsed": true
   },
   "outputs": [],
   "source": [
    "from scipy.sparse import csr_matrix, csc_matrix"
   ]
  },
  {
   "cell_type": "code",
   "execution_count": 69,
   "metadata": {
    "collapsed": false,
    "scrolled": true
   },
   "outputs": [
    {
     "name": "stdout",
     "output_type": "stream",
     "text": [
      "CPU times: user 25.2 s, sys: 13.4 s, total: 38.7 s\n",
      "Wall time: 43.4 s\n"
     ]
    }
   ],
   "source": [
    "%%time\n",
    "s2f_csr = csr_matrix(s2f)"
   ]
  },
  {
   "cell_type": "code",
   "execution_count": 70,
   "metadata": {
    "collapsed": false
   },
   "outputs": [
    {
     "name": "stdout",
     "output_type": "stream",
     "text": [
      "CPU times: user 24.6 s, sys: 14.7 s, total: 39.3 s\n",
      "Wall time: 45.2 s\n"
     ]
    }
   ],
   "source": [
    "%%time\n",
    "s2f_csc = csc_matrix(s2f)"
   ]
  },
  {
   "cell_type": "code",
   "execution_count": 71,
   "metadata": {
    "collapsed": false
   },
   "outputs": [
    {
     "name": "stdout",
     "output_type": "stream",
     "text": [
      "(10948, 191497)\n",
      "(10948, 191497)\n"
     ]
    }
   ],
   "source": [
    "print s2f_csr.shape\n",
    "print s2f_csc.shape"
   ]
  },
  {
   "cell_type": "markdown",
   "metadata": {},
   "source": [
    "## III. TF-KLD Weighting"
   ]
  },
  {
   "cell_type": "markdown",
   "metadata": {},
   "source": [
    "### A. Compute KLD\n",
    "\n",
    "**NB**: Only computed on the training set, to avoid test leak."
   ]
  },
  {
   "cell_type": "markdown",
   "metadata": {},
   "source": [
    "**Math** (cf. JE13:892)\n",
    "\n",
    "* $p_k = P(w_{ik}^{(1)}|w_{ik}^{(2)},r_i=1)$, probability that sentence $w_i^{(1)}$ contains features $k$, given that $k$ appears in $w_i^{(2)}$ and the two sentences are labeled as paraphrases, $r_i=1$.\n",
    "* $q_k = P(w_{ik}^{(1)}|w_{ik}^{(2)},r_i=0)$, probability that sentence $w_i^{(1)}$ contains features $k$, given that $k$ appears in $w_i^{(2)}$ and the two sentences are labeled as not paraphrases, $r_i=0$.\n",
    "* **NB**: $w_i^{(1)}$ and $w_i^{(2)}$ are binarized vectors of distributional features for sentence $1$ and $2$ in a pair, respectively. The order of the sentences within the pair is assumed irrelevant."
   ]
  },
  {
   "cell_type": "code",
   "execution_count": 72,
   "metadata": {
    "collapsed": true
   },
   "outputs": [],
   "source": [
    "from __future__ import division"
   ]
  },
  {
   "cell_type": "code",
   "execution_count": 73,
   "metadata": {
    "collapsed": true
   },
   "outputs": [],
   "source": [
    "def div(x, y):\n",
    "    return x/y if y!=0 else 0"
   ]
  },
  {
   "cell_type": "code",
   "execution_count": 122,
   "metadata": {
    "collapsed": true
   },
   "outputs": [],
   "source": [
    "def kl(p, q):\n",
    "    # pi==0: lim(0*log0)=0\n",
    "    # qi==0: actually inf, but since we have binary ps and qs,\n",
    "    #       and the kl in the extreme case of [.99999,.00001] vs. [.00001,.99999]\n",
    "    #       is equal to ~11.51, i use 10 as a \"big-kl-divergence\" penalty.\n",
    "    \n",
    "    d = 0\n",
    "    for pi,qi in zip(p,q):\n",
    "        if pi==0: continue\n",
    "        elif qi==0: \n",
    "            d += 10\n",
    "            continue\n",
    "        d += pi*np.log(pi/qi)\n",
    "    \n",
    "    return d"
   ]
  },
  {
   "cell_type": "code",
   "execution_count": 75,
   "metadata": {
    "collapsed": false
   },
   "outputs": [],
   "source": [
    "def kl2(a, b):\n",
    "    \n",
    "    a = np.asarray(a, dtype=np.float)\n",
    "    b = np.asarray(b, dtype=np.float)\n",
    "\n",
    "    return np.sum(np.where(a != 0, a * np.log(a / b + 1e-7), 0))"
   ]
  },
  {
   "cell_type": "code",
   "execution_count": 96,
   "metadata": {
    "collapsed": true
   },
   "outputs": [],
   "source": [
    "def kl3(p, q):\n",
    "    \n",
    "    d = 0\n",
    "    for pi,qi in zip(p,q):\n",
    "        if pi==0: continue\n",
    "        elif qi==0: \n",
    "            d += 0\n",
    "            continue\n",
    "        d += pi*np.log(pi/qi)\n",
    "    \n",
    "    return d"
   ]
  },
  {
   "cell_type": "code",
   "execution_count": 118,
   "metadata": {
    "collapsed": true
   },
   "outputs": [],
   "source": [
    "def get_kld(dicts, X_train, Y_train): \n",
    "\n",
    "    num_p, denom_p = defaultdict(int), defaultdict(int) # r = 1 condition\n",
    "    num_q, denom_q = defaultdict(int), defaultdict(int) # r = 0 condition\n",
    "    fts = dicts['ft2idx'].keys()\n",
    "    \n",
    "    for i,x in X_train.iteritems():\n",
    "        r = Y_train[i]\n",
    "        if r==1:\n",
    "            for ft in x['s2_ft']:\n",
    "                denom_p[ft] += 1\n",
    "                if ft in x['s1_ft']:\n",
    "                    num_p[ft] += 1\n",
    "        else:\n",
    "            for ft in x['s2_ft']:\n",
    "                denom_q[ft] += 1\n",
    "                if ft in x['s1_ft']:\n",
    "                    num_q[ft] += 1 \n",
    "    \n",
    "    kld = {}\n",
    "    for ft in fts:\n",
    "        p1, q1 = div(num_p[ft],denom_p[ft]), div(num_q[ft],denom_q[ft])\n",
    "        p0, q0 = 1 - p1, 1 - q1\n",
    "        kld[ft] = kl([p0,p1],[q0,q1])\n",
    "    \n",
    "    return kld\n",
    "        "
   ]
  },
  {
   "cell_type": "code",
   "execution_count": 123,
   "metadata": {
    "collapsed": false
   },
   "outputs": [
    {
     "name": "stdout",
     "output_type": "stream",
     "text": [
      "CPU times: user 3.98 s, sys: 113 ms, total: 4.09 s\n",
      "Wall time: 4.04 s\n"
     ]
    }
   ],
   "source": [
    "%%time\n",
    "kld = get_kld(dicts, X_train, Y_train)"
   ]
  },
  {
   "cell_type": "code",
   "execution_count": 124,
   "metadata": {
    "collapsed": false,
    "scrolled": true
   },
   "outputs": [
    {
     "name": "stdout",
     "output_type": "stream",
     "text": [
      "small kld example: 'the' (0.004158)\n",
      "large kld example: 'accuse' (9.821485)\n"
     ]
    }
   ],
   "source": [
    "print \"small kld example: 'the' (%.6f)\" % kld['the']\n",
    "print \"large kld example: 'accuse' (%.6f)\" % kld['accuse']"
   ]
  },
  {
   "cell_type": "code",
   "execution_count": 125,
   "metadata": {
    "collapsed": false
   },
   "outputs": [
    {
     "data": {
      "text/plain": [
       "10"
      ]
     },
     "execution_count": 125,
     "metadata": {},
     "output_type": "execute_result"
    }
   ],
   "source": [
    "kld[(u'since', 'rel', u'february')]"
   ]
  },
  {
   "cell_type": "code",
   "execution_count": null,
   "metadata": {
    "collapsed": false
   },
   "outputs": [],
   "source": []
  },
  {
   "cell_type": "code",
   "execution_count": null,
   "metadata": {
    "collapsed": true
   },
   "outputs": [],
   "source": []
  },
  {
   "cell_type": "markdown",
   "metadata": {},
   "source": [
    "### B. Weight Each Feature by TF-KLD"
   ]
  },
  {
   "cell_type": "code",
   "execution_count": 102,
   "metadata": {
    "collapsed": true
   },
   "outputs": [],
   "source": [
    "def tf_kld(dicts, kld, s2f): # in situ weighting.\n",
    "    \n",
    "    ft2idx = dicts['ft2idx']\n",
    "    \n",
    "    for ft,kl in kld.iteritems():\n",
    "        s2f[:,ft2idx[ft]] *= kl\n",
    "     "
   ]
  },
  {
   "cell_type": "code",
   "execution_count": 103,
   "metadata": {
    "collapsed": false,
    "scrolled": true
   },
   "outputs": [
    {
     "name": "stdout",
     "output_type": "stream",
     "text": [
      "CPU times: user 1min 51s, sys: 3min 14s, total: 5min 5s\n",
      "Wall time: 5min 57s\n"
     ]
    }
   ],
   "source": [
    "%%time\n",
    "tf_kld(dicts, kld, s2f)"
   ]
  },
  {
   "cell_type": "markdown",
   "metadata": {},
   "source": [
    "## IV. NMF Reduction"
   ]
  },
  {
   "cell_type": "code",
   "execution_count": 104,
   "metadata": {
    "collapsed": true
   },
   "outputs": [],
   "source": [
    "from sklearn.decomposition import NMF"
   ]
  },
  {
   "cell_type": "code",
   "execution_count": 105,
   "metadata": {
    "collapsed": false
   },
   "outputs": [],
   "source": [
    "nmf = NMF(n_components=100,verbose=3) # cf. JE13:894"
   ]
  },
  {
   "cell_type": "code",
   "execution_count": 171,
   "metadata": {
    "collapsed": false,
    "scrolled": false
   },
   "outputs": [],
   "source": [
    "%%time\n",
    "s2f_nmf = nmf.fit_transform(s2f_csr) # ~12min for k=100"
   ]
  },
  {
   "cell_type": "code",
   "execution_count": 126,
   "metadata": {
    "collapsed": true
   },
   "outputs": [],
   "source": [
    "import cPickle"
   ]
  },
  {
   "cell_type": "code",
   "execution_count": 127,
   "metadata": {
    "collapsed": true
   },
   "outputs": [],
   "source": [
    "data_path = \"/Users/jacobsw/Desktop/WORK/OJO_CODE/SENTENCE_SIMILARITIES/DATA/\""
   ]
  },
  {
   "cell_type": "code",
   "execution_count": 128,
   "metadata": {
    "collapsed": false
   },
   "outputs": [],
   "source": [
    "# SAVE\n",
    "with open(data_path+'latent_s2f_matrix_k100.p','wb') as f:\n",
    "    cPickle.dump(s2f_nmf, f)\n",
    "# with open(data_path+'latent_s2f_matrix_k400.p','wb') as f:\n",
    "#     cPickle.dump(s2f_nmf, f)\n",
    "# with open(data_path+'latent_s2f_matrix_k100_kl2.p','wb') as f:\n",
    "#     cPickle.dump(s2f_nmf, f)\n",
    "# with open(data_path+'latent_s2f_matrix_k100_kl3.p','wb') as f:\n",
    "#     cPickle.dump(s2f_nmf, f)\n",
    "\n",
    "# LOAD\n",
    "# with open(data_path+'latent_s2f_matrix_k100.p','rb') as f:\n",
    "#     s2f_nmf = cPickle.load(f)\n",
    "# with open(data_path+'latent_s2f_matrix_k400.p','rb') as f:\n",
    "#     s2f_nmf = cPickle.load(f)\n",
    "# with open(data_path+'latent_s2f_matrix_k100_kl2.p','wb') as f:\n",
    "#     s2f_nmf = cPickle.load(f)\n",
    "# with open(data_path+'latent_s2f_matrix_k100_kl3.p','wb') as f:\n",
    "#     s2f_nmf = cPickle.load(f)"
   ]
  },
  {
   "cell_type": "markdown",
   "metadata": {},
   "source": [
    "## V. Final Featurization"
   ]
  },
  {
   "cell_type": "markdown",
   "metadata": {},
   "source": [
    "**Math**\n",
    "\n",
    "* $s(v_1,v_2) = [v_1+v_2, |v_1-v_2|]$, i.e. concatenation of the element-wise sum $v_1+v_2$ and absolute difference $|v_1-v_2|$.\n",
    "* **NB**: $v_1$ and $v_2$ are the *latent representations* (i.e. dimension-reduced) of a pair of sentences."
   ]
  },
  {
   "cell_type": "code",
   "execution_count": 129,
   "metadata": {
    "collapsed": true
   },
   "outputs": [],
   "source": [
    "# LOAD W06 FEATURES\n",
    "with open(data_path+'train1.p','rb') as f_train:\n",
    "    X_train_w06fts, Y_train_w06fts = cPickle.load(f_train)\n",
    "with open(data_path+'test1.p','rb') as f_test:\n",
    "    X_test_w06fts, Y_test_w06fts = cPickle.load(f_test)"
   ]
  },
  {
   "cell_type": "code",
   "execution_count": 133,
   "metadata": {
    "collapsed": false
   },
   "outputs": [],
   "source": [
    "def featurize(dicts, X_train, Y_train, X_test, Y_test, s2f_nmf):\n",
    "    \n",
    "    id2idx = dicts['id2idx']\n",
    "    X_train_fts, Y_train_fts = [], []\n",
    "    X_test_fts, Y_test_fts = [], []\n",
    "    \n",
    "    for i,x in X_train.iteritems():\n",
    "        s1_idx, s2_idx = id2idx[x['s1_id']], id2idx[x['s2_id']]\n",
    "        v1, v2 = s2f_nmf[s1_idx], s2f_nmf[s2_idx]\n",
    "        s = np.concatenate([v1+v2,abs(v1-v2),X_train_w06fts[i]])\n",
    "        X_train_fts.append(s)\n",
    "        Y_train_fts.append(Y_train[i])\n",
    "    for i,x in X_test.iteritems():\n",
    "        s1_idx, s2_idx = id2idx[x['s1_id']], id2idx[x['s2_id']]\n",
    "        v1, v2 = s2f_nmf[s1_idx], s2f_nmf[s2_idx]\n",
    "        s = np.concatenate([v1+v2,abs(v1-v2),X_test_w06fts[i]])\n",
    "        X_test_fts.append(s)\n",
    "        Y_test_fts.append(Y_test[i])  \n",
    "    \n",
    "    return X_train_fts, Y_train_fts, X_test_fts, Y_test_fts\n",
    "    "
   ]
  },
  {
   "cell_type": "code",
   "execution_count": 134,
   "metadata": {
    "collapsed": false
   },
   "outputs": [
    {
     "name": "stdout",
     "output_type": "stream",
     "text": [
      "CPU times: user 52.8 ms, sys: 9.34 ms, total: 62.1 ms\n",
      "Wall time: 76.7 ms\n"
     ]
    }
   ],
   "source": [
    "%%time\n",
    "X_train_fts, Y_train_fts, X_test_fts, Y_test_fts = featurize(dicts, X_train, Y_train, X_test, Y_test, s2f_nmf)"
   ]
  },
  {
   "cell_type": "code",
   "execution_count": 135,
   "metadata": {
    "collapsed": false
   },
   "outputs": [
    {
     "data": {
      "text/plain": [
       "222"
      ]
     },
     "execution_count": 135,
     "metadata": {},
     "output_type": "execute_result"
    }
   ],
   "source": [
    "len(X_train_fts[0])"
   ]
  },
  {
   "cell_type": "markdown",
   "metadata": {},
   "source": [
    "## VI. Evaluation"
   ]
  },
  {
   "cell_type": "code",
   "execution_count": 136,
   "metadata": {
    "collapsed": true
   },
   "outputs": [],
   "source": [
    "def evaluate(X_test_fts, Y_test_fts, model):\n",
    "    y_true = Y_test_fts\n",
    "    y_pred = model.predict(X_test_fts)\n",
    "    print 'Accuracy: %.6f' % accuracy_score(y_true,y_pred)\n",
    "    print\n",
    "    print classification_report(y_true,y_pred)"
   ]
  },
  {
   "cell_type": "markdown",
   "metadata": {
    "collapsed": true
   },
   "source": [
    "### A. Logistic Regression"
   ]
  },
  {
   "cell_type": "markdown",
   "metadata": {},
   "source": [
    "##### Results Summary\n",
    "\n",
    "* $K=100$: $Accuracy = .73; Prec/Rec/F1 = .72/.73/.72$\n",
    "* $K=400$: $Accuracy = .73; Prec/Rec/F1 = .72/.73/.73$"
   ]
  },
  {
   "cell_type": "code",
   "execution_count": 137,
   "metadata": {
    "collapsed": true
   },
   "outputs": [],
   "source": [
    "from sklearn.linear_model import LogisticRegression\n",
    "from sklearn.metrics import accuracy_score, classification_report"
   ]
  },
  {
   "cell_type": "code",
   "execution_count": 138,
   "metadata": {
    "collapsed": true
   },
   "outputs": [],
   "source": [
    "lr = LogisticRegression()"
   ]
  },
  {
   "cell_type": "code",
   "execution_count": 139,
   "metadata": {
    "collapsed": false,
    "scrolled": true
   },
   "outputs": [
    {
     "data": {
      "text/plain": [
       "LogisticRegression(C=1.0, class_weight=None, dual=False, fit_intercept=True,\n",
       "          intercept_scaling=1, max_iter=100, multi_class='ovr', n_jobs=1,\n",
       "          penalty='l2', random_state=None, solver='liblinear', tol=0.0001,\n",
       "          verbose=0, warm_start=False)"
      ]
     },
     "execution_count": 139,
     "metadata": {},
     "output_type": "execute_result"
    }
   ],
   "source": [
    "lr.fit(X_train_fts, Y_train_fts)"
   ]
  },
  {
   "cell_type": "code",
   "execution_count": 140,
   "metadata": {
    "collapsed": false
   },
   "outputs": [
    {
     "name": "stdout",
     "output_type": "stream",
     "text": [
      "Accuracy: 0.731594\n",
      "\n",
      "             precision    recall  f1-score   support\n",
      "\n",
      "          0       0.63      0.49      0.55       578\n",
      "          1       0.77      0.85      0.81      1147\n",
      "\n",
      "avg / total       0.72      0.73      0.72      1725\n",
      "\n"
     ]
    }
   ],
   "source": [
    "evaluate(X_test_fts, Y_test_fts, lr) # K=100 results"
   ]
  },
  {
   "cell_type": "markdown",
   "metadata": {},
   "source": [
    "### B. SVM"
   ]
  },
  {
   "cell_type": "markdown",
   "metadata": {},
   "source": [
    "##### Results Summary\n",
    "\n",
    "* **Default Setting**\n",
    "    * $Linear Kernel$\n",
    "        * $K=100$: $Accuracy = .73; Prec/Rec/F1 = .72/.73/.72$\n",
    "        * $K=400$: $Accuracy = ; Prec/Rec/F1 = $\n",
    "    * $RBF Kernel$\n",
    "        * $K=100$: $Accuracy = .73; Prec/Rec/F1 = .72/.73/.72$\n",
    "        * $K=400$: $Accuracy = .74; Prec/Rec/F1 = .73/.74/.73$"
   ]
  },
  {
   "cell_type": "markdown",
   "metadata": {},
   "source": [
    "##### a. Default Settings"
   ]
  },
  {
   "cell_type": "code",
   "execution_count": 29,
   "metadata": {
    "collapsed": true
   },
   "outputs": [],
   "source": [
    "from sklearn import svm"
   ]
  },
  {
   "cell_type": "code",
   "execution_count": 147,
   "metadata": {
    "collapsed": false
   },
   "outputs": [],
   "source": [
    "svm_linear = svm.SVC(kernel='linear',verbose=3)\n",
    "svm_rbf = svm.SVC(kernel='rbf',verbose=3)"
   ]
  },
  {
   "cell_type": "code",
   "execution_count": 151,
   "metadata": {
    "collapsed": false,
    "scrolled": true
   },
   "outputs": [
    {
     "name": "stdout",
     "output_type": "stream",
     "text": [
      "[LibSVM]CPU times: user 20.6 s, sys: 44.7 ms, total: 20.6 s\n",
      "Wall time: 20.6 s\n"
     ]
    },
    {
     "data": {
      "text/plain": [
       "SVC(C=1.0, cache_size=200, class_weight=None, coef0=0.0,\n",
       "  decision_function_shape=None, degree=3, gamma='auto', kernel='linear',\n",
       "  max_iter=-1, probability=False, random_state=None, shrinking=True,\n",
       "  tol=0.001, verbose=3)"
      ]
     },
     "execution_count": 151,
     "metadata": {},
     "output_type": "execute_result"
    }
   ],
   "source": [
    "%%time\n",
    "svm_linear.fit(X_train_fts, Y_train_fts)"
   ]
  },
  {
   "cell_type": "code",
   "execution_count": 152,
   "metadata": {
    "collapsed": false,
    "scrolled": true
   },
   "outputs": [
    {
     "name": "stdout",
     "output_type": "stream",
     "text": [
      "[LibSVM]CPU times: user 3.08 s, sys: 7.32 ms, total: 3.09 s\n",
      "Wall time: 3.09 s\n"
     ]
    },
    {
     "data": {
      "text/plain": [
       "SVC(C=1.0, cache_size=200, class_weight=None, coef0=0.0,\n",
       "  decision_function_shape=None, degree=3, gamma='auto', kernel='rbf',\n",
       "  max_iter=-1, probability=False, random_state=None, shrinking=True,\n",
       "  tol=0.001, verbose=3)"
      ]
     },
     "execution_count": 152,
     "metadata": {},
     "output_type": "execute_result"
    }
   ],
   "source": [
    "%%time\n",
    "svm_rbf.fit(X_train_fts, Y_train_fts)"
   ]
  },
  {
   "cell_type": "code",
   "execution_count": 169,
   "metadata": {
    "collapsed": false
   },
   "outputs": [
    {
     "name": "stdout",
     "output_type": "stream",
     "text": [
      "CPU times: user 812 ms, sys: 3.75 ms, total: 816 ms\n",
      "Wall time: 816 ms\n"
     ]
    }
   ],
   "source": [
    "%%time\n",
    "svm_linsvc = svm.LinearSVC()\n",
    "svm_linsvc.fit(X_train_fts, Y_train_fts)"
   ]
  },
  {
   "cell_type": "markdown",
   "metadata": {},
   "source": [
    "##### b. Grid Search"
   ]
  },
  {
   "cell_type": "code",
   "execution_count": 141,
   "metadata": {
    "collapsed": false
   },
   "outputs": [],
   "source": [
    "from sklearn.grid_search import GridSearchCV"
   ]
  },
  {
   "cell_type": "code",
   "execution_count": 142,
   "metadata": {
    "collapsed": false
   },
   "outputs": [],
   "source": [
    "params = {\n",
    "    'C': (.01,.1,.2,.5),\n",
    "}"
   ]
  },
  {
   "cell_type": "markdown",
   "metadata": {},
   "source": [
    "##### Grid Search I: Linear Kernel"
   ]
  },
  {
   "cell_type": "markdown",
   "metadata": {},
   "source": [
    "**K=100**"
   ]
  },
  {
   "cell_type": "code",
   "execution_count": 145,
   "metadata": {
    "collapsed": false
   },
   "outputs": [
    {
     "name": "stdout",
     "output_type": "stream",
     "text": [
      "Fitting 5 folds for each of 4 candidates, totalling 20 fits\n",
      "[CV] C=0.01 ..........................................................\n",
      "[CV] C=0.01 ..........................................................\n",
      "[CV] C=0.01 ..........................................................\n",
      "[CV] C=0.01 ..........................................................\n",
      "[CV] ................................. C=0.01, score=0.718137 -   2.6s\n",
      "[CV] C=0.01 ..........................................................\n",
      "[CV] ................................. C=0.01, score=0.721814 -   2.6s\n",
      "[CV] C=0.1 ...........................................................\n",
      "[CV] ................................. C=0.01, score=0.723039 -   2.7s\n",
      "[CV] C=0.1 ...........................................................\n",
      "[CV] ................................. C=0.01, score=0.721130 -   2.7s\n",
      "[CV] C=0.1 ...........................................................\n",
      "[CV] ................................. C=0.01, score=0.728501 -   2.6s\n",
      "[CV] C=0.1 ...........................................................\n",
      "[CV] .................................. C=0.1, score=0.716912 -   3.6s\n",
      "[CV] C=0.1 ...........................................................\n",
      "[CV] .................................. C=0.1, score=0.721814 -   3.6s\n",
      "[CV] .................................. C=0.1, score=0.715686 -   3.6s\n",
      "[CV] C=0.2 ...........................................................\n",
      "[CV] C=0.2 ...........................................................\n",
      "[CV] .................................. C=0.1, score=0.724816 -   4.0s\n",
      "[CV] C=0.2 ...........................................................\n",
      "[CV] .................................. C=0.1, score=0.727273 -   4.0s\n",
      "[CV] C=0.2 ...........................................................\n",
      "[CV] .................................. C=0.2, score=0.718137 -   4.7s\n",
      "[CV] .................................. C=0.2, score=0.724265 -   4.8s\n",
      "[CV] C=0.2 ...........................................................\n",
      "[CV] C=0.5 ...........................................................\n",
      "[CV] .................................. C=0.2, score=0.718137 -   4.5s\n",
      "[CV] C=0.5 ...........................................................\n",
      "[CV] .................................. C=0.2, score=0.729730 -   4.1s\n",
      "[CV] C=0.5 ...........................................................\n"
     ]
    },
    {
     "name": "stderr",
     "output_type": "stream",
     "text": [
      "[Parallel(n_jobs=4)]: Done  21 out of  20 | elapsed:   15.3s remaining:   -0.7s\n"
     ]
    },
    {
     "name": "stdout",
     "output_type": "stream",
     "text": [
      "[CV] .................................. C=0.2, score=0.735872 -   4.6s\n",
      "[CV] C=0.5 ...........................................................\n"
     ]
    },
    {
     "name": "stderr",
     "output_type": "stream",
     "text": [
      "[Parallel(n_jobs=4)]: Done  21 out of  20 | elapsed:   17.2s remaining:   -0.8s\n"
     ]
    },
    {
     "name": "stdout",
     "output_type": "stream",
     "text": [
      "[CV] .................................. C=0.5, score=0.731618 -   7.8s\n",
      "[CV] C=0.5 ...........................................................\n"
     ]
    },
    {
     "name": "stderr",
     "output_type": "stream",
     "text": [
      "[Parallel(n_jobs=4)]: Done  21 out of  20 | elapsed:   20.7s remaining:   -1.0s\n"
     ]
    },
    {
     "name": "stdout",
     "output_type": "stream",
     "text": [
      "[CV] .................................. C=0.5, score=0.719363 -   7.2s\n"
     ]
    },
    {
     "name": "stderr",
     "output_type": "stream",
     "text": [
      "[Parallel(n_jobs=4)]: Done  21 out of  20 | elapsed:   21.4s remaining:   -1.0s\n"
     ]
    },
    {
     "name": "stdout",
     "output_type": "stream",
     "text": [
      "[CV] .................................. C=0.5, score=0.721814 -   6.9s\n"
     ]
    },
    {
     "name": "stderr",
     "output_type": "stream",
     "text": [
      "[Parallel(n_jobs=4)]: Done  21 out of  20 | elapsed:   22.3s remaining:   -1.1s\n"
     ]
    },
    {
     "name": "stdout",
     "output_type": "stream",
     "text": [
      "[CV] .................................. C=0.5, score=0.732187 -   7.5s\n"
     ]
    },
    {
     "name": "stderr",
     "output_type": "stream",
     "text": [
      "[Parallel(n_jobs=4)]: Done  21 out of  20 | elapsed:   24.7s remaining:   -1.2s\n"
     ]
    },
    {
     "name": "stdout",
     "output_type": "stream",
     "text": [
      "[CV] .................................. C=0.5, score=0.740786 -   6.8s\n"
     ]
    },
    {
     "name": "stderr",
     "output_type": "stream",
     "text": [
      "[Parallel(n_jobs=4)]: Done  21 out of  20 | elapsed:   27.6s remaining:   -1.3s\n",
      "[Parallel(n_jobs=4)]: Done  20 out of  20 | elapsed:   27.6s finished\n"
     ]
    },
    {
     "name": "stdout",
     "output_type": "stream",
     "text": [
      "CPU times: user 15.8 s, sys: 1.39 s, total: 17.2 s\n",
      "Wall time: 37.7 s\n"
     ]
    }
   ],
   "source": [
    "%%time\n",
    "grd_lin_k100 = GridSearchCV(svm.SVC(kernel='linear'),params,cv=5,verbose=3,n_jobs=4)\n",
    "grd_lin_k100.fit(X_train_fts,Y_train_fts)"
   ]
  },
  {
   "cell_type": "code",
   "execution_count": 144,
   "metadata": {
    "collapsed": false
   },
   "outputs": [
    {
     "name": "stdout",
     "output_type": "stream",
     "text": [
      "Best Score: 72.914622%\n",
      "Best Params: \n",
      "\tC: 0.5\n"
     ]
    }
   ],
   "source": [
    "print \"Best Score: %.6f%%\" % (grd_lin_k100.best_score_*100)\n",
    "print \"Best Params: \"\n",
    "best_params = grd_lin_k100.best_estimator_.get_params()\n",
    "for param_name in sorted(params.keys()):\n",
    "    print \"\\t%s: %r\" % (param_name, best_params[param_name])"
   ]
  },
  {
   "cell_type": "markdown",
   "metadata": {},
   "source": [
    "**K=400**"
   ]
  },
  {
   "cell_type": "code",
   "execution_count": 30,
   "metadata": {
    "collapsed": false
   },
   "outputs": [
    {
     "name": "stdout",
     "output_type": "stream",
     "text": [
      "Fitting 5 folds for each of 4 candidates, totalling 20 fits\n",
      "[CV] C=0.01 ..........................................................\n",
      "[CV] C=0.01 ..........................................................\n",
      "[CV] C=0.01 ..........................................................\n",
      "[CV] C=0.01 ..........................................................\n",
      "[CV] ................................. C=0.01, score=0.720588 -   9.2s\n",
      "[CV] C=0.01 ..........................................................\n",
      "[CV] ................................. C=0.01, score=0.721814 -   9.2s\n",
      "[CV] C=0.1 ...........................................................\n",
      "[CV] ................................. C=0.01, score=0.725490 -   9.4s\n",
      "[CV] C=0.1 ...........................................................\n",
      "[CV] ................................. C=0.01, score=0.723587 -   9.5s\n",
      "[CV] C=0.1 ...........................................................\n",
      "[CV] ................................. C=0.01, score=0.724816 -   9.9s\n",
      "[CV] C=0.1 ...........................................................\n",
      "[CV] .................................. C=0.1, score=0.726716 -  12.1s\n",
      "[CV] .................................. C=0.1, score=0.726716 -  11.7s\n",
      "[CV] C=0.1 ...........................................................\n",
      "[CV] .................................. C=0.1, score=0.731618 -  11.7s\n",
      "[CV] C=0.2 ...........................................................\n",
      "[CV] C=0.2 ...........................................................\n",
      "[CV] .................................. C=0.1, score=0.743243 -  11.7s\n",
      "[CV] C=0.2 ...........................................................\n",
      "[CV] .................................. C=0.1, score=0.727273 -  11.6s\n",
      "[CV] C=0.2 ...........................................................\n",
      "[CV] .................................. C=0.2, score=0.713235 -  13.6s\n",
      "[CV] C=0.2 ...........................................................\n",
      "[CV] .................................. C=0.2, score=0.727941 -  14.5s\n",
      "[CV] C=0.5 ...........................................................\n",
      "[CV] .................................. C=0.2, score=0.732843 -  13.4s\n",
      "[CV] C=0.5 ...........................................................\n",
      "[CV] .................................. C=0.2, score=0.744472 -  13.6s\n",
      "[CV] C=0.5 ...........................................................\n"
     ]
    },
    {
     "name": "stderr",
     "output_type": "stream",
     "text": [
      "[Parallel(n_jobs=4)]: Done  21 out of  20 | elapsed:   47.8s remaining:   -2.3s\n"
     ]
    },
    {
     "name": "stdout",
     "output_type": "stream",
     "text": [
      "[CV] .................................. C=0.2, score=0.729730 -  13.4s\n",
      "[CV] C=0.5 ...........................................................\n"
     ]
    },
    {
     "name": "stderr",
     "output_type": "stream",
     "text": [
      "[Parallel(n_jobs=4)]: Done  21 out of  20 | elapsed:   50.5s remaining:   -2.4s\n"
     ]
    },
    {
     "name": "stdout",
     "output_type": "stream",
     "text": [
      "[CV] .................................. C=0.5, score=0.730392 -  22.0s\n",
      "[CV] C=0.5 ...........................................................\n"
     ]
    },
    {
     "name": "stderr",
     "output_type": "stream",
     "text": [
      "[Parallel(n_jobs=4)]: Done  21 out of  20 | elapsed:   59.6s remaining:   -2.8s\n"
     ]
    },
    {
     "name": "stdout",
     "output_type": "stream",
     "text": [
      "[CV] .................................. C=0.5, score=0.715686 -  21.7s\n"
     ]
    },
    {
     "name": "stderr",
     "output_type": "stream",
     "text": [
      "[Parallel(n_jobs=4)]: Done  21 out of  20 | elapsed:  1.1min remaining:   -3.2s\n"
     ]
    },
    {
     "name": "stdout",
     "output_type": "stream",
     "text": [
      "[CV] .................................. C=0.5, score=0.740786 -  18.2s\n"
     ]
    },
    {
     "name": "stderr",
     "output_type": "stream",
     "text": [
      "[Parallel(n_jobs=4)]: Done  21 out of  20 | elapsed:  1.1min remaining:   -3.3s\n"
     ]
    },
    {
     "name": "stdout",
     "output_type": "stream",
     "text": [
      "[CV] .................................. C=0.5, score=0.734069 -  21.4s\n"
     ]
    },
    {
     "name": "stderr",
     "output_type": "stream",
     "text": [
      "[Parallel(n_jobs=4)]: Done  21 out of  20 | elapsed:  1.2min remaining:   -3.3s\n"
     ]
    },
    {
     "name": "stdout",
     "output_type": "stream",
     "text": [
      "[CV] .................................. C=0.5, score=0.730958 -  17.9s\n"
     ]
    },
    {
     "name": "stderr",
     "output_type": "stream",
     "text": [
      "[Parallel(n_jobs=4)]: Done  21 out of  20 | elapsed:  1.3min remaining:   -3.7s\n",
      "[Parallel(n_jobs=4)]: Done  20 out of  20 | elapsed:  1.3min finished\n"
     ]
    },
    {
     "name": "stdout",
     "output_type": "stream",
     "text": [
      "CPU times: user 21.7 s, sys: 2.11 s, total: 23.8 s\n",
      "Wall time: 1min 32s\n"
     ]
    }
   ],
   "source": [
    "%%time\n",
    "grd_lin_k400 = GridSearchCV(svm.SVC(kernel='linear'),params,cv=5,verbose=3,n_jobs=4)\n",
    "grd_lin_k400.fit(X_train_fts,Y_train_fts)"
   ]
  },
  {
   "cell_type": "code",
   "execution_count": 31,
   "metadata": {
    "collapsed": false
   },
   "outputs": [
    {
     "name": "stdout",
     "output_type": "stream",
     "text": [
      "Best Score: 73.110893%\n",
      "Best Params: \n",
      "\tC: 0.1\n"
     ]
    }
   ],
   "source": [
    "print \"Best Score: %.6f%%\" % (grd_lin_k400.best_score_*100)\n",
    "print \"Best Params: \"\n",
    "best_params = grd_lin_k400.best_estimator_.get_params()\n",
    "for param_name in sorted(params.keys()):\n",
    "    print \"\\t%s: %r\" % (param_name, best_params[param_name])"
   ]
  },
  {
   "cell_type": "markdown",
   "metadata": {},
   "source": [
    "##### Grid Search II: RBF Kernel "
   ]
  },
  {
   "cell_type": "markdown",
   "metadata": {},
   "source": [
    "**K=100**"
   ]
  },
  {
   "cell_type": "code",
   "execution_count": 82,
   "metadata": {
    "collapsed": false
   },
   "outputs": [
    {
     "name": "stdout",
     "output_type": "stream",
     "text": [
      "Fitting 5 folds for each of 4 candidates, totalling 20 fits\n",
      "[CV] C=0.01 ..........................................................\n",
      "[CV] C=0.01 ..........................................................\n",
      "[CV] C=0.01 ..........................................................\n",
      "[CV] C=0.01 ..........................................................\n",
      "[CV] ................................. C=0.01, score=0.675245 -   3.0s\n",
      "[CV] C=0.01 ..........................................................\n",
      "[CV] ................................. C=0.01, score=0.675245 -   3.1s\n",
      "[CV] C=0.1 ...........................................................\n",
      "[CV] ................................. C=0.01, score=0.675245 -   3.2s\n",
      "[CV] C=0.1 ...........................................................\n",
      "[CV] ................................. C=0.01, score=0.675676 -   3.2s\n",
      "[CV] C=0.1 ...........................................................\n",
      "[CV] ................................. C=0.01, score=0.675676 -   3.4s\n",
      "[CV] C=0.1 ...........................................................\n",
      "[CV] .................................. C=0.1, score=0.724265 -   3.5s\n",
      "[CV] C=0.1 ...........................................................\n",
      "[CV] .................................. C=0.1, score=0.689951 -   3.4s\n",
      "[CV] C=0.2 ...........................................................\n",
      "[CV] .................................. C=0.1, score=0.726716 -   3.5s\n",
      "[CV] C=0.2 ...........................................................\n",
      "[CV] .................................. C=0.1, score=0.730958 -   3.5s\n",
      "[CV] C=0.2 ...........................................................\n",
      "[CV] .................................. C=0.1, score=0.708845 -   3.5s\n",
      "[CV] C=0.2 ...........................................................\n",
      "[CV] .................................. C=0.2, score=0.725490 -   3.5s\n",
      "[CV] C=0.2 ...........................................................\n",
      "[CV] .................................. C=0.2, score=0.692402 -   3.4s\n",
      "[CV] C=0.5 ...........................................................\n",
      "[CV] .................................. C=0.2, score=0.730392 -   3.5s\n",
      "[CV] C=0.5 ...........................................................\n",
      "[CV] .................................. C=0.2, score=0.721130 -   3.5s\n",
      "[CV] C=0.5 ...........................................................\n"
     ]
    },
    {
     "name": "stderr",
     "output_type": "stream",
     "text": [
      "[Parallel(n_jobs=4)]: Done  21 out of  20 | elapsed:   14.6s remaining:   -0.7s\n"
     ]
    },
    {
     "name": "stdout",
     "output_type": "stream",
     "text": [
      "[CV] .................................. C=0.2, score=0.702703 -   3.5s\n",
      "[CV] C=0.5 ...........................................................\n"
     ]
    },
    {
     "name": "stderr",
     "output_type": "stream",
     "text": [
      "[Parallel(n_jobs=4)]: Done  21 out of  20 | elapsed:   15.0s remaining:   -0.7s\n"
     ]
    },
    {
     "name": "stdout",
     "output_type": "stream",
     "text": [
      "[CV] .................................. C=0.5, score=0.726716 -   3.5s\n",
      "[CV] C=0.5 ...........................................................\n"
     ]
    },
    {
     "name": "stderr",
     "output_type": "stream",
     "text": [
      "[Parallel(n_jobs=4)]: Done  21 out of  20 | elapsed:   15.4s remaining:   -0.7s\n"
     ]
    },
    {
     "name": "stdout",
     "output_type": "stream",
     "text": [
      "[CV] .................................. C=0.5, score=0.689951 -   3.5s\n"
     ]
    },
    {
     "name": "stderr",
     "output_type": "stream",
     "text": [
      "[Parallel(n_jobs=4)]: Done  21 out of  20 | elapsed:   17.7s remaining:   -0.8s\n"
     ]
    },
    {
     "name": "stdout",
     "output_type": "stream",
     "text": [
      "[CV] .................................. C=0.5, score=0.730392 -   3.5s\n"
     ]
    },
    {
     "name": "stderr",
     "output_type": "stream",
     "text": [
      "[Parallel(n_jobs=4)]: Done  21 out of  20 | elapsed:   18.1s remaining:   -0.9s\n"
     ]
    },
    {
     "name": "stdout",
     "output_type": "stream",
     "text": [
      "[CV] .................................. C=0.5, score=0.737101 -   3.4s\n"
     ]
    },
    {
     "name": "stderr",
     "output_type": "stream",
     "text": [
      "[Parallel(n_jobs=4)]: Done  21 out of  20 | elapsed:   18.5s remaining:   -0.9s\n"
     ]
    },
    {
     "name": "stdout",
     "output_type": "stream",
     "text": [
      "[CV] .................................. C=0.5, score=0.723587 -   3.3s\n"
     ]
    },
    {
     "name": "stderr",
     "output_type": "stream",
     "text": [
      "[Parallel(n_jobs=4)]: Done  21 out of  20 | elapsed:   18.8s remaining:   -0.9s\n",
      "[Parallel(n_jobs=4)]: Done  20 out of  20 | elapsed:   18.8s finished\n"
     ]
    },
    {
     "name": "stdout",
     "output_type": "stream",
     "text": [
      "CPU times: user 10.4 s, sys: 1.39 s, total: 11.8 s\n",
      "Wall time: 22.9 s\n"
     ]
    }
   ],
   "source": [
    "%%time\n",
    "grd_rbf_k100 = GridSearchCV(svm.SVC(kernel='rbf'),params,cv=5,verbose=3,n_jobs=4)\n",
    "grd_rbf_k100.fit(X_train_fts,Y_train_fts)"
   ]
  },
  {
   "cell_type": "code",
   "execution_count": 83,
   "metadata": {
    "collapsed": false
   },
   "outputs": [
    {
     "name": "stdout",
     "output_type": "stream",
     "text": [
      "Best Score: 72.154073%\n",
      "Best Params: \n",
      "\tC: 0.5\n"
     ]
    }
   ],
   "source": [
    "print \"Best Score: %.6f%%\" % (grd_rbf_k100.best_score_*100)\n",
    "print \"Best Params: \"\n",
    "best_params = grd_rbf_k100.best_estimator_.get_params()\n",
    "for param_name in sorted(params.keys()):\n",
    "    print \"\\t%s: %r\" % (param_name, best_params[param_name])"
   ]
  },
  {
   "cell_type": "markdown",
   "metadata": {},
   "source": [
    "**K=400**"
   ]
  },
  {
   "cell_type": "code",
   "execution_count": 73,
   "metadata": {
    "collapsed": false
   },
   "outputs": [
    {
     "name": "stdout",
     "output_type": "stream",
     "text": [
      "Fitting 5 folds for each of 4 candidates, totalling 20 fits\n",
      "[CV] C=0.01 ..........................................................\n",
      "[CV] ................................. C=0.01, score=0.675245 -   9.1s\n",
      "[CV] C=0.01 ..........................................................\n",
      "[CV] ................................. C=0.01, score=0.686275 -   9.4s\n",
      "[CV] C=0.01 ..........................................................\n",
      "[CV] ................................. C=0.01, score=0.675245 -   9.2s\n",
      "[CV] C=0.01 ..........................................................\n",
      "[CV] ................................. C=0.01, score=0.675676 -   9.1s\n",
      "[CV] C=0.01 ..........................................................\n",
      "[CV] ................................. C=0.01, score=0.679361 -   9.0s\n",
      "[CV] C=0.1 ...........................................................\n",
      "[CV] .................................. C=0.1, score=0.740196 -   8.8s\n",
      "[CV] C=0.1 ...........................................................\n",
      "[CV] .................................. C=0.1, score=0.696078 -   8.7s\n",
      "[CV] C=0.1 ...........................................................\n",
      "[CV] .................................. C=0.1, score=0.734069 -   8.7s\n",
      "[CV] C=0.1 ...........................................................\n",
      "[CV] .................................. C=0.1, score=0.733415 -   8.8s\n",
      "[CV] C=0.1 ...........................................................\n",
      "[CV] .................................. C=0.1, score=0.713759 -   8.8s\n",
      "[CV] C=0.2 ...........................................................\n",
      "[CV] .................................. C=0.2, score=0.735294 -   8.7s\n",
      "[CV] C=0.2 ...........................................................\n",
      "[CV] .................................. C=0.2, score=0.692402 -   8.7s\n",
      "[CV] C=0.2 ...........................................................\n",
      "[CV] .................................. C=0.2, score=0.732843 -   8.8s\n",
      "[CV] C=0.2 ...........................................................\n",
      "[CV] .................................. C=0.2, score=0.732187 -   8.9s\n",
      "[CV] C=0.2 ...........................................................\n",
      "[CV] .................................. C=0.2, score=0.712531 -   8.9s\n",
      "[CV] C=0.5 ...........................................................\n",
      "[CV] .................................. C=0.5, score=0.737745 -   8.7s\n",
      "[CV] C=0.5 ...........................................................\n",
      "[CV] .................................. C=0.5, score=0.693627 -   8.6s\n",
      "[CV] C=0.5 ...........................................................\n",
      "[CV] .................................. C=0.5, score=0.727941 -   8.7s\n",
      "[CV] C=0.5 ...........................................................\n",
      "[CV] .................................. C=0.5, score=0.734644 -   9.0s\n",
      "[CV] C=0.5 ...........................................................\n",
      "[CV] .................................. C=0.5, score=0.710074 -   8.6s\n"
     ]
    },
    {
     "name": "stderr",
     "output_type": "stream",
     "text": [
      "[Parallel(n_jobs=1)]: Done  20 out of  20 | elapsed:  3.0min finished\n"
     ]
    },
    {
     "name": "stdout",
     "output_type": "stream",
     "text": [
      "CPU times: user 3min 6s, sys: 1.1 s, total: 3min 7s\n",
      "Wall time: 3min 8s\n"
     ]
    }
   ],
   "source": [
    "%%time\n",
    "grd_rbf_k400 = GridSearchCV(svm.SVC(kernel='rbf'),params,cv=5,verbose=3,n_jobs=4)\n",
    "grd_rbf_k400.fit(X_train_fts,Y_train_fts)"
   ]
  },
  {
   "cell_type": "code",
   "execution_count": 74,
   "metadata": {
    "collapsed": false,
    "scrolled": true
   },
   "outputs": [
    {
     "name": "stdout",
     "output_type": "stream",
     "text": [
      "Best Score: 72.350343%\n",
      "Best Params: \n",
      "\tC: 0.1\n"
     ]
    }
   ],
   "source": [
    "print \"Best Score: %.6f%%\" % (grd_rbf_k400.best_score_*100)\n",
    "print \"Best Params: \"\n",
    "best_params = grd_rbf_k400.best_estimator_.get_params()\n",
    "for param_name in sorted(params.keys()):\n",
    "    print \"\\t%s: %r\" % (param_name, best_params[param_name])"
   ]
  },
  {
   "cell_type": "markdown",
   "metadata": {},
   "source": [
    "##### Grid Search III: LinearSVC"
   ]
  },
  {
   "cell_type": "code",
   "execution_count": 35,
   "metadata": {
    "collapsed": true
   },
   "outputs": [],
   "source": [
    "from sklearn.svm import LinearSVC"
   ]
  },
  {
   "cell_type": "code",
   "execution_count": null,
   "metadata": {
    "collapsed": true
   },
   "outputs": [],
   "source": [
    "%%time\n",
    "grd_linsvc_k400 = GridSearchCV(LinearSVC(kernel='rbf'),params,cv=5,verbose=3,n_jobs=4)\n",
    "grd_linsvc_k400.fit(X_train_fts,Y_train_fts)"
   ]
  },
  {
   "cell_type": "markdown",
   "metadata": {},
   "source": [
    "##### Evaluation Block"
   ]
  },
  {
   "cell_type": "code",
   "execution_count": 154,
   "metadata": {
    "collapsed": false
   },
   "outputs": [
    {
     "name": "stdout",
     "output_type": "stream",
     "text": [
      "Accuracy: 0.731594\n",
      "\n",
      "             precision    recall  f1-score   support\n",
      "\n",
      "          0       0.65      0.44      0.52       578\n",
      "          1       0.76      0.88      0.81      1147\n",
      "\n",
      "avg / total       0.72      0.73      0.72      1725\n",
      "\n"
     ]
    }
   ],
   "source": [
    "evaluate(X_test_fts, Y_test_fts, svm_linear) # K=100 results"
   ]
  },
  {
   "cell_type": "code",
   "execution_count": 155,
   "metadata": {
    "collapsed": false,
    "scrolled": false
   },
   "outputs": [
    {
     "name": "stdout",
     "output_type": "stream",
     "text": [
      "Accuracy: 0.740290\n",
      "\n",
      "             precision    recall  f1-score   support\n",
      "\n",
      "          0       0.65      0.48      0.56       578\n",
      "          1       0.77      0.87      0.82      1147\n",
      "\n",
      "avg / total       0.73      0.74      0.73      1725\n",
      "\n"
     ]
    }
   ],
   "source": [
    "evaluate(X_test_fts, Y_test_fts, svm_rbf) # K=100 results"
   ]
  },
  {
   "cell_type": "code",
   "execution_count": 170,
   "metadata": {
    "collapsed": false
   },
   "outputs": [
    {
     "name": "stdout",
     "output_type": "stream",
     "text": [
      "Accuracy: 0.700870\n",
      "\n",
      "             precision    recall  f1-score   support\n",
      "\n",
      "          0       0.89      0.12      0.22       578\n",
      "          1       0.69      0.99      0.82      1147\n",
      "\n",
      "avg / total       0.76      0.70      0.61      1725\n",
      "\n"
     ]
    }
   ],
   "source": [
    "evaluate(X_test_fts, Y_test_fts, svm_linsvc) # K=100 results"
   ]
  },
  {
   "cell_type": "markdown",
   "metadata": {},
   "source": [
    "### C. Customized Paraphrase Searching"
   ]
  },
  {
   "cell_type": "code",
   "execution_count": null,
   "metadata": {
    "collapsed": true
   },
   "outputs": [],
   "source": [
    "# how to project the featurized new sentence into the space of the trained?"
   ]
  }
 ],
 "metadata": {
  "kernelspec": {
   "display_name": "Python 2",
   "language": "python",
   "name": "python2"
  },
  "language_info": {
   "codemirror_mode": {
    "name": "ipython",
    "version": 2
   },
   "file_extension": ".py",
   "mimetype": "text/x-python",
   "name": "python",
   "nbconvert_exporter": "python",
   "pygments_lexer": "ipython2",
   "version": "2.7.11"
  }
 },
 "nbformat": 4,
 "nbformat_minor": 0
}
