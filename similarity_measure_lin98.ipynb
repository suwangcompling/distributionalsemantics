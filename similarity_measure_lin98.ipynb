{
 "cells": [
  {
   "cell_type": "markdown",
   "metadata": {},
   "source": [
    "# Lin (1998)\n",
    "\n",
    "* **Statistic**: \n",
    "    * A Variant of Mutual Information\n",
    "    * Word Similarity\n",
    "* **Corpus**:\n",
    "    * Brown (NLTK)\n",
    "* **Parsing**:\n",
    "    * Type: Dependency\n",
    "    * Library: Spacy\n",
    "* **Categorization**:\n",
    "    * All POS"
   ]
  },
  {
   "cell_type": "markdown",
   "metadata": {},
   "source": [
    "### A. Math\n",
    "\n",
    "* **Information of a Dependency Triple**\n",
    "\n",
    "    * $ \\begin{align} I(w,r,w') &= -log(P_{MLE}(r)P_{MLE}(w|r)P_{MLE}(w'|r)) - (-logP_{MLE}(w,r,w')) \\\\\n",
    "    &= log\\frac{||w,r,w'||\\times||*,r,*||}{||w,r,*||\\times||*,r,w'||} \\end{align}$, where $*$ means *summing over all*. (cf. Lin 1998:769)\n",
    "    \n",
    "\n",
    "* **Word Similarity**\n",
    "\n",
    "    * ${SIM}(w_1,w_2) = \\frac{\\sum_{(r,w)\\in T(w_1)\\cap T(w_2)}(I(w_1,r,w) + I(w_2,r,w))}{\\sum_{(r,w)\\in T(w_1)}I(w_1,r,w) + \\sum_{(r,w)\\in T(w_2)}T(w_2,r,w)}$"
   ]
  },
  {
   "cell_type": "markdown",
   "metadata": {},
   "source": [
    "### B. Extract Dependency Triples"
   ]
  },
  {
   "cell_type": "code",
   "execution_count": 1,
   "metadata": {
    "collapsed": true
   },
   "outputs": [],
   "source": [
    "from nltk.corpus import brown\n",
    "from spacy.en import English"
   ]
  },
  {
   "cell_type": "code",
   "execution_count": 2,
   "metadata": {
    "collapsed": true
   },
   "outputs": [],
   "source": [
    "from nltk.stem import PorterStemmer\n",
    "porter = PorterStemmer()"
   ]
  },
  {
   "cell_type": "code",
   "execution_count": 4,
   "metadata": {
    "collapsed": true
   },
   "outputs": [],
   "source": [
    "def dependency_triples():\n",
    "    \n",
    "    # extract & parse sentences\n",
    "    sents = [' '.join(sent) for sent in brown.sents()]\n",
    "    parser = English()\n",
    "    parsed_corpus = [parser(sent) for sent in sents]\n",
    "    \n",
    "    # triple extraction facilities\n",
    "    get_triple = lambda s: [(token.orth_,token.dep_,token.head.orth_) for token in s]\n",
    "    porter = PorterStemmer()\n",
    "    to_stemmed = lambda (w,dep,h): (porter.stem(w).lower(),dep,porter.stem(h).lower())\n",
    "    \n",
    "    # extract triples\n",
    "    dep_triples = []\n",
    "    for sent in parsed_corpus:\n",
    "        dep_triples += get_triple(sent)\n",
    "    \n",
    "    # stem triples\n",
    "    stemmed_dep_triples = map(to_stemmed, dep_triples)\n",
    "    \n",
    "    return stemmed_dep_triples\n"
   ]
  },
  {
   "cell_type": "code",
   "execution_count": 6,
   "metadata": {
    "collapsed": false
   },
   "outputs": [
    {
     "name": "stdout",
     "output_type": "stream",
     "text": [
      "CPU times: user 2min 2s, sys: 2.73 s, total: 2min 5s\n",
      "Wall time: 2min 6s\n"
     ]
    }
   ],
   "source": [
    "%%time\n",
    "triples = dependency_triples()"
   ]
  },
  {
   "cell_type": "markdown",
   "metadata": {},
   "source": [
    "### C. Compute Argument Similarities"
   ]
  },
  {
   "cell_type": "code",
   "execution_count": 13,
   "metadata": {
    "collapsed": true
   },
   "outputs": [],
   "source": [
    "import numpy as np\n",
    "from collections import Counter, defaultdict\n",
    "from __future__ import division"
   ]
  },
  {
   "cell_type": "code",
   "execution_count": 14,
   "metadata": {
    "collapsed": true
   },
   "outputs": [],
   "source": [
    "# COMPUTATIONAL FACILITIES\n",
    "log = lambda x: np.log(x) if x!=0 else 0\n",
    "div = lambda x,y: x/y if y!=0 else 0."
   ]
  },
  {
   "cell_type": "code",
   "execution_count": 15,
   "metadata": {
    "collapsed": true
   },
   "outputs": [],
   "source": [
    "# COMPUTATIONAL LOOKUPS\n",
    "c_wrw = Counter(triples)\n",
    "c_0r0 = Counter(r for _,r,_ in triples)\n",
    "c_wr0 = Counter((w,r) for w,r,_ in triples)\n",
    "c_0rw = Counter((r,w) for _,r,w in triples)\n",
    "Tw = lambda w_i: set((r,w_prime) for w,r,w_prime in triples if w==w_i)\n",
    "    # r,w_prime pairs, where w_i is the first in triple."
   ]
  },
  {
   "cell_type": "code",
   "execution_count": 17,
   "metadata": {
    "collapsed": true
   },
   "outputs": [],
   "source": [
    "def I(w, r, w_prime):\n",
    "    i =  log( div( c_wrw[(w,r,w_prime)] * c_0r0[r] , \n",
    "                   c_wr0[(w,r)] * c_0rw[(r,w_prime)]) )\n",
    "    return i if i>=0 else 0 # because we only care about positive Is\n",
    "\n",
    "def sim(w1,w2):\n",
    "    w1,w2 = porter.stem(w1),porter.stem(w2)\n",
    "    Tw1w2 = list(Tw(w1).intersection(Tw(w2)))\n",
    "    Tw1, Tw2 = list(Tw(w1)), list(Tw(w2))\n",
    "    num = sum(I(w1,r,w)+I(w2,r,w) for r,w in Tw1w2)\n",
    "    denom = sum(I(w1,r,w) for r,w in Tw1) + \\\n",
    "            sum(I(w2,r,w) for r,w in Tw2)\n",
    "    return num/denom"
   ]
  },
  {
   "cell_type": "code",
   "execution_count": 24,
   "metadata": {
    "collapsed": false
   },
   "outputs": [
    {
     "name": "stdout",
     "output_type": "stream",
     "text": [
      "Similars: \n",
      "v\n",
      "    brief-tell: 0.005852\n",
      "    brief-urge: 0.006521\n",
      "    brief-elect: 0.004259\n",
      "adj\n",
      "    brief-lengthy: 0.052643\n",
      "    brief-short: 0.055053\n",
      "    brief-recent: 0.028293\n",
      "n\n",
      "    brief-petition: 0.057823\n",
      "    brief-affidavit: 0.015976\n",
      "    brief-motion: 0.029800\n",
      "\n",
      "Dissimilars: \n",
      "v\n",
      "    brief-kill: 0.000458\n",
      "    brief-drink: 0.003995\n",
      "    brief-eat: 0.000979\n",
      "adj\n",
      "    brief-red: 0.004278\n",
      "    brief-evil: 0.006365\n",
      "    brief-big: 0.003499\n",
      "other\n",
      "    brief-the: 0.000451\n",
      "    brief-that: 0.000714\n",
      "    brief-what: 0.003457\n",
      "n\n",
      "    brief-chicken: 0.001408\n",
      "    brief-water: 0.002747\n",
      "    brief-flower: 0.004911\n"
     ]
    }
   ],
   "source": [
    "# EXAMPLES (cf. Lin 1998:770)\n",
    "word = 'brief'\n",
    "similars = {'n': ['petition','affidavit','motion'],\n",
    "            'v': ['tell','urge','elect'],\n",
    "            'adj': ['lengthy','short','recent']}\n",
    "dissimilars = {'n': ['chicken','water','flower'],\n",
    "               'v': ['kill','drink','eat'],\n",
    "               'adj': ['red','evil','big'],\n",
    "               'other': ['the','that','what']}\n",
    "print 'Similars: '\n",
    "for cls in similars.iterkeys():\n",
    "    print cls\n",
    "    for w in similars[cls]:\n",
    "        print '    %s-%s: %.6f' % (word,w,sim(word,w))\n",
    "print \n",
    "print 'Dissimilars: '\n",
    "for cls in dissimilars.iterkeys():\n",
    "    print cls\n",
    "    for w in dissimilars[cls]:\n",
    "        print '    %s-%s: %.6f' % (word,w,sim(word,w))"
   ]
  },
  {
   "cell_type": "code",
   "execution_count": null,
   "metadata": {
    "collapsed": true
   },
   "outputs": [],
   "source": []
  }
 ],
 "metadata": {
  "kernelspec": {
   "display_name": "Python 2",
   "language": "python",
   "name": "python2"
  },
  "language_info": {
   "codemirror_mode": {
    "name": "ipython",
    "version": 2
   },
   "file_extension": ".py",
   "mimetype": "text/x-python",
   "name": "python",
   "nbconvert_exporter": "python",
   "pygments_lexer": "ipython2",
   "version": "2.7.11"
  }
 },
 "nbformat": 4,
 "nbformat_minor": 0
}
