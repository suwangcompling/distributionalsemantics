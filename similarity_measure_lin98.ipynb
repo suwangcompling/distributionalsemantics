{
 "cells": [
  {
   "cell_type": "markdown",
   "metadata": {},
   "source": [
    "# Lin (1998)\n",
    "\n",
    "* **Statistic**: \n",
    "    * A Variant of Mutual Information\n",
    "    * Word Similarity\n",
    "* **Corpus**:\n",
    "    * Brown (NLTK)\n",
    "* **Parsing**:\n",
    "    * Type: Dependency\n",
    "    * Library: Spacy\n",
    "* **Categorization**:\n",
    "    * All POS"
   ]
  },
  {
   "cell_type": "markdown",
   "metadata": {},
   "source": [
    "### A. Math\n",
    "\n",
    "* **Information of a Dependency Triple**\n",
    "\n",
    "    * $ \\begin{align} I(w,r,w') &= -log(P_{MLE}(r)P_{MLE}(w|r)P_{MLE}(w'|r)) - (-logP_{MLE}(w,r,w')) \\\\\n",
    "    &= log\\frac{||w,r,w'||\\times||*,r,*||}{||w,r,*||\\times||*,r,w'||} \\end{align}$, where $*$ means *summing over all*. (cf. Lin 1998:769)\n",
    "    \n",
    "\n",
    "* **Word Similarity** (cf. Lin 1998:770,fig.1)\n",
    "\n",
    "    * ${SIM}(w_1,w_2) = \\frac{\\sum_{(r,w)\\in T(w_1)\\cap T(w_2)}(I(w_1,r,w) + I(w_2,r,w))}{\\sum_{(r,w)\\in T(w_1)}I(w_1,r,w) + \\sum_{(r,w)\\in T(w_2)}T(w_2,r,w)}$, where $T(w)$ is the set of pairs $(r,w')$ for which $I(w,r,w')$ is positive.\n",
    "    \n",
    "\n",
    "* **Other Similarities** (cf. ibid)\n",
    "\n",
    "    * ${SIM}_{cosine}(w_1,w_2) = \\frac{|T(w_1)\\cap T(w_2)|}{\\sqrt{|T(w_1)|\\times|T(w_2)|}}$\n",
    "    \n",
    "    * ${SIM}_{Dice}(w_1,w_2) = \\frac{2\\times|T(w_1)\\cap T(w_2)|}{|T(w_1)|+|T(w_2)|}$\n",
    "    \n",
    "    * ${SIM}_{Jaccard}(w_1,w_2) = \\frac{|T(w_1)\\cap T(w_2)|}{|T(w_1)|+|T(w_2)|-|T(w_1)\\cap T(w_2)|} = \\frac{|T(w_1)\\cap T(w_2)|}{|T(w_1)\\cup T(w_2)|}$"
   ]
  },
  {
   "cell_type": "markdown",
   "metadata": {},
   "source": [
    "### B. Extract Dependency Triples"
   ]
  },
  {
   "cell_type": "code",
   "execution_count": 1,
   "metadata": {
    "collapsed": true
   },
   "outputs": [],
   "source": [
    "from nltk.corpus import brown\n",
    "from spacy.en import English"
   ]
  },
  {
   "cell_type": "code",
   "execution_count": 2,
   "metadata": {
    "collapsed": true
   },
   "outputs": [],
   "source": [
    "from nltk.stem import PorterStemmer\n",
    "porter = PorterStemmer()"
   ]
  },
  {
   "cell_type": "code",
   "execution_count": 4,
   "metadata": {
    "collapsed": true
   },
   "outputs": [],
   "source": [
    "def dependency_triples():\n",
    "    \n",
    "    # extract & parse sentences\n",
    "    sents = [' '.join(sent) for sent in brown.sents()]\n",
    "    parser = English()\n",
    "    parsed_corpus = [parser(sent) for sent in sents]\n",
    "    \n",
    "    # triple extraction facilities\n",
    "    get_triple = lambda s: [(token.orth_,token.dep_,token.head.orth_) for token in s]\n",
    "    porter = PorterStemmer()\n",
    "    to_stemmed = lambda (w,dep,h): (porter.stem(w).lower(),dep,porter.stem(h).lower())\n",
    "    \n",
    "    # extract triples\n",
    "    dep_triples = []\n",
    "    for sent in parsed_corpus:\n",
    "        dep_triples += get_triple(sent)\n",
    "    \n",
    "    # stem triples\n",
    "    stemmed_dep_triples = map(to_stemmed, dep_triples)\n",
    "    \n",
    "    return stemmed_dep_triples\n"
   ]
  },
  {
   "cell_type": "code",
   "execution_count": 6,
   "metadata": {
    "collapsed": false
   },
   "outputs": [
    {
     "name": "stdout",
     "output_type": "stream",
     "text": [
      "CPU times: user 2min 2s, sys: 2.73 s, total: 2min 5s\n",
      "Wall time: 2min 6s\n"
     ]
    }
   ],
   "source": [
    "%%time\n",
    "triples = dependency_triples()"
   ]
  },
  {
   "cell_type": "code",
   "execution_count": null,
   "metadata": {
    "collapsed": true
   },
   "outputs": [],
   "source": []
  },
  {
   "cell_type": "markdown",
   "metadata": {},
   "source": [
    "### C. Compute Lin Argument Similarities"
   ]
  },
  {
   "cell_type": "code",
   "execution_count": 13,
   "metadata": {
    "collapsed": true
   },
   "outputs": [],
   "source": [
    "import numpy as np\n",
    "from collections import Counter, defaultdict\n",
    "from __future__ import division"
   ]
  },
  {
   "cell_type": "code",
   "execution_count": 14,
   "metadata": {
    "collapsed": true
   },
   "outputs": [],
   "source": [
    "# COMPUTATIONAL FACILITIES\n",
    "log = lambda x: np.log(x) if x!=0 else 0\n",
    "div = lambda x,y: x/y if y!=0 else 0."
   ]
  },
  {
   "cell_type": "code",
   "execution_count": 15,
   "metadata": {
    "collapsed": true
   },
   "outputs": [],
   "source": [
    "# COMPUTATIONAL LOOKUPS\n",
    "c_wrw = Counter(triples)\n",
    "c_0r0 = Counter(r for _,r,_ in triples)\n",
    "c_wr0 = Counter((w,r) for w,r,_ in triples)\n",
    "c_0rw = Counter((r,w) for _,r,w in triples)\n",
    "Tw = lambda w_i: set((r,w_prime) for w,r,w_prime in triples if w==w_i)\n",
    "    # r,w_prime pairs, where w_i is the first in triple."
   ]
  },
  {
   "cell_type": "code",
   "execution_count": 17,
   "metadata": {
    "collapsed": true
   },
   "outputs": [],
   "source": [
    "def I(w, r, w_prime):\n",
    "    i =  log( div( c_wrw[(w,r,w_prime)] * c_0r0[r] , \n",
    "                   c_wr0[(w,r)] * c_0rw[(r,w_prime)]) )\n",
    "    return i if i>=0 else 0 # because we only care about positive Is\n",
    "\n",
    "def sim(w1, w2):\n",
    "    w1,w2 = porter.stem(w1),porter.stem(w2)\n",
    "    Tw1w2 = list(Tw(w1).intersection(Tw(w2)))\n",
    "    Tw1, Tw2 = list(Tw(w1)), list(Tw(w2))\n",
    "    num = sum(I(w1,r,w)+I(w2,r,w) for r,w in Tw1w2)\n",
    "    denom = sum(I(w1,r,w) for r,w in Tw1) + \\\n",
    "            sum(I(w2,r,w) for r,w in Tw2)\n",
    "    return num/denom"
   ]
  },
  {
   "cell_type": "code",
   "execution_count": 37,
   "metadata": {
    "collapsed": false
   },
   "outputs": [],
   "source": [
    "# EXAMPLES (cf. Lin 1998:770)\n",
    "word = 'brief'\n",
    "similars = {'n': ['petition','affidavit','motion'],\n",
    "            'v': ['tell','urge','elect'],\n",
    "            'adj': ['lengthy','short','recent']}\n",
    "dissimilars = {'n': ['chicken','water','flower'],\n",
    "               'v': ['kill','drink','eat'],\n",
    "               'adj': ['red','evil','big'],\n",
    "               'other': ['the','that','what']}"
   ]
  },
  {
   "cell_type": "code",
   "execution_count": 52,
   "metadata": {
    "collapsed": false
   },
   "outputs": [],
   "source": [
    "def demo(word, similars, dissimilars, sim):\n",
    "    sms, dsms = [], []\n",
    "    print 'Similars: '\n",
    "    for cls in similars.iterkeys():\n",
    "        print cls\n",
    "        for w in similars[cls]:\n",
    "            sm = sim(word,w)\n",
    "            sms.append(sm)\n",
    "            print '    %s-%s: %.6f' % (word,w,sm)\n",
    "    print\n",
    "    print 'Average Sim in Sim Set: %.6f' % np.mean(sms)\n",
    "    print \n",
    "    print 'Dissimilars: '\n",
    "    for cls in dissimilars.iterkeys():\n",
    "        print cls\n",
    "        for w in dissimilars[cls]:\n",
    "            dsm = sim(word,w)\n",
    "            dsms.append(dsm)\n",
    "            print '    %s-%s: %.6f' % (word,w,dsm)\n",
    "    print\n",
    "    print 'Average Sim in Dissim Set: %.6f' % np.mean(dsms)"
   ]
  },
  {
   "cell_type": "code",
   "execution_count": 53,
   "metadata": {
    "collapsed": false
   },
   "outputs": [
    {
     "name": "stdout",
     "output_type": "stream",
     "text": [
      "Similars: \n",
      "v\n",
      "    brief-tell: 0.005852\n",
      "    brief-urge: 0.006521\n",
      "    brief-elect: 0.004259\n",
      "adj\n",
      "    brief-lengthy: 0.052643\n",
      "    brief-short: 0.055053\n",
      "    brief-recent: 0.028293\n",
      "n\n",
      "    brief-petition: 0.057823\n",
      "    brief-affidavit: 0.015976\n",
      "    brief-motion: 0.029800\n",
      "\n",
      "Average Sim in Sim Set: 0.028469\n",
      "\n",
      "Dissimilars: \n",
      "v\n",
      "    brief-kill: 0.000458\n",
      "    brief-drink: 0.003995\n",
      "    brief-eat: 0.000979\n",
      "adj\n",
      "    brief-red: 0.004278\n",
      "    brief-evil: 0.006365\n",
      "    brief-big: 0.003499\n",
      "other\n",
      "    brief-the: 0.000451\n",
      "    brief-that: 0.000714\n",
      "    brief-what: 0.003457\n",
      "n\n",
      "    brief-chicken: 0.001408\n",
      "    brief-water: 0.002747\n",
      "    brief-flower: 0.004911\n",
      "\n",
      "Average Sim in Dissim Set: 0.002772\n"
     ]
    }
   ],
   "source": [
    "demo(word, similars, dissimilars, sim=sim)"
   ]
  },
  {
   "cell_type": "code",
   "execution_count": null,
   "metadata": {
    "collapsed": true
   },
   "outputs": [],
   "source": []
  },
  {
   "cell_type": "markdown",
   "metadata": {},
   "source": [
    "### D. Compute Other Similarities"
   ]
  },
  {
   "cell_type": "markdown",
   "metadata": {},
   "source": [
    "##### Cosine"
   ]
  },
  {
   "cell_type": "code",
   "execution_count": 33,
   "metadata": {
    "collapsed": true
   },
   "outputs": [],
   "source": [
    "# COMPUTATIONAL FACILITIES\n",
    "sqrt = lambda x: np.sqrt(x) if x>=0 else 0"
   ]
  },
  {
   "cell_type": "code",
   "execution_count": 54,
   "metadata": {
    "collapsed": true
   },
   "outputs": [],
   "source": [
    "def cosine(w1, w2):\n",
    "    w1,w2 = porter.stem(w1),porter.stem(w2)\n",
    "    num = len(Tw(w1).intersection(Tw(w2)))\n",
    "    denom = sqrt( len(Tw(w1)) * len(Tw(w2)) )\n",
    "    return num/denom"
   ]
  },
  {
   "cell_type": "code",
   "execution_count": 55,
   "metadata": {
    "collapsed": false
   },
   "outputs": [
    {
     "name": "stdout",
     "output_type": "stream",
     "text": [
      "Similars: \n",
      "v\n",
      "    brief-tell: 0.010407\n",
      "    brief-urge: 0.040876\n",
      "    brief-elect: 0.039736\n",
      "adj\n",
      "    brief-lengthy: 0.088302\n",
      "    brief-short: 0.109619\n",
      "    brief-recent: 0.047305\n",
      "n\n",
      "    brief-petition: 0.103905\n",
      "    brief-affidavit: 0.093659\n",
      "    brief-motion: 0.076472\n",
      "\n",
      "Average Sim in Sim Set: 0.067809\n",
      "\n",
      "Dissimilars: \n",
      "v\n",
      "    brief-kill: 0.012245\n",
      "    brief-drink: 0.039936\n",
      "    brief-eat: 0.015502\n",
      "adj\n",
      "    brief-red: 0.032999\n",
      "    brief-evil: 0.035720\n",
      "    brief-big: 0.017208\n",
      "other\n",
      "    brief-the: 0.002920\n",
      "    brief-that: 0.007346\n",
      "    brief-what: 0.011155\n",
      "n\n",
      "    brief-chicken: 0.021487\n",
      "    brief-water: 0.025866\n",
      "    brief-flower: 0.049286\n",
      "\n",
      "Average Sim in Dissim Set: 0.022639\n"
     ]
    }
   ],
   "source": [
    "demo(word, similars, dissimilars, sim=cosine)"
   ]
  },
  {
   "cell_type": "markdown",
   "metadata": {},
   "source": [
    "##### Dice"
   ]
  },
  {
   "cell_type": "code",
   "execution_count": 56,
   "metadata": {
    "collapsed": true
   },
   "outputs": [],
   "source": [
    "def dice(w1, w2):\n",
    "    w1,w2 = porter.stem(w1),porter.stem(w2)\n",
    "    num = 2 * len(Tw(w1).intersection(Tw(w2)))\n",
    "    denom = len(Tw(w1)) + len(Tw(w2))\n",
    "    return num/denom"
   ]
  },
  {
   "cell_type": "code",
   "execution_count": 57,
   "metadata": {
    "collapsed": false
   },
   "outputs": [
    {
     "name": "stdout",
     "output_type": "stream",
     "text": [
      "Similars: \n",
      "v\n",
      "    brief-tell: 0.009132\n",
      "    brief-urge: 0.040404\n",
      "    brief-elect: 0.038217\n",
      "adj\n",
      "    brief-lengthy: 0.060606\n",
      "    brief-short: 0.098522\n",
      "    brief-recent: 0.039526\n",
      "n\n",
      "    brief-petition: 0.096386\n",
      "    brief-affidavit: 0.033898\n",
      "    brief-motion: 0.076190\n",
      "\n",
      "Average Sim in Sim Set: 0.054765\n",
      "\n",
      "Dissimilars: \n",
      "v\n",
      "    brief-kill: 0.011494\n",
      "    brief-drink: 0.038462\n",
      "    brief-eat: 0.015385\n",
      "adj\n",
      "    brief-red: 0.029703\n",
      "    brief-evil: 0.035714\n",
      "    brief-big: 0.013605\n",
      "other\n",
      "    brief-the: 0.000483\n",
      "    brief-that: 0.002011\n",
      "    brief-what: 0.006441\n",
      "n\n",
      "    brief-chicken: 0.021053\n",
      "    brief-water: 0.020478\n",
      "    brief-flower: 0.049180\n",
      "\n",
      "Average Sim in Dissim Set: 0.020334\n"
     ]
    }
   ],
   "source": [
    "demo(word, similars, dissimilars, sim=dice)"
   ]
  },
  {
   "cell_type": "markdown",
   "metadata": {},
   "source": [
    "##### Jaccard"
   ]
  },
  {
   "cell_type": "code",
   "execution_count": 58,
   "metadata": {
    "collapsed": true
   },
   "outputs": [],
   "source": [
    "def jaccard(w1, w2):\n",
    "    w1,w2 = porter.stem(w1),porter.stem(w2)\n",
    "    num = len(Tw(w1).intersection(Tw(w2)))\n",
    "    denom = len(Tw(w1).union(Tw(w2)))\n",
    "    return num/denom"
   ]
  },
  {
   "cell_type": "code",
   "execution_count": 59,
   "metadata": {
    "collapsed": false
   },
   "outputs": [
    {
     "name": "stdout",
     "output_type": "stream",
     "text": [
      "Similars: \n",
      "v\n",
      "    brief-tell: 0.004587\n",
      "    brief-urge: 0.020619\n",
      "    brief-elect: 0.019481\n",
      "adj\n",
      "    brief-lengthy: 0.031250\n",
      "    brief-short: 0.051813\n",
      "    brief-recent: 0.020161\n",
      "n\n",
      "    brief-petition: 0.050633\n",
      "    brief-affidavit: 0.017241\n",
      "    brief-motion: 0.039604\n",
      "\n",
      "Average Sim in Sim Set: 0.028377\n",
      "\n",
      "Dissimilars: \n",
      "v\n",
      "    brief-kill: 0.005780\n",
      "    brief-drink: 0.019608\n",
      "    brief-eat: 0.007752\n",
      "adj\n",
      "    brief-red: 0.015075\n",
      "    brief-evil: 0.018182\n",
      "    brief-big: 0.006849\n",
      "other\n",
      "    brief-the: 0.000241\n",
      "    brief-that: 0.001007\n",
      "    brief-what: 0.003231\n",
      "n\n",
      "    brief-chicken: 0.010638\n",
      "    brief-water: 0.010345\n",
      "    brief-flower: 0.025210\n",
      "\n",
      "Average Sim in Dissim Set: 0.010327\n"
     ]
    }
   ],
   "source": [
    "demo(word, similars, dissimilars, sim=jaccard)"
   ]
  },
  {
   "cell_type": "code",
   "execution_count": null,
   "metadata": {
    "collapsed": true
   },
   "outputs": [],
   "source": []
  }
 ],
 "metadata": {
  "kernelspec": {
   "display_name": "Python 2",
   "language": "python",
   "name": "python2"
  },
  "language_info": {
   "codemirror_mode": {
    "name": "ipython",
    "version": 2
   },
   "file_extension": ".py",
   "mimetype": "text/x-python",
   "name": "python",
   "nbconvert_exporter": "python",
   "pygments_lexer": "ipython2",
   "version": "2.7.11"
  }
 },
 "nbformat": 4,
 "nbformat_minor": 0
}
