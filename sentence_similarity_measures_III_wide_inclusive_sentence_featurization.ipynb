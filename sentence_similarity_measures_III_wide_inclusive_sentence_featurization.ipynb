{
 "cells": [
  {
   "cell_type": "markdown",
   "metadata": {
    "collapsed": true
   },
   "source": [
    "# Sentence Similarity Measures III: Wide-Inclusive Sentence Featurization"
   ]
  },
  {
   "cell_type": "markdown",
   "metadata": {
    "collapsed": true
   },
   "source": [
    "## 0. Contents\n",
    "\n",
    "* I. Corpora:\n",
    "    * MSR Paraphrase Corpus\n",
    "    * Brown\n",
    "* II. Discriminativity Weighting (Brown, SpaCy lemmatization)\n",
    "* III. Featurization:\n",
    "    * Features:\n",
    "        * Unigram Prec/Rec (Wan et al. 2006) \n",
    "        * Bleu Prec/Rec (Papineni et al. 2002)\n",
    "        * Dependency Prec/Rec (Wan et al. 2006; Moll$\\acute{a}$ 2003; Hovy et al. 2015)\n",
    "        * F1 for Unigram, Bleu & Dependency\n",
    "        * Tree Edit Distance (Zhang & Sasha Algorithm)\n",
    "        * Sentence Lengths (Wan et al. 2006)\n",
    "    * Featurization Function\n",
    "* IV. Paraphrase Classifier:\n",
    "    * Training: MSR Paraphrase Corpus\n",
    "    * Classifier Types:\n",
    "        * Logistic\n",
    "        * SVM\n",
    "* V. Evaluation"
   ]
  },
  {
   "cell_type": "markdown",
   "metadata": {},
   "source": [
    "## I. Corpora"
   ]
  },
  {
   "cell_type": "code",
   "execution_count": 15,
   "metadata": {
    "collapsed": true
   },
   "outputs": [],
   "source": [
    "import numpy as np\n",
    "import pandas as pd\n",
    "from nltk.corpus import brown\n",
    "from spacy.en import English"
   ]
  },
  {
   "cell_type": "code",
   "execution_count": 16,
   "metadata": {
    "collapsed": true
   },
   "outputs": [],
   "source": [
    "parser = English()"
   ]
  },
  {
   "cell_type": "markdown",
   "metadata": {},
   "source": [
    "##### Load MSR"
   ]
  },
  {
   "cell_type": "code",
   "execution_count": 17,
   "metadata": {
    "collapsed": true
   },
   "outputs": [],
   "source": [
    "path = \"/Users/jacobsw/Desktop/WORK/OJO_CODE/SENTENCE_SIMILARITIES/CORPORA/paraphrase/msr_paraphrase_data.txt\""
   ]
  },
  {
   "cell_type": "code",
   "execution_count": 18,
   "metadata": {
    "collapsed": false
   },
   "outputs": [
    {
     "data": {
      "text/html": [
       "<div>\n",
       "<table border=\"1\" class=\"dataframe\">\n",
       "  <thead>\n",
       "    <tr style=\"text-align: right;\">\n",
       "      <th></th>\n",
       "      <th>﻿Sentence ID</th>\n",
       "      <th>String</th>\n",
       "      <th>Author</th>\n",
       "      <th>URL</th>\n",
       "      <th>Agency</th>\n",
       "      <th>Date</th>\n",
       "      <th>Web Date</th>\n",
       "    </tr>\n",
       "  </thead>\n",
       "  <tbody>\n",
       "    <tr>\n",
       "      <th>0</th>\n",
       "      <td>702876</td>\n",
       "      <td>Amrozi accused his brother, whom he called \"th...</td>\n",
       "      <td>Darren Goodsir</td>\n",
       "      <td>www.theage.com.au</td>\n",
       "      <td>*</td>\n",
       "      <td>June 5 2003</td>\n",
       "      <td>2003/06/04</td>\n",
       "    </tr>\n",
       "    <tr>\n",
       "      <th>1</th>\n",
       "      <td>702977</td>\n",
       "      <td>Referring to him as only \"the witness\", Amrozi...</td>\n",
       "      <td>Darren Goodsir</td>\n",
       "      <td>www.smh.com.au</td>\n",
       "      <td>Sydney Morning Herald</td>\n",
       "      <td>June 5 2003</td>\n",
       "      <td>2003/06/04</td>\n",
       "    </tr>\n",
       "    <tr>\n",
       "      <th>2</th>\n",
       "      <td>2108705</td>\n",
       "      <td>Yucaipa owned Dominick's before selling the ch...</td>\n",
       "      <td>MICHAEL GIBBS</td>\n",
       "      <td>www.nwherald.com</td>\n",
       "      <td>*</td>\n",
       "      <td>*</td>\n",
       "      <td>2003/08/23</td>\n",
       "    </tr>\n",
       "    <tr>\n",
       "      <th>3</th>\n",
       "      <td>2108831</td>\n",
       "      <td>Yucaipa bought Dominick's in 1995 for $693 mil...</td>\n",
       "      <td>ALEX VEIGA</td>\n",
       "      <td>www.miami.com</td>\n",
       "      <td>*</td>\n",
       "      <td>*</td>\n",
       "      <td>2003/08/23</td>\n",
       "    </tr>\n",
       "    <tr>\n",
       "      <th>4</th>\n",
       "      <td>1330381</td>\n",
       "      <td>They had published an advertisement on the Int...</td>\n",
       "      <td>Philip Pangalos</td>\n",
       "      <td>www.alertnet.org</td>\n",
       "      <td>*</td>\n",
       "      <td>*</td>\n",
       "      <td>2003/06/25</td>\n",
       "    </tr>\n",
       "  </tbody>\n",
       "</table>\n",
       "</div>"
      ],
      "text/plain": [
       "   ﻿Sentence ID                                             String  \\\n",
       "0        702876  Amrozi accused his brother, whom he called \"th...   \n",
       "1        702977  Referring to him as only \"the witness\", Amrozi...   \n",
       "2       2108705  Yucaipa owned Dominick's before selling the ch...   \n",
       "3       2108831  Yucaipa bought Dominick's in 1995 for $693 mil...   \n",
       "4       1330381  They had published an advertisement on the Int...   \n",
       "\n",
       "            Author                URL                 Agency         Date  \\\n",
       "0   Darren Goodsir  www.theage.com.au                      *  June 5 2003   \n",
       "1   Darren Goodsir     www.smh.com.au  Sydney Morning Herald  June 5 2003   \n",
       "2    MICHAEL GIBBS   www.nwherald.com                      *            *   \n",
       "3       ALEX VEIGA      www.miami.com                      *            *   \n",
       "4  Philip Pangalos   www.alertnet.org                      *            *   \n",
       "\n",
       "     Web Date  \n",
       "0  2003/06/04  \n",
       "1  2003/06/04  \n",
       "2  2003/08/23  \n",
       "3  2003/08/23  \n",
       "4  2003/06/25  "
      ]
     },
     "execution_count": 18,
     "metadata": {},
     "output_type": "execute_result"
    }
   ],
   "source": [
    "df = pd.read_csv(path, delimiter='\\t')\n",
    "df.head()"
   ]
  },
  {
   "cell_type": "code",
   "execution_count": 19,
   "metadata": {
    "collapsed": false
   },
   "outputs": [
    {
     "data": {
      "text/plain": [
       "10594"
      ]
     },
     "execution_count": 19,
     "metadata": {},
     "output_type": "execute_result"
    }
   ],
   "source": [
    "len(df['String'])"
   ]
  },
  {
   "cell_type": "code",
   "execution_count": 20,
   "metadata": {
    "collapsed": true
   },
   "outputs": [],
   "source": [
    "data = list(df['String'])"
   ]
  },
  {
   "cell_type": "code",
   "execution_count": 21,
   "metadata": {
    "collapsed": false
   },
   "outputs": [
    {
     "name": "stdout",
     "output_type": "stream",
     "text": [
      "Amrozi accused his brother, whom he called \"the witness\", of deliberately distorting his evidence.\n",
      "\n",
      "Referring to him as only \"the witness\", Amrozi accused his brother of deliberately distorting his evidence.\n",
      "\n",
      "Yucaipa owned Dominick's before selling the chain to Safeway in 1998 for $2.5 billion.\n",
      "\n",
      "Yucaipa bought Dominick's in 1995 for $693 million and sold it to Safeway for $1.8 billion in 1998.\n",
      "\n",
      "They had published an advertisement on the Internet on June 10, offering the cargo for sale, he added.\n",
      "\n"
     ]
    }
   ],
   "source": [
    "for i in xrange(5):\n",
    "    print data[i]\n",
    "    print"
   ]
  },
  {
   "cell_type": "code",
   "execution_count": 22,
   "metadata": {
    "collapsed": true
   },
   "outputs": [],
   "source": [
    "def parse_msr():\n",
    "    \n",
    "    parsed_sents = [parser(unicode(sent.decode('utf8','ignore'))) for sent in data]\n",
    "    lemma_sents = [[token.lemma_ for token in parsed_sent] \n",
    "                   for parsed_sent in parsed_sents]\n",
    "    \n",
    "    return lemma_sents"
   ]
  },
  {
   "cell_type": "code",
   "execution_count": 23,
   "metadata": {
    "collapsed": false
   },
   "outputs": [
    {
     "name": "stdout",
     "output_type": "stream",
     "text": [
      "CPU times: user 20.1 s, sys: 501 ms, total: 20.6 s\n",
      "Wall time: 20.7 s\n"
     ]
    }
   ],
   "source": [
    "%%time\n",
    "msr_sents = parse_msr()"
   ]
  },
  {
   "cell_type": "code",
   "execution_count": 24,
   "metadata": {
    "collapsed": false,
    "scrolled": true
   },
   "outputs": [
    {
     "name": "stdout",
     "output_type": "stream",
     "text": [
      "[u'amrozi', u'accuse', u'his', u'brother', u',', u'whom', u'he', u'call', u'\"', u'the', u'witness', u'\"', u',', u'of', u'deliberately', u'distort', u'his', u'evidence', u'.']\n",
      "\n",
      "[u'refer', u'to', u'him', u'as', u'only', u'\"', u'the', u'witness', u'\"', u',', u'amrozi', u'accuse', u'his', u'brother', u'of', u'deliberately', u'distort', u'his', u'evidence', u'.']\n",
      "\n",
      "[u'yucaipa', u'own', u'dominick', u\"'s\", u'before', u'sell', u'the', u'chain', u'to', u'safeway', u'in', u'1998', u'for', u'$', u'2.5', u'billion', u'.']\n",
      "\n",
      "[u'yucaipa', u'buy', u'dominick', u\"'s\", u'in', u'1995', u'for', u'$', u'693', u'million', u'and', u'sell', u'it', u'to', u'safeway', u'for', u'$', u'1.8', u'billion', u'in', u'1998', u'.']\n",
      "\n",
      "[u'they', u'have', u'publish', u'an', u'advertisement', u'on', u'the', u'internet', u'on', u'june', u'10', u',', u'offer', u'the', u'cargo', u'for', u'sale', u',', u'he', u'add', u'.']\n",
      "\n"
     ]
    }
   ],
   "source": [
    "for i in xrange(5):\n",
    "    print msr_sents[i]\n",
    "    print"
   ]
  },
  {
   "cell_type": "markdown",
   "metadata": {},
   "source": [
    "##### Build MSR Training"
   ]
  },
  {
   "cell_type": "code",
   "execution_count": 25,
   "metadata": {
    "collapsed": true
   },
   "outputs": [],
   "source": [
    "# TODO"
   ]
  },
  {
   "cell_type": "markdown",
   "metadata": {},
   "source": [
    "##### Load Brown"
   ]
  },
  {
   "cell_type": "code",
   "execution_count": 3,
   "metadata": {
    "collapsed": true
   },
   "outputs": [],
   "source": [
    "def parse_brown():\n",
    "    \n",
    "    sents = brown.sents()\n",
    "    parsed_sents = [parser(' '.join(sent)) for sent in sents]\n",
    "    lemma_words = [token.lemma_ for parsed_sent in parsed_sents for token in parsed_sent]\n",
    "    \n",
    "    return lemma_words"
   ]
  },
  {
   "cell_type": "code",
   "execution_count": 4,
   "metadata": {
    "collapsed": false
   },
   "outputs": [
    {
     "name": "stdout",
     "output_type": "stream",
     "text": [
      "CPU times: user 1min 38s, sys: 770 ms, total: 1min 39s\n",
      "Wall time: 1min 39s\n"
     ]
    }
   ],
   "source": [
    "%%time\n",
    "brown_words = parse_brown()"
   ]
  },
  {
   "cell_type": "code",
   "execution_count": 5,
   "metadata": {
    "collapsed": false
   },
   "outputs": [
    {
     "data": {
      "text/plain": [
       "1188973"
      ]
     },
     "execution_count": 5,
     "metadata": {},
     "output_type": "execute_result"
    }
   ],
   "source": [
    "N = len(brown_words)\n",
    "N"
   ]
  },
  {
   "cell_type": "markdown",
   "metadata": {},
   "source": [
    "## I. Discriminativity Weighting (IDF)"
   ]
  },
  {
   "cell_type": "markdown",
   "metadata": {},
   "source": [
    "**Math**\n",
    "\n",
    "* $IDF(w) = log\\frac{N}{df_w}$, where $N$ is the number of words in a corpus; $df_w$ is word $w$'s frequency in the corpus."
   ]
  },
  {
   "cell_type": "code",
   "execution_count": 90,
   "metadata": {
    "collapsed": true
   },
   "outputs": [],
   "source": [
    "from __future__ import division"
   ]
  },
  {
   "cell_type": "code",
   "execution_count": 91,
   "metadata": {
    "collapsed": true
   },
   "outputs": [],
   "source": [
    "log = lambda x: np.log(x) if x>0 else 0 \n",
    "    # intuitively N > word_count(w) for any w,\n",
    "    #  therefore we cannot let idf(w) be negative\n",
    "    #  even when word_count(w) = 0 for w.\n",
    "div = lambda x,y: x/y if y!=0 else 0"
   ]
  },
  {
   "cell_type": "code",
   "execution_count": 92,
   "metadata": {
    "collapsed": true
   },
   "outputs": [],
   "source": [
    "def idf(w):\n",
    "    \n",
    "    return log(div(N,brown_words.count(w)))"
   ]
  },
  {
   "cell_type": "code",
   "execution_count": 93,
   "metadata": {
    "collapsed": false
   },
   "outputs": [
    {
     "name": "stdout",
     "output_type": "stream",
     "text": [
      "'the':  2.83230709\n",
      "'discriminate':  12.0426903182\n"
     ]
    }
   ],
   "source": [
    "print \"'the': \", idf('the')\n",
    "print \"'discriminate': \", idf('discriminate')"
   ]
  },
  {
   "cell_type": "markdown",
   "metadata": {
    "collapsed": true
   },
   "source": [
    "## IIa. Features"
   ]
  },
  {
   "cell_type": "markdown",
   "metadata": {},
   "source": [
    "### A.  Unigram Prec/Rec"
   ]
  },
  {
   "cell_type": "markdown",
   "metadata": {},
   "source": [
    "**Math**\n",
    "\n",
    "* $Uni\\_Prec(s_1,s_2) = \\frac{word\\_overlap(s_1,s_2)\\cdot \\left(\\sum_{w\\in s_1\\cap s_2}log\\frac{N}{df_w}\\right)}{word\\_count(s_1)}$ (cf. Wan et al. 2006:133, weighted by $IDF$)\n",
    "\n",
    "\n",
    "* $Uni\\_Rec(s_1,s_2) = \\frac{word\\_overlap(s_1,s_2)\\cdot \\left(\\sum_{w\\in s_1\\cap s_2}log\\frac{N}{df_w}\\right)}{word\\_count(s_2)}$ (cf. ibid.)"
   ]
  },
  {
   "cell_type": "code",
   "execution_count": 42,
   "metadata": {
    "collapsed": true
   },
   "outputs": [],
   "source": [
    "intersection = lambda s1,s2: set(s1).intersection(set(s2))\n",
    "word_overlap = lambda s1,s2: len(intersection(s1,s2))\n",
    "lemmatize = lambda s: [token.lemma_ for token in parser(' '.join(s))]"
   ]
  },
  {
   "cell_type": "code",
   "execution_count": 43,
   "metadata": {
    "collapsed": true
   },
   "outputs": [],
   "source": [
    "def uni_prec(s1, s2, lemmatized=False): # s1,s2 assumed to be lists of words\n",
    "    \n",
    "    if lemmatized:\n",
    "        s1, s2 = lemmatize(s1), lemmatize(s2)\n",
    "\n",
    "    return div(word_overlap(s1,s2) * \\\n",
    "               sum(idf(w) for w in intersection(s1,s2)),\n",
    "               len(s1))\n"
   ]
  },
  {
   "cell_type": "code",
   "execution_count": 38,
   "metadata": {
    "collapsed": true
   },
   "outputs": [],
   "source": [
    "s0 = msr_sents[0]\n",
    "s1 = msr_sents[1] # known to be the paraphrase of q\n",
    "s2 = msr_sents[2] # known to not be the paraphrase of q"
   ]
  },
  {
   "cell_type": "code",
   "execution_count": 49,
   "metadata": {
    "collapsed": false
   },
   "outputs": [
    {
     "name": "stdout",
     "output_type": "stream",
     "text": [
      "52.7638330069\n",
      "0.621903467176\n",
      "CPU times: user 415 ms, sys: 1.24 ms, total: 417 ms\n",
      "Wall time: 418 ms\n"
     ]
    }
   ],
   "source": [
    "%%time\n",
    "print uni_prec(s0,s1)\n",
    "print uni_prec(s0,s2)"
   ]
  },
  {
   "cell_type": "code",
   "execution_count": 40,
   "metadata": {
    "collapsed": true
   },
   "outputs": [],
   "source": [
    "def uni_rec(s1, s2, lemmatized=False):\n",
    "    \n",
    "    if lemmatized:\n",
    "        s1, s2 = lemmatize(s1), lemmatize(s2)    \n",
    "    \n",
    "    return div(word_overlap(s1,s2) * \\\n",
    "               sum(idf(w) for w in intersection(s1,s2)),\n",
    "               len(s2))"
   ]
  },
  {
   "cell_type": "code",
   "execution_count": 48,
   "metadata": {
    "collapsed": false,
    "scrolled": true
   },
   "outputs": [
    {
     "name": "stdout",
     "output_type": "stream",
     "text": [
      "50.1256413566\n",
      "0.695068580961\n",
      "CPU times: user 418 ms, sys: 1.89 ms, total: 420 ms\n",
      "Wall time: 421 ms\n"
     ]
    }
   ],
   "source": [
    "%%time\n",
    "print uni_rec(s0,s1)\n",
    "print uni_rec(s0,s2)"
   ]
  },
  {
   "cell_type": "markdown",
   "metadata": {},
   "source": [
    "### B. BLEU Prec/Rec"
   ]
  },
  {
   "cell_type": "markdown",
   "metadata": {},
   "source": [
    "**NB** (cf. Wan et al. 2006:133)\n",
    "\n",
    "* \"... Bleu metric uses the geometric average of unigram, bigram and trigram precision scores.\"\n",
    "* \"... by reversing [two sentences], ... a recall version of Bleu is obtained.\""
   ]
  },
  {
   "cell_type": "code",
   "execution_count": 44,
   "metadata": {
    "collapsed": true
   },
   "outputs": [],
   "source": [
    "from nltk import bleu"
   ]
  },
  {
   "cell_type": "code",
   "execution_count": 52,
   "metadata": {
    "collapsed": true
   },
   "outputs": [],
   "source": [
    "def bleu_prec(s1, s2, lemmatized=False): # s1 as the 'hypothesis'\n",
    "    \n",
    "    if lemmatized:\n",
    "        s1, s2 = lemmatize(s1), lemmatize(s2) \n",
    "    \n",
    "    return bleu(s2,s1)"
   ]
  },
  {
   "cell_type": "code",
   "execution_count": 53,
   "metadata": {
    "collapsed": true
   },
   "outputs": [],
   "source": [
    "def bleu_rec(s1, s2, lemmatized=False): # s2 as the 'hypothesis'\n",
    "    \n",
    "    if lemmatized:\n",
    "        s1, s2 = lemmatize(s1), lemmatize(s2) \n",
    "    \n",
    "    return bleu(s1,s2)"
   ]
  },
  {
   "cell_type": "code",
   "execution_count": 50,
   "metadata": {
    "collapsed": false
   },
   "outputs": [
    {
     "name": "stdout",
     "output_type": "stream",
     "text": [
      "0.630364741336\n",
      "0.478973625444\n",
      "CPU times: user 5.02 ms, sys: 1.96 ms, total: 6.98 ms\n",
      "Wall time: 5.28 ms\n"
     ]
    }
   ],
   "source": [
    "%%time\n",
    "print bleu_prec(s0,s1)\n",
    "print bleu_prec(s0,s2)"
   ]
  },
  {
   "cell_type": "code",
   "execution_count": 51,
   "metadata": {
    "collapsed": false
   },
   "outputs": [
    {
     "name": "stdout",
     "output_type": "stream",
     "text": [
      "0.622332977288\n",
      "0.492479060505\n",
      "CPU times: user 4.68 ms, sys: 2.22 ms, total: 6.9 ms\n",
      "Wall time: 5.17 ms\n"
     ]
    }
   ],
   "source": [
    "%%time\n",
    "print bleu_rec(s0,s1)\n",
    "print bleu_rec(s0,s2)"
   ]
  },
  {
   "cell_type": "markdown",
   "metadata": {},
   "source": [
    "### C. Dependency Prec/Rec"
   ]
  },
  {
   "cell_type": "markdown",
   "metadata": {},
   "source": [
    "**Math**\n",
    "\n",
    "* $Dep\\_Prec(s_1,s_2) = \\frac{|dep\\_pair(s_1)|\\cap|dep\\_pair(s_2)|}{|dep\\_pair(s_1)|}$ (cf. Wan et al. 2006:134)\n",
    "\n",
    "\n",
    "* $Dep\\_Rec(s_1,s_2) = \\frac{|dep\\_pair(s_1)|\\cap|dep\\_pair(s_2)|}{|dep\\_pair(s_2)|}$ (cf. ibid.)\n",
    "\n",
    "**NB**: $relation$ in the reference confuses *dependency pair* with *dependency relation*. $relation$ refers to \"... a pair of words in a parent-child relationship within the dependency tree, referred to as head-modifier relationship. ... we ignore the label of the relationships which indicates the semantic role\"."
   ]
  },
  {
   "cell_type": "code",
   "execution_count": 106,
   "metadata": {
    "collapsed": true
   },
   "outputs": [],
   "source": [
    "dep_pairs = lambda parsed_s: {(token.head.lemma_,token.lemma_) for token in parsed_s\n",
    "                              if token.head.lemma_!=token.lemma_} # eliminte (v, ROOT, v) cases"
   ]
  },
  {
   "cell_type": "code",
   "execution_count": 107,
   "metadata": {
    "collapsed": true
   },
   "outputs": [],
   "source": [
    "def dep_prec(s1, s2, lemmatized=False):\n",
    "    \n",
    "    if lemmatized:\n",
    "        s1, s2 = lemmatize(s1), lemmatize(s2)    \n",
    "    parsed_s1, parsed_s2 = parser(' '.join(s1)), parser(' '.join(s2))\n",
    "    \n",
    "    dep_pairs_s1, dep_pairs_s2 = dep_pairs(parsed_s1), dep_pairs(parsed_s2)\n",
    "    \n",
    "    return div(len(dep_pairs_s1.intersection(dep_pairs_s2)),\n",
    "               len(dep_pairs_s1))\n",
    "        "
   ]
  },
  {
   "cell_type": "code",
   "execution_count": 108,
   "metadata": {
    "collapsed": true
   },
   "outputs": [],
   "source": [
    "def dep_rec(s1, s2, lemmatized=False):\n",
    "    \n",
    "    if lemmatized:\n",
    "        s1, s2 = lemmatize(s1), lemmatize(s2)    \n",
    "    parsed_s1, parsed_s2 = parser(' '.join(s1)), parser(' '.join(s2))\n",
    "    \n",
    "    dep_pairs_s1, dep_pairs_s2 = dep_pairs(parsed_s1), dep_pairs(parsed_s2)\n",
    "    \n",
    "    return div(len(dep_pairs_s1.intersection(dep_pairs_s2)),\n",
    "               len(dep_pairs_s2))\n"
   ]
  },
  {
   "cell_type": "code",
   "execution_count": 109,
   "metadata": {
    "collapsed": false,
    "scrolled": true
   },
   "outputs": [
    {
     "name": "stdout",
     "output_type": "stream",
     "text": [
      "0.588235294118\n",
      "0.0\n",
      "CPU times: user 7.35 ms, sys: 615 µs, total: 7.97 ms\n",
      "Wall time: 7.1 ms\n"
     ]
    }
   ],
   "source": [
    "%%time\n",
    "print dep_prec(s0,s1)\n",
    "print dep_prec(s0,s2)"
   ]
  },
  {
   "cell_type": "code",
   "execution_count": 110,
   "metadata": {
    "collapsed": false
   },
   "outputs": [
    {
     "name": "stdout",
     "output_type": "stream",
     "text": [
      "0.555555555556\n",
      "0.0\n",
      "CPU times: user 7.26 ms, sys: 401 µs, total: 7.66 ms\n",
      "Wall time: 7.07 ms\n"
     ]
    }
   ],
   "source": [
    "%%time\n",
    "print dep_rec(s0,s1)\n",
    "print dep_rec(s0,s2)"
   ]
  },
  {
   "cell_type": "markdown",
   "metadata": {},
   "source": [
    "### D. F1"
   ]
  },
  {
   "cell_type": "markdown",
   "metadata": {},
   "source": [
    "**Math**\n",
    "\n",
    "* $F1 = 2\\cdot\\frac{prec\\cdot rec}{prec + rec}$ (cf. https://en.wikipedia.org/wiki/F1_score)"
   ]
  },
  {
   "cell_type": "code",
   "execution_count": 111,
   "metadata": {
    "collapsed": true
   },
   "outputs": [],
   "source": [
    "def f1_unigram(s1, s2, lemmatized=False):\n",
    "\n",
    "    if lemmatized:\n",
    "        s1, s2 = lemmatize(s1), lemmatize(s2)    \n",
    "    prec, rec = uni_prec(s1,s2), uni_rec(s1,s2)\n",
    "    \n",
    "    return 2 * div(prec*rec,prec+rec)"
   ]
  },
  {
   "cell_type": "code",
   "execution_count": 112,
   "metadata": {
    "collapsed": true
   },
   "outputs": [],
   "source": [
    "def f1_bleu(s1, s2, lemmatized=False):\n",
    "\n",
    "    if lemmatized:\n",
    "        s1, s2 = lemmatize(s1), lemmatize(s2)    \n",
    "    prec, rec = bleu_prec(s1,s2), bleu_rec(s1,s2)\n",
    "    \n",
    "    return 2 * div(prec*rec,prec+rec)"
   ]
  },
  {
   "cell_type": "code",
   "execution_count": 113,
   "metadata": {
    "collapsed": true
   },
   "outputs": [],
   "source": [
    "def f1_dep(s1, s2, lemmatized=False):\n",
    "\n",
    "    if lemmatized:\n",
    "        s1, s2 = lemmatize(s1), lemmatize(s2)    \n",
    "    prec, rec = dep_prec(s1,s2), dep_rec(s1,s2)\n",
    "    \n",
    "    return 2 * div(prec*rec,prec+rec)"
   ]
  },
  {
   "cell_type": "code",
   "execution_count": 114,
   "metadata": {
    "collapsed": false
   },
   "outputs": [
    {
     "name": "stdout",
     "output_type": "stream",
     "text": [
      "51.5021731165\n",
      "0.666901083707\n",
      "CPU times: user 864 ms, sys: 2.73 ms, total: 867 ms\n",
      "Wall time: 869 ms\n"
     ]
    }
   ],
   "source": [
    "%%time\n",
    "print f1_unigram(s0,s1)\n",
    "print f1_unigram(s0,s2)"
   ]
  },
  {
   "cell_type": "code",
   "execution_count": 115,
   "metadata": {
    "collapsed": false
   },
   "outputs": [
    {
     "name": "stdout",
     "output_type": "stream",
     "text": [
      "0.626323111188\n",
      "0.485632464611\n",
      "CPU times: user 8.74 ms, sys: 4.1 ms, total: 12.8 ms\n",
      "Wall time: 10 ms\n"
     ]
    }
   ],
   "source": [
    "%%time\n",
    "print f1_bleu(s0,s1)\n",
    "print f1_bleu(s0,s2)"
   ]
  },
  {
   "cell_type": "code",
   "execution_count": 116,
   "metadata": {
    "collapsed": false
   },
   "outputs": [
    {
     "name": "stdout",
     "output_type": "stream",
     "text": [
      "0.571428571429\n",
      "0\n",
      "CPU times: user 11.4 ms, sys: 542 µs, total: 11.9 ms\n",
      "Wall time: 11.3 ms\n"
     ]
    }
   ],
   "source": [
    "%%time\n",
    "print f1_dep(s0,s1)\n",
    "print f1_dep(s0,s2)"
   ]
  },
  {
   "cell_type": "markdown",
   "metadata": {},
   "source": [
    "### E. Tree Edit Distance"
   ]
  },
  {
   "cell_type": "code",
   "execution_count": 175,
   "metadata": {
    "collapsed": true
   },
   "outputs": [],
   "source": [
    "from zss import simple_distance, Node \n",
    "    # use zss.distance if dynamic tree modification is needed. \n",
    "    #  cf. zss api: pythonhosted.org/zss/."
   ]
  },
  {
   "cell_type": "code",
   "execution_count": 190,
   "metadata": {
    "collapsed": true
   },
   "outputs": [],
   "source": [
    "get_root = lambda parsed_s: Node([token.lemma_ for token in parsed_s if token.dep_=='ROOT'][0])"
   ]
  },
  {
   "cell_type": "code",
   "execution_count": 191,
   "metadata": {
    "collapsed": true
   },
   "outputs": [],
   "source": [
    "def make_zss_tree(node, dep_pairs):\n",
    "    \n",
    "    for dep_pair in dep_pairs:\n",
    "        if node.label==dep_pair[0]:\n",
    "            kid = make_zss_tree(Node(dep_pair[1]), dep_pairs)\n",
    "            node.addkid(kid)\n",
    "    \n",
    "    return node"
   ]
  },
  {
   "cell_type": "code",
   "execution_count": 192,
   "metadata": {
    "collapsed": true
   },
   "outputs": [],
   "source": [
    "def tree_edit_dist(s1, s2):\n",
    "    \n",
    "    parsed_s1, parsed_s2 = parser(' '.join(s1)), parser(' '.join(s2))\n",
    "    root_s1, root_s2 = get_root(parsed_s1), get_root(parsed_s1)\n",
    "    dep_pairs_s1, dep_pairs_s2 = dep_pairs(parsed_s1), dep_pairs(parsed_s2)\n",
    "    \n",
    "    tree_s1, tree_s2 = make_zss_tree(root_s1,dep_pairs_s1), \\\n",
    "                       make_zss_tree(root_s2,dep_pairs_s2)\n",
    "    \n",
    "    return simple_distance(tree_s1, tree_s2)\n",
    "    "
   ]
  },
  {
   "cell_type": "code",
   "execution_count": 194,
   "metadata": {
    "collapsed": false
   },
   "outputs": [
    {
     "name": "stdout",
     "output_type": "stream",
     "text": [
      "11\n",
      "17\n",
      "CPU times: user 11.2 ms, sys: 721 µs, total: 11.9 ms\n",
      "Wall time: 10.8 ms\n"
     ]
    }
   ],
   "source": [
    "%%time\n",
    "print tree_edit_dist(s0,s1)\n",
    "print tree_edit_dist(s0,s2)"
   ]
  },
  {
   "cell_type": "markdown",
   "metadata": {},
   "source": [
    "##### Step-by-Step Walkthrough of Tree Building"
   ]
  },
  {
   "cell_type": "markdown",
   "metadata": {},
   "source": [
    "**a. Parse Sample Sents**"
   ]
  },
  {
   "cell_type": "code",
   "execution_count": 133,
   "metadata": {
    "collapsed": false
   },
   "outputs": [
    {
     "name": "stdout",
     "output_type": "stream",
     "text": [
      "set([(u'mac', u'a'), (u'eat', u'mac'), (u'mac', u'big'), (u'eat', u'i')])\n",
      "set([(u'mac', u'a'), (u'eat', u'mac'), (u'eat', u'i'), (u'mac', u'small')])\n"
     ]
    }
   ],
   "source": [
    "sample1 = u'i ate a big mac'\n",
    "sample2 = u'i ate a small mac'\n",
    "parsed_sample1 = parser(sample1)\n",
    "parsed_sample2 = parser(sample2)\n",
    "print dep_pairs(parsed_sample1)\n",
    "print dep_pairs(parsed_sample2)"
   ]
  },
  {
   "cell_type": "code",
   "execution_count": 134,
   "metadata": {
    "collapsed": false,
    "scrolled": true
   },
   "outputs": [
    {
     "name": "stdout",
     "output_type": "stream",
     "text": [
      "eat nsubj i\n",
      "eat ROOT eat\n",
      "mac det a\n",
      "mac amod big\n",
      "eat dobj mac\n"
     ]
    }
   ],
   "source": [
    "for token in parsed_sample1:\n",
    "    print token.head.lemma_,token.dep_,token.lemma_"
   ]
  },
  {
   "cell_type": "markdown",
   "metadata": {},
   "source": [
    "**b. Make Tree & Check for Samples**"
   ]
  },
  {
   "cell_type": "code",
   "execution_count": 159,
   "metadata": {
    "collapsed": false
   },
   "outputs": [],
   "source": [
    "test1 = make_zss_tree(Node('eat'),dep_pairs(parsed_sample1))"
   ]
  },
  {
   "cell_type": "code",
   "execution_count": 160,
   "metadata": {
    "collapsed": false
   },
   "outputs": [
    {
     "name": "stdout",
     "output_type": "stream",
     "text": [
      "2:eat\n",
      "2:mac\n",
      "0:a\n",
      "0:big\n",
      "0:i\n"
     ]
    }
   ],
   "source": [
    "print test1"
   ]
  },
  {
   "cell_type": "code",
   "execution_count": 161,
   "metadata": {
    "collapsed": false
   },
   "outputs": [
    {
     "name": "stdout",
     "output_type": "stream",
     "text": [
      "[<zss.simple_tree.Node object at 0x11a661d50 mac>, <zss.simple_tree.Node object at 0x11a661c90 i>]\n"
     ]
    }
   ],
   "source": [
    "print test1.get_children(test1)\n",
    "mac, i = test.get_children(test1)"
   ]
  },
  {
   "cell_type": "code",
   "execution_count": 162,
   "metadata": {
    "collapsed": false
   },
   "outputs": [
    {
     "name": "stdout",
     "output_type": "stream",
     "text": [
      "[<zss.simple_tree.Node object at 0x11a661c10 a>, <zss.simple_tree.Node object at 0x11a661c50 big>]\n"
     ]
    }
   ],
   "source": [
    "print mac.get_children(mac)\n",
    "a, big = mac.get_children(mac)"
   ]
  },
  {
   "cell_type": "code",
   "execution_count": 163,
   "metadata": {
    "collapsed": false
   },
   "outputs": [
    {
     "name": "stdout",
     "output_type": "stream",
     "text": [
      "[]\n"
     ]
    }
   ],
   "source": [
    "print i.get_children(i)"
   ]
  },
  {
   "cell_type": "code",
   "execution_count": 164,
   "metadata": {
    "collapsed": false
   },
   "outputs": [
    {
     "name": "stdout",
     "output_type": "stream",
     "text": [
      "[]\n",
      "[]\n"
     ]
    }
   ],
   "source": [
    "print a.get_children(a)\n",
    "print big.get_children(big)"
   ]
  },
  {
   "cell_type": "code",
   "execution_count": 165,
   "metadata": {
    "collapsed": true
   },
   "outputs": [],
   "source": [
    "test2 = make_zss_tree(Node('eat'),dep_pairs(parsed_sample2))"
   ]
  },
  {
   "cell_type": "code",
   "execution_count": 172,
   "metadata": {
    "collapsed": false
   },
   "outputs": [
    {
     "name": "stdout",
     "output_type": "stream",
     "text": [
      "2:eat\n",
      "2:mac\n",
      "0:a\n",
      "0:small\n",
      "0:i\n"
     ]
    }
   ],
   "source": [
    "print test2"
   ]
  },
  {
   "cell_type": "code",
   "execution_count": 166,
   "metadata": {
    "collapsed": false
   },
   "outputs": [
    {
     "name": "stdout",
     "output_type": "stream",
     "text": [
      "[<zss.simple_tree.Node object at 0x11a661d90 mac>, <zss.simple_tree.Node object at 0x11a661610 i>]\n"
     ]
    }
   ],
   "source": [
    "print test2.get_children(test2)\n",
    "mac, i = test.get_children(test2)"
   ]
  },
  {
   "cell_type": "code",
   "execution_count": 168,
   "metadata": {
    "collapsed": false
   },
   "outputs": [
    {
     "name": "stdout",
     "output_type": "stream",
     "text": [
      "[<zss.simple_tree.Node object at 0x11a661090 a>, <zss.simple_tree.Node object at 0x11a6617d0 small>]\n"
     ]
    }
   ],
   "source": [
    "print mac.get_children(mac)\n",
    "a, small = mac.get_children(mac)"
   ]
  },
  {
   "cell_type": "code",
   "execution_count": 170,
   "metadata": {
    "collapsed": false
   },
   "outputs": [
    {
     "name": "stdout",
     "output_type": "stream",
     "text": [
      "[]\n"
     ]
    }
   ],
   "source": [
    "print i.get_children(i)"
   ]
  },
  {
   "cell_type": "code",
   "execution_count": 169,
   "metadata": {
    "collapsed": false,
    "scrolled": true
   },
   "outputs": [
    {
     "name": "stdout",
     "output_type": "stream",
     "text": [
      "[]\n",
      "[]\n"
     ]
    }
   ],
   "source": [
    "print a.get_children(a)\n",
    "print small.get_children(small)"
   ]
  },
  {
   "cell_type": "markdown",
   "metadata": {},
   "source": [
    "**c. Compute Edit Distance**"
   ]
  },
  {
   "cell_type": "code",
   "execution_count": 171,
   "metadata": {
    "collapsed": false
   },
   "outputs": [
    {
     "data": {
      "text/plain": [
       "1"
      ]
     },
     "execution_count": 171,
     "metadata": {},
     "output_type": "execute_result"
    }
   ],
   "source": [
    "simple_distance(test1,test2)"
   ]
  },
  {
   "cell_type": "markdown",
   "metadata": {},
   "source": [
    "### F. Sentence Lengths"
   ]
  },
  {
   "cell_type": "markdown",
   "metadata": {},
   "source": [
    "* \"... the difference in length of two sentences ... measured in words by subtracting one length from the other.\" (cf. Wan et al. 2006:134)\n",
    "* \"... this difference could be a negative or positive integer ... an absolute variant was used.\" (cf. ibid.)"
   ]
  },
  {
   "cell_type": "code",
   "execution_count": 196,
   "metadata": {
    "collapsed": true
   },
   "outputs": [],
   "source": [
    "def sent_len_diffs(s1, s2):\n",
    "    \n",
    "    diff = len(s1)-len(s2)\n",
    "    \n",
    "    return diff, abs(diff)"
   ]
  },
  {
   "cell_type": "code",
   "execution_count": 197,
   "metadata": {
    "collapsed": false
   },
   "outputs": [
    {
     "name": "stdout",
     "output_type": "stream",
     "text": [
      "(-1, 1)\n",
      "(2, 2)\n"
     ]
    }
   ],
   "source": [
    "print sent_len_diffs(s0,s1)\n",
    "print sent_len_diffs(s0,s2)"
   ]
  },
  {
   "cell_type": "markdown",
   "metadata": {},
   "source": [
    "## IIb: Featurization Function"
   ]
  },
  {
   "cell_type": "code",
   "execution_count": null,
   "metadata": {
    "collapsed": true
   },
   "outputs": [],
   "source": []
  },
  {
   "cell_type": "code",
   "execution_count": null,
   "metadata": {
    "collapsed": true
   },
   "outputs": [],
   "source": []
  },
  {
   "cell_type": "code",
   "execution_count": null,
   "metadata": {
    "collapsed": true
   },
   "outputs": [],
   "source": []
  },
  {
   "cell_type": "code",
   "execution_count": null,
   "metadata": {
    "collapsed": true
   },
   "outputs": [],
   "source": []
  },
  {
   "cell_type": "code",
   "execution_count": null,
   "metadata": {
    "collapsed": true
   },
   "outputs": [],
   "source": []
  },
  {
   "cell_type": "code",
   "execution_count": null,
   "metadata": {
    "collapsed": true
   },
   "outputs": [],
   "source": []
  },
  {
   "cell_type": "code",
   "execution_count": null,
   "metadata": {
    "collapsed": true
   },
   "outputs": [],
   "source": []
  },
  {
   "cell_type": "code",
   "execution_count": null,
   "metadata": {
    "collapsed": true
   },
   "outputs": [],
   "source": []
  },
  {
   "cell_type": "code",
   "execution_count": null,
   "metadata": {
    "collapsed": true
   },
   "outputs": [],
   "source": []
  },
  {
   "cell_type": "code",
   "execution_count": null,
   "metadata": {
    "collapsed": true
   },
   "outputs": [],
   "source": []
  },
  {
   "cell_type": "code",
   "execution_count": null,
   "metadata": {
    "collapsed": true
   },
   "outputs": [],
   "source": []
  },
  {
   "cell_type": "code",
   "execution_count": null,
   "metadata": {
    "collapsed": true
   },
   "outputs": [],
   "source": []
  },
  {
   "cell_type": "code",
   "execution_count": null,
   "metadata": {
    "collapsed": true
   },
   "outputs": [],
   "source": []
  }
 ],
 "metadata": {
  "kernelspec": {
   "display_name": "Python 2",
   "language": "python",
   "name": "python2"
  },
  "language_info": {
   "codemirror_mode": {
    "name": "ipython",
    "version": 2
   },
   "file_extension": ".py",
   "mimetype": "text/x-python",
   "name": "python",
   "nbconvert_exporter": "python",
   "pygments_lexer": "ipython2",
   "version": "2.7.11"
  }
 },
 "nbformat": 4,
 "nbformat_minor": 0
}
