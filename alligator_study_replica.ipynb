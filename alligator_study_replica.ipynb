{
 "cells": [
  {
   "cell_type": "markdown",
   "metadata": {},
   "source": [
    "# Replica of Erk (2016)\n",
    "\n",
    "** CONTENT **\n",
    "\n",
    "* **Computation of Property Overlap**\n",
    "* **Computation of Similarity** (Distributional Model)\n",
    "* **Linear Regression Model** (i.e. f(overlap) ~ similarity))\n",
    "* **Experiments**\n",
    "    * Experiment 1: \"All alligators are dangerous.\"\n",
    "    * Experiment 2: \"All alligators are edible.\"\n",
    "    * Experiment 3: \"All alligators are animals.\""
   ]
  },
  {
   "cell_type": "markdown",
   "metadata": {},
   "source": [
    "# Property Overlap \n",
    "**McRae et al. (2005) Property Norms**"
   ]
  },
  {
   "cell_type": "code",
   "execution_count": 51,
   "metadata": {
    "collapsed": true
   },
   "outputs": [],
   "source": [
    "import pandas as pd\n",
    "import numpy as np\n",
    "from collections import defaultdict"
   ]
  },
  {
   "cell_type": "code",
   "execution_count": 52,
   "metadata": {
    "collapsed": true
   },
   "outputs": [],
   "source": [
    "import os\n",
    "os.chdir('/Users/jacobsw/Desktop/IMPLEMENTATION_CAMP/CODE/BASIC_TOPICS/DISTRIBUTIONAL_SEMANTICS/DATA/McRae-BRM-InPress')"
   ]
  },
  {
   "cell_type": "code",
   "execution_count": 53,
   "metadata": {
    "collapsed": false
   },
   "outputs": [],
   "source": [
    "df = pd.read_csv('CONCS_FEATS_concstats_brm.xls', delimiter='\\t')"
   ]
  },
  {
   "cell_type": "code",
   "execution_count": 54,
   "metadata": {
    "collapsed": false
   },
   "outputs": [
    {
     "data": {
      "text/html": [
       "<div>\n",
       "<table border=\"1\" class=\"dataframe\">\n",
       "  <thead>\n",
       "    <tr style=\"text-align: right;\">\n",
       "      <th></th>\n",
       "      <th>Concept</th>\n",
       "      <th>Feature</th>\n",
       "      <th>WB_Label</th>\n",
       "      <th>WB_Maj</th>\n",
       "      <th>WB_Min</th>\n",
       "      <th>BR_Label</th>\n",
       "      <th>Prod_Freq</th>\n",
       "      <th>Rank_PF</th>\n",
       "      <th>Sum_PF_No_Tax</th>\n",
       "      <th>CPF</th>\n",
       "      <th>...</th>\n",
       "      <th>Num_Func</th>\n",
       "      <th>Num_Vis_Mot</th>\n",
       "      <th>Num_VisF&amp;S</th>\n",
       "      <th>Num_Vis_Col</th>\n",
       "      <th>Num_Sound</th>\n",
       "      <th>Num_Taste</th>\n",
       "      <th>Num_Smell</th>\n",
       "      <th>Num_Tact</th>\n",
       "      <th>Num_Ency</th>\n",
       "      <th>Num_Tax</th>\n",
       "    </tr>\n",
       "  </thead>\n",
       "  <tbody>\n",
       "    <tr>\n",
       "      <th>0</th>\n",
       "      <td>accordion</td>\n",
       "      <td>a_musical_instrument</td>\n",
       "      <td>superordinate</td>\n",
       "      <td>c</td>\n",
       "      <td>h</td>\n",
       "      <td>taxonomic</td>\n",
       "      <td>28</td>\n",
       "      <td>1</td>\n",
       "      <td>NaN</td>\n",
       "      <td>18</td>\n",
       "      <td>...</td>\n",
       "      <td>2</td>\n",
       "      <td>0</td>\n",
       "      <td>2</td>\n",
       "      <td>0</td>\n",
       "      <td>2</td>\n",
       "      <td>0</td>\n",
       "      <td>0</td>\n",
       "      <td>0</td>\n",
       "      <td>2</td>\n",
       "      <td>1</td>\n",
       "    </tr>\n",
       "    <tr>\n",
       "      <th>1</th>\n",
       "      <td>accordion</td>\n",
       "      <td>associated_with_polkas</td>\n",
       "      <td>associated_entity</td>\n",
       "      <td>s</td>\n",
       "      <td>e</td>\n",
       "      <td>encyclopaedic</td>\n",
       "      <td>9</td>\n",
       "      <td>4</td>\n",
       "      <td>9.0</td>\n",
       "      <td>1</td>\n",
       "      <td>...</td>\n",
       "      <td>2</td>\n",
       "      <td>0</td>\n",
       "      <td>2</td>\n",
       "      <td>0</td>\n",
       "      <td>2</td>\n",
       "      <td>0</td>\n",
       "      <td>0</td>\n",
       "      <td>0</td>\n",
       "      <td>2</td>\n",
       "      <td>1</td>\n",
       "    </tr>\n",
       "    <tr>\n",
       "      <th>2</th>\n",
       "      <td>accordion</td>\n",
       "      <td>has_buttons</td>\n",
       "      <td>external_component</td>\n",
       "      <td>e</td>\n",
       "      <td>ce</td>\n",
       "      <td>visual-form_and_surface</td>\n",
       "      <td>8</td>\n",
       "      <td>5</td>\n",
       "      <td>163.0</td>\n",
       "      <td>13</td>\n",
       "      <td>...</td>\n",
       "      <td>2</td>\n",
       "      <td>0</td>\n",
       "      <td>2</td>\n",
       "      <td>0</td>\n",
       "      <td>2</td>\n",
       "      <td>0</td>\n",
       "      <td>0</td>\n",
       "      <td>0</td>\n",
       "      <td>2</td>\n",
       "      <td>1</td>\n",
       "    </tr>\n",
       "    <tr>\n",
       "      <th>3</th>\n",
       "      <td>accordion</td>\n",
       "      <td>has_keys</td>\n",
       "      <td>external_component</td>\n",
       "      <td>e</td>\n",
       "      <td>ce</td>\n",
       "      <td>visual-form_and_surface</td>\n",
       "      <td>17</td>\n",
       "      <td>2</td>\n",
       "      <td>108.0</td>\n",
       "      <td>7</td>\n",
       "      <td>...</td>\n",
       "      <td>2</td>\n",
       "      <td>0</td>\n",
       "      <td>2</td>\n",
       "      <td>0</td>\n",
       "      <td>2</td>\n",
       "      <td>0</td>\n",
       "      <td>0</td>\n",
       "      <td>0</td>\n",
       "      <td>2</td>\n",
       "      <td>1</td>\n",
       "    </tr>\n",
       "    <tr>\n",
       "      <th>4</th>\n",
       "      <td>accordion</td>\n",
       "      <td>inbeh_-_produces_music</td>\n",
       "      <td>entity_behavior</td>\n",
       "      <td>e</td>\n",
       "      <td>b</td>\n",
       "      <td>sound</td>\n",
       "      <td>6</td>\n",
       "      <td>7</td>\n",
       "      <td>178.0</td>\n",
       "      <td>13</td>\n",
       "      <td>...</td>\n",
       "      <td>2</td>\n",
       "      <td>0</td>\n",
       "      <td>2</td>\n",
       "      <td>0</td>\n",
       "      <td>2</td>\n",
       "      <td>0</td>\n",
       "      <td>0</td>\n",
       "      <td>0</td>\n",
       "      <td>2</td>\n",
       "      <td>1</td>\n",
       "    </tr>\n",
       "  </tbody>\n",
       "</table>\n",
       "<p>5 rows × 47 columns</p>\n",
       "</div>"
      ],
      "text/plain": [
       "     Concept                 Feature            WB_Label WB_Maj WB_Min  \\\n",
       "0  accordion    a_musical_instrument       superordinate      c      h   \n",
       "1  accordion  associated_with_polkas   associated_entity      s      e   \n",
       "2  accordion             has_buttons  external_component      e     ce   \n",
       "3  accordion                has_keys  external_component      e     ce   \n",
       "4  accordion  inbeh_-_produces_music     entity_behavior      e      b   \n",
       "\n",
       "                  BR_Label  Prod_Freq  Rank_PF  Sum_PF_No_Tax  CPF   ...     \\\n",
       "0                taxonomic         28        1            NaN   18   ...      \n",
       "1            encyclopaedic          9        4            9.0    1   ...      \n",
       "2  visual-form_and_surface          8        5          163.0   13   ...      \n",
       "3  visual-form_and_surface         17        2          108.0    7   ...      \n",
       "4                    sound          6        7          178.0   13   ...      \n",
       "\n",
       "  Num_Func  Num_Vis_Mot  Num_VisF&S  Num_Vis_Col  Num_Sound  Num_Taste  \\\n",
       "0        2            0           2            0          2          0   \n",
       "1        2            0           2            0          2          0   \n",
       "2        2            0           2            0          2          0   \n",
       "3        2            0           2            0          2          0   \n",
       "4        2            0           2            0          2          0   \n",
       "\n",
       "  Num_Smell  Num_Tact  Num_Ency  Num_Tax  \n",
       "0         0         0         2        1  \n",
       "1         0         0         2        1  \n",
       "2         0         0         2        1  \n",
       "3         0         0         2        1  \n",
       "4         0         0         2        1  \n",
       "\n",
       "[5 rows x 47 columns]"
      ]
     },
     "execution_count": 54,
     "metadata": {},
     "output_type": "execute_result"
    }
   ],
   "source": [
    "df.head()"
   ]
  },
  {
   "cell_type": "code",
   "execution_count": 55,
   "metadata": {
    "collapsed": false
   },
   "outputs": [],
   "source": [
    "vocab = list(set(df['Concept']))\n",
    "word2features = defaultdict(set)"
   ]
  },
  {
   "cell_type": "code",
   "execution_count": 56,
   "metadata": {
    "collapsed": false
   },
   "outputs": [
    {
     "data": {
      "text/html": [
       "<div>\n",
       "<table border=\"1\" class=\"dataframe\">\n",
       "  <thead>\n",
       "    <tr style=\"text-align: right;\">\n",
       "      <th></th>\n",
       "      <th>Concept</th>\n",
       "      <th>Feature</th>\n",
       "      <th>WB_Label</th>\n",
       "      <th>WB_Maj</th>\n",
       "      <th>WB_Min</th>\n",
       "      <th>BR_Label</th>\n",
       "      <th>Prod_Freq</th>\n",
       "      <th>Rank_PF</th>\n",
       "      <th>Sum_PF_No_Tax</th>\n",
       "      <th>CPF</th>\n",
       "      <th>...</th>\n",
       "      <th>Num_Func</th>\n",
       "      <th>Num_Vis_Mot</th>\n",
       "      <th>Num_VisF&amp;S</th>\n",
       "      <th>Num_Vis_Col</th>\n",
       "      <th>Num_Sound</th>\n",
       "      <th>Num_Taste</th>\n",
       "      <th>Num_Smell</th>\n",
       "      <th>Num_Tact</th>\n",
       "      <th>Num_Ency</th>\n",
       "      <th>Num_Tax</th>\n",
       "    </tr>\n",
       "    <tr>\n",
       "      <th>Concept</th>\n",
       "      <th></th>\n",
       "      <th></th>\n",
       "      <th></th>\n",
       "      <th></th>\n",
       "      <th></th>\n",
       "      <th></th>\n",
       "      <th></th>\n",
       "      <th></th>\n",
       "      <th></th>\n",
       "      <th></th>\n",
       "      <th></th>\n",
       "      <th></th>\n",
       "      <th></th>\n",
       "      <th></th>\n",
       "      <th></th>\n",
       "      <th></th>\n",
       "      <th></th>\n",
       "      <th></th>\n",
       "      <th></th>\n",
       "      <th></th>\n",
       "      <th></th>\n",
       "    </tr>\n",
       "  </thead>\n",
       "  <tbody>\n",
       "    <tr>\n",
       "      <th>accordion</th>\n",
       "      <td>accordion</td>\n",
       "      <td>a_musical_instrument</td>\n",
       "      <td>superordinate</td>\n",
       "      <td>c</td>\n",
       "      <td>h</td>\n",
       "      <td>taxonomic</td>\n",
       "      <td>28</td>\n",
       "      <td>1</td>\n",
       "      <td>NaN</td>\n",
       "      <td>18</td>\n",
       "      <td>...</td>\n",
       "      <td>2</td>\n",
       "      <td>0</td>\n",
       "      <td>2</td>\n",
       "      <td>0</td>\n",
       "      <td>2</td>\n",
       "      <td>0</td>\n",
       "      <td>0</td>\n",
       "      <td>0</td>\n",
       "      <td>2</td>\n",
       "      <td>1</td>\n",
       "    </tr>\n",
       "    <tr>\n",
       "      <th>accordion</th>\n",
       "      <td>accordion</td>\n",
       "      <td>associated_with_polkas</td>\n",
       "      <td>associated_entity</td>\n",
       "      <td>s</td>\n",
       "      <td>e</td>\n",
       "      <td>encyclopaedic</td>\n",
       "      <td>9</td>\n",
       "      <td>4</td>\n",
       "      <td>9.0</td>\n",
       "      <td>1</td>\n",
       "      <td>...</td>\n",
       "      <td>2</td>\n",
       "      <td>0</td>\n",
       "      <td>2</td>\n",
       "      <td>0</td>\n",
       "      <td>2</td>\n",
       "      <td>0</td>\n",
       "      <td>0</td>\n",
       "      <td>0</td>\n",
       "      <td>2</td>\n",
       "      <td>1</td>\n",
       "    </tr>\n",
       "    <tr>\n",
       "      <th>accordion</th>\n",
       "      <td>accordion</td>\n",
       "      <td>has_buttons</td>\n",
       "      <td>external_component</td>\n",
       "      <td>e</td>\n",
       "      <td>ce</td>\n",
       "      <td>visual-form_and_surface</td>\n",
       "      <td>8</td>\n",
       "      <td>5</td>\n",
       "      <td>163.0</td>\n",
       "      <td>13</td>\n",
       "      <td>...</td>\n",
       "      <td>2</td>\n",
       "      <td>0</td>\n",
       "      <td>2</td>\n",
       "      <td>0</td>\n",
       "      <td>2</td>\n",
       "      <td>0</td>\n",
       "      <td>0</td>\n",
       "      <td>0</td>\n",
       "      <td>2</td>\n",
       "      <td>1</td>\n",
       "    </tr>\n",
       "    <tr>\n",
       "      <th>accordion</th>\n",
       "      <td>accordion</td>\n",
       "      <td>has_keys</td>\n",
       "      <td>external_component</td>\n",
       "      <td>e</td>\n",
       "      <td>ce</td>\n",
       "      <td>visual-form_and_surface</td>\n",
       "      <td>17</td>\n",
       "      <td>2</td>\n",
       "      <td>108.0</td>\n",
       "      <td>7</td>\n",
       "      <td>...</td>\n",
       "      <td>2</td>\n",
       "      <td>0</td>\n",
       "      <td>2</td>\n",
       "      <td>0</td>\n",
       "      <td>2</td>\n",
       "      <td>0</td>\n",
       "      <td>0</td>\n",
       "      <td>0</td>\n",
       "      <td>2</td>\n",
       "      <td>1</td>\n",
       "    </tr>\n",
       "    <tr>\n",
       "      <th>accordion</th>\n",
       "      <td>accordion</td>\n",
       "      <td>inbeh_-_produces_music</td>\n",
       "      <td>entity_behavior</td>\n",
       "      <td>e</td>\n",
       "      <td>b</td>\n",
       "      <td>sound</td>\n",
       "      <td>6</td>\n",
       "      <td>7</td>\n",
       "      <td>178.0</td>\n",
       "      <td>13</td>\n",
       "      <td>...</td>\n",
       "      <td>2</td>\n",
       "      <td>0</td>\n",
       "      <td>2</td>\n",
       "      <td>0</td>\n",
       "      <td>2</td>\n",
       "      <td>0</td>\n",
       "      <td>0</td>\n",
       "      <td>0</td>\n",
       "      <td>2</td>\n",
       "      <td>1</td>\n",
       "    </tr>\n",
       "  </tbody>\n",
       "</table>\n",
       "<p>5 rows × 47 columns</p>\n",
       "</div>"
      ],
      "text/plain": [
       "             Concept                 Feature            WB_Label WB_Maj  \\\n",
       "Concept                                                                   \n",
       "accordion  accordion    a_musical_instrument       superordinate      c   \n",
       "accordion  accordion  associated_with_polkas   associated_entity      s   \n",
       "accordion  accordion             has_buttons  external_component      e   \n",
       "accordion  accordion                has_keys  external_component      e   \n",
       "accordion  accordion  inbeh_-_produces_music     entity_behavior      e   \n",
       "\n",
       "          WB_Min                 BR_Label  Prod_Freq  Rank_PF  Sum_PF_No_Tax  \\\n",
       "Concept                                                                        \n",
       "accordion      h                taxonomic         28        1            NaN   \n",
       "accordion      e            encyclopaedic          9        4            9.0   \n",
       "accordion     ce  visual-form_and_surface          8        5          163.0   \n",
       "accordion     ce  visual-form_and_surface         17        2          108.0   \n",
       "accordion      b                    sound          6        7          178.0   \n",
       "\n",
       "           CPF   ...    Num_Func  Num_Vis_Mot  Num_VisF&S  Num_Vis_Col  \\\n",
       "Concept          ...                                                     \n",
       "accordion   18   ...           2            0           2            0   \n",
       "accordion    1   ...           2            0           2            0   \n",
       "accordion   13   ...           2            0           2            0   \n",
       "accordion    7   ...           2            0           2            0   \n",
       "accordion   13   ...           2            0           2            0   \n",
       "\n",
       "           Num_Sound  Num_Taste Num_Smell  Num_Tact  Num_Ency  Num_Tax  \n",
       "Concept                                                                 \n",
       "accordion          2          0         0         0         2        1  \n",
       "accordion          2          0         0         0         2        1  \n",
       "accordion          2          0         0         0         2        1  \n",
       "accordion          2          0         0         0         2        1  \n",
       "accordion          2          0         0         0         2        1  \n",
       "\n",
       "[5 rows x 47 columns]"
      ]
     },
     "execution_count": 56,
     "metadata": {},
     "output_type": "execute_result"
    }
   ],
   "source": [
    "df = df.set_index(df['Concept'])\n",
    "df.head()"
   ]
  },
  {
   "cell_type": "code",
   "execution_count": 62,
   "metadata": {
    "collapsed": false
   },
   "outputs": [],
   "source": [
    "for word in vocab:\n",
    "    word2features[word] = set(df.ix[word]['Feature'])\n",
    "# set(df.ix['fawn']['Feature']) retrieves a set of features under 'fawn'\n",
    "#  NB: _set_ instead of _list_ for the convenience of computing Jaccard\n",
    "#  ['a_baby_deer',\n",
    "#  'a_deer',\n",
    "#  'a_mammal',\n",
    "#  'an_animal',\n",
    "#  'beh_-_eats',\n",
    "#  'beh_-_eats_grass',\n",
    "#  'beh_-_eats_leaves',\n",
    "#  'eg_-_bambi',\n",
    "#  ... ]"
   ]
  },
  {
   "cell_type": "code",
   "execution_count": 63,
   "metadata": {
    "collapsed": false
   },
   "outputs": [],
   "source": [
    "def property_overlap(w1,w2,theta=3):\n",
    "    assert w1 in vocab and w2 in vocab\n",
    "    w1_features, w2_features = word2features[w1], word2features[w2]\n",
    "#     if len(w1_features)<theta or len(w2_features)<theta: \n",
    "#         print \"Reliable Property Threshold: %d (%s: %d; %s: %d)\" % (theta,\n",
    "#                                                                     w1,len(w1_features),\n",
    "#                                                                     w2,len(w2_features))\n",
    "#         return\n",
    "    return len(w1_features.intersection(w2_features)) / \\\n",
    "            float(len(w1_features.union(w2_features)))"
   ]
  },
  {
   "cell_type": "code",
   "execution_count": 64,
   "metadata": {
    "collapsed": false
   },
   "outputs": [
    {
     "data": {
      "text/plain": [
       "0.5714285714285714"
      ]
     },
     "execution_count": 64,
     "metadata": {},
     "output_type": "execute_result"
    }
   ],
   "source": [
    "property_overlap('alligator','crocodile')"
   ]
  },
  {
   "cell_type": "code",
   "execution_count": null,
   "metadata": {
    "collapsed": false
   },
   "outputs": [],
   "source": []
  },
  {
   "cell_type": "markdown",
   "metadata": {},
   "source": [
    "# Distributional Model"
   ]
  },
  {
   "cell_type": "code",
   "execution_count": 10,
   "metadata": {
    "collapsed": true
   },
   "outputs": [],
   "source": [
    "import os\n",
    "os.chdir(\"/Users/jacobsw/Desktop/IMPLEMENTATION_CAMP/CODE/BASIC_TOPICS/DISTRIBUTIONAL_SEMANTICS/ASSIGNMENT_03\")"
   ]
  },
  {
   "cell_type": "code",
   "execution_count": 11,
   "metadata": {
    "collapsed": true
   },
   "outputs": [],
   "source": [
    "import nltk\n",
    "from nltk.corpus import stopwords\n",
    "stopwords = stopwords.words('english')\n",
    "from collections import defaultdict\n",
    "from functools import partial\n",
    "from itertools import permutations, product\n",
    "punctuation = '!\"#$%&\\'()*+,-/:;<=>?@[\\\\]^_`{|}~'"
   ]
  },
  {
   "cell_type": "code",
   "execution_count": 12,
   "metadata": {
    "collapsed": true
   },
   "outputs": [],
   "source": [
    "import warnings\n",
    "warnings.filterwarnings(\"ignore\")"
   ]
  },
  {
   "cell_type": "code",
   "execution_count": 13,
   "metadata": {
    "collapsed": true
   },
   "outputs": [],
   "source": [
    "def load_wiki(cutoffFreq=50):\n",
    "    \n",
    "    print \"... extracting data\"\n",
    "    with open('wikicorpus.txt','rb') as f:\n",
    "        raw = f.readlines()\n",
    "    raw = [sent[4:].split() for sent in raw if sent.startswith('<c>')] \n",
    "        # sent[4:]: get rid of initial <c>.\n",
    "        # extract sentences; split sentences into word complexes.\n",
    "    raw = [[map(partial(str.split, word), '|') for word in sent] for sent in raw] \n",
    "        # split word complexes into words.\n",
    "    \n",
    "    print \"... cleaning data\"\n",
    "    sents = [[word[0][1].lower() for word in sent if len(word[0])>1 \n",
    "              and (word[0][2].startswith('N') or word[0][2]=='.')\n",
    "              and word[0][1].lower() not in stopwords\n",
    "              and word[0][1] not in punctuation] for sent in raw]\n",
    "        # extract lemmas => complete sents corpus .\n",
    "    \n",
    "    print \"... building token list and vocabulary\"\n",
    "    tokens = [word for sent in sents for word in sent]\n",
    "        # type: list of words.\n",
    "    fdist = nltk.FreqDist(tokens)\n",
    "    vocab = list(set(tokens))   \n",
    "    \n",
    "    print \"... saving words that appear at least %d times in vocabulary\" % cutoffFreq\n",
    "    vocab = [word for word in vocab if fdist[word] >= cutoffFreq]\n",
    "        # vocab is not returned, because the k-frequent cut latter can change it.\n",
    "    sents = [[word.decode('utf-8','ignore') for word in sent if word in vocab] for sent in sents]\n",
    "        # type: list of all words in the corpus, separated by periods.\n",
    "        \n",
    "    return [tokens, vocab, sents]"
   ]
  },
  {
   "cell_type": "code",
   "execution_count": 14,
   "metadata": {
    "collapsed": false
   },
   "outputs": [
    {
     "name": "stdout",
     "output_type": "stream",
     "text": [
      "... extracting data\n",
      "... cleaning data\n",
      "... building token list and vocabulary\n",
      "... saving top 20-frequent in vocabulary\n",
      "CPU times: user 8min 15s, sys: 7.54 s, total: 8min 23s\n",
      "Wall time: 8min 21s\n"
     ]
    }
   ],
   "source": [
    "%%time\n",
    "tokens, vocab, sents = load_wiki(20)"
   ]
  },
  {
   "cell_type": "code",
   "execution_count": 15,
   "metadata": {
    "collapsed": true
   },
   "outputs": [],
   "source": [
    "import numpy as np"
   ]
  },
  {
   "cell_type": "code",
   "execution_count": 16,
   "metadata": {
    "collapsed": true
   },
   "outputs": [],
   "source": [
    "# SIMILARITY MEASURES\n",
    "def cosine(w2w):\n",
    "    w2w_norm = w2w / np.apply_along_axis(lambda r: np.sqrt(np.dot(r,r))\n",
    "                               , 1, w2w)[:,np.newaxis]\n",
    "    return np.dot(w2w_norm, w2w_norm.T)\n",
    "    \n",
    "def ppmi(w2w):\n",
    "    rowSums, colSums, totalSums = w2w.sum(axis=1), w2w.sum(axis=0), w2w.sum()\n",
    "    pwi, pwj, ppmiMatrix = rowSums/totalSums, colSums/totalSums, w2w/totalSums\n",
    "    ppmiMatrix /= pwi[:,np.newaxis] # * 1/pwi by row.\n",
    "    ppmiMatrix /= pwj # * 1/pwj by col.\n",
    "    ppmiMatrix = np.nan_to_num(np.log(ppmiMatrix)) # compute pmi.\n",
    "    ppmiMatrix = np.maximum(ppmiMatrix, 0) # compute ppmi.\n",
    "    return ppmiMatrix"
   ]
  },
  {
   "cell_type": "code",
   "execution_count": 17,
   "metadata": {
    "collapsed": false
   },
   "outputs": [],
   "source": [
    "class DistributionalModel:\n",
    "    \n",
    "    def __init__(self, data=sents, kFrequent=50):\n",
    "        self.sents = sents # a list of lists of words.\n",
    "        self.vocab = list({word for sent in sents for word in sent})\n",
    "        self.word2idx = {word:i for i,word in enumerate(self.vocab)}\n",
    "        self.idx = {i:word for word,i in self.word2idx.iteritems()}\n",
    "    \n",
    "    def build_w2w_matrix(self, win_size):\n",
    "        \n",
    "        print \"... counting words\"\n",
    "        cooccurrence_dict = defaultdict(int)\n",
    "        for sent in self.sents:\n",
    "            for i,word in enumerate(sent):\n",
    "                contexts = sent[max(0,i-win_size):i] + \\\n",
    "                           sent[min(i+1,len(sent)):min(i+1+win_size,len(sent))]\n",
    "                for context in contexts:\n",
    "                    cooccurrence_dict[(self.word2idx[word],self.word2idx[context])] += 1\n",
    "        \n",
    "        print \"... building cooccurrence matrix\"\n",
    "        self.w2w = np.zeros((len(self.vocab),len(self.vocab)))\n",
    "        for (widx_i,widx_j),count in cooccurrence_dict.iteritems():\n",
    "            self.w2w[widx_i][widx_j] = count   \n",
    "    \n",
    "    def build_similarity_matrix(self, similarity=ppmi):\n",
    "        self.sim_matrix = similarity(self.w2w)\n",
    "        return self.sim_matrix\n",
    "    \n",
    "    def get_similarity(self, w1, w2):\n",
    "        assert w1 in self.vocab and w2 in self.vocab\n",
    "        return self.sim_matrix[self.word2idx[w1]][self.word2idx[w2]]\n",
    "    \n",
    "    def k_most_similar(self, words, k=20):\n",
    "        assert len(words)==len(filter(lambda w:1 if w in self.vocab else 0, words))\n",
    "        w2sim = {}\n",
    "        for word in words:\n",
    "            sim_list = self.sim_matrix[self.word2idx[word]]\n",
    "            w2sim[word] = map(lambda idx:(self.idx2word[idx],\n",
    "                                          self.sim_matrix[self.word2idx[word]][idx]),\n",
    "                              np.argsort(sim_list)[::-1][1:k+1])\n",
    "            # [1:k+1]: skip self-similarty.\n",
    "        return w2sim"
   ]
  },
  {
   "cell_type": "code",
   "execution_count": 18,
   "metadata": {
    "collapsed": false
   },
   "outputs": [
    {
     "name": "stdout",
     "output_type": "stream",
     "text": [
      "CPU times: user 446 ms, sys: 14.6 ms, total: 460 ms\n",
      "Wall time: 452 ms\n"
     ]
    }
   ],
   "source": [
    "%%time\n",
    "dm = DistributionalModel(sents)"
   ]
  },
  {
   "cell_type": "code",
   "execution_count": 19,
   "metadata": {
    "collapsed": false
   },
   "outputs": [
    {
     "name": "stdout",
     "output_type": "stream",
     "text": [
      "... counting words\n",
      "... building cooccurrence matrix\n",
      "CPU times: user 13 s, sys: 716 ms, total: 13.7 s\n",
      "Wall time: 13.6 s\n"
     ]
    }
   ],
   "source": [
    "%%time\n",
    "dm.build_w2w_matrix(win_size=2)"
   ]
  },
  {
   "cell_type": "code",
   "execution_count": 20,
   "metadata": {
    "collapsed": false
   },
   "outputs": [
    {
     "name": "stdout",
     "output_type": "stream",
     "text": [
      "CPU times: user 5.23 s, sys: 2.29 s, total: 7.52 s\n",
      "Wall time: 7.85 s\n"
     ]
    }
   ],
   "source": [
    "%%time\n",
    "ppmi_similarities = dm.build_similarity_matrix(ppmi)"
   ]
  },
  {
   "cell_type": "code",
   "execution_count": 21,
   "metadata": {
    "collapsed": false
   },
   "outputs": [
    {
     "name": "stdout",
     "output_type": "stream",
     "text": [
      "CPU times: user 2min 40s, sys: 1.25 s, total: 2min 42s\n",
      "Wall time: 24.9 s\n"
     ]
    }
   ],
   "source": [
    "%%time\n",
    "cosine_similarities = dm.build_similarity_matrix(cosine)"
   ]
  },
  {
   "cell_type": "code",
   "execution_count": 22,
   "metadata": {
    "collapsed": false
   },
   "outputs": [
    {
     "name": "stdout",
     "output_type": "stream",
     "text": [
      "0.510481965141\n",
      "0.390749299795\n"
     ]
    }
   ],
   "source": [
    "print dm.get_similarity('alligator','crocodile')\n",
    "print dm.get_similarity('alligator','trout')"
   ]
  },
  {
   "cell_type": "code",
   "execution_count": null,
   "metadata": {
    "collapsed": true
   },
   "outputs": [],
   "source": []
  },
  {
   "cell_type": "markdown",
   "metadata": {},
   "source": [
    "# Linear Regression \n",
    "**x = overlap, y = distributional similarity**"
   ]
  },
  {
   "cell_type": "code",
   "execution_count": 23,
   "metadata": {
    "collapsed": false
   },
   "outputs": [],
   "source": [
    "from sklearn.linear_model import LinearRegression\n",
    "# from scipy import stats # TOO DARN SLOW, KERNEL DEAD."
   ]
  },
  {
   "cell_type": "code",
   "execution_count": 24,
   "metadata": {
    "collapsed": false
   },
   "outputs": [
    {
     "data": {
      "text/html": [
       "<div>\n",
       "<table border=\"1\" class=\"dataframe\">\n",
       "  <thead>\n",
       "    <tr style=\"text-align: right;\">\n",
       "      <th></th>\n",
       "      <th>mpg</th>\n",
       "      <th>cylinders</th>\n",
       "      <th>displacement</th>\n",
       "      <th>horsepower</th>\n",
       "      <th>weight</th>\n",
       "      <th>acceleration</th>\n",
       "      <th>model_year</th>\n",
       "      <th>origin</th>\n",
       "      <th>car_name</th>\n",
       "    </tr>\n",
       "  </thead>\n",
       "  <tbody>\n",
       "    <tr>\n",
       "      <th>0</th>\n",
       "      <td>18.0</td>\n",
       "      <td>8</td>\n",
       "      <td>307.0</td>\n",
       "      <td>130.0</td>\n",
       "      <td>3504.0</td>\n",
       "      <td>12.0</td>\n",
       "      <td>70</td>\n",
       "      <td>1</td>\n",
       "      <td>chevrolet chevelle malibu</td>\n",
       "    </tr>\n",
       "    <tr>\n",
       "      <th>1</th>\n",
       "      <td>15.0</td>\n",
       "      <td>8</td>\n",
       "      <td>350.0</td>\n",
       "      <td>165.0</td>\n",
       "      <td>3693.0</td>\n",
       "      <td>11.5</td>\n",
       "      <td>70</td>\n",
       "      <td>1</td>\n",
       "      <td>buick skylark 320</td>\n",
       "    </tr>\n",
       "    <tr>\n",
       "      <th>2</th>\n",
       "      <td>18.0</td>\n",
       "      <td>8</td>\n",
       "      <td>318.0</td>\n",
       "      <td>150.0</td>\n",
       "      <td>3436.0</td>\n",
       "      <td>11.0</td>\n",
       "      <td>70</td>\n",
       "      <td>1</td>\n",
       "      <td>plymouth satellite</td>\n",
       "    </tr>\n",
       "    <tr>\n",
       "      <th>3</th>\n",
       "      <td>16.0</td>\n",
       "      <td>8</td>\n",
       "      <td>304.0</td>\n",
       "      <td>150.0</td>\n",
       "      <td>3433.0</td>\n",
       "      <td>12.0</td>\n",
       "      <td>70</td>\n",
       "      <td>1</td>\n",
       "      <td>amc rebel sst</td>\n",
       "    </tr>\n",
       "    <tr>\n",
       "      <th>4</th>\n",
       "      <td>17.0</td>\n",
       "      <td>8</td>\n",
       "      <td>302.0</td>\n",
       "      <td>140.0</td>\n",
       "      <td>3449.0</td>\n",
       "      <td>10.5</td>\n",
       "      <td>70</td>\n",
       "      <td>1</td>\n",
       "      <td>ford torino</td>\n",
       "    </tr>\n",
       "  </tbody>\n",
       "</table>\n",
       "</div>"
      ],
      "text/plain": [
       "    mpg  cylinders  displacement  horsepower  weight  acceleration  \\\n",
       "0  18.0          8         307.0       130.0  3504.0          12.0   \n",
       "1  15.0          8         350.0       165.0  3693.0          11.5   \n",
       "2  18.0          8         318.0       150.0  3436.0          11.0   \n",
       "3  16.0          8         304.0       150.0  3433.0          12.0   \n",
       "4  17.0          8         302.0       140.0  3449.0          10.5   \n",
       "\n",
       "   model_year  origin                   car_name  \n",
       "0          70       1  chevrolet chevelle malibu  \n",
       "1          70       1          buick skylark 320  \n",
       "2          70       1         plymouth satellite  \n",
       "3          70       1              amc rebel sst  \n",
       "4          70       1                ford torino  "
      ]
     },
     "execution_count": 24,
     "metadata": {},
     "output_type": "execute_result"
    }
   ],
   "source": [
    "import os\n",
    "os.chdir('/Users/jacobsw/Desktop/IMPLEMENTATION_CAMP/CODE/BASIC_TOPICS/DISTRIBUTIONAL_SEMANTICS/DATA')\n",
    "names = ['mpg','cylinders','displacement','horsepower','weight','acceleration',\n",
    "         'model_year','origin','car_name']\n",
    "df = pd.read_csv('carmpg.txt', delimiter=r'\\s+', names=names)\n",
    "df.head()"
   ]
  },
  {
   "cell_type": "code",
   "execution_count": 487,
   "metadata": {
    "collapsed": false
   },
   "outputs": [],
   "source": [
    "# X, Y = np.array(df['horsepower']), np.array(df['mpg'])"
   ]
  },
  {
   "cell_type": "code",
   "execution_count": 25,
   "metadata": {
    "collapsed": false
   },
   "outputs": [
    {
     "data": {
      "text/plain": [
       "LinearRegression(copy_X=True, fit_intercept=True, n_jobs=1, normalize=False)"
      ]
     },
     "execution_count": 25,
     "metadata": {},
     "output_type": "execute_result"
    }
   ],
   "source": [
    "X, Y = np.asarray(df['horsepower'])[:,np.newaxis], np.asarray(df['mpg'])[:,np.newaxis]\n",
    "lr = LinearRegression()\n",
    "lr.fit(X,Y)"
   ]
  },
  {
   "cell_type": "code",
   "execution_count": 26,
   "metadata": {
    "collapsed": false
   },
   "outputs": [],
   "source": [
    "# gradient, intercept, r_value, p_value, std_err = stats.linregress(X,Y)"
   ]
  },
  {
   "cell_type": "code",
   "execution_count": 27,
   "metadata": {
    "collapsed": false
   },
   "outputs": [],
   "source": [
    "# r_value**2"
   ]
  },
  {
   "cell_type": "markdown",
   "metadata": {},
   "source": [
    "# Property-Overlap & Cosine-Similarity Matrices\n",
    "**McRae et al. (2005) Property Norms**\n",
    "\n",
    "**NB: 323 outof 541 words in PN are in distributional similarity matrix**"
   ]
  },
  {
   "cell_type": "code",
   "execution_count": 66,
   "metadata": {
    "collapsed": true
   },
   "outputs": [],
   "source": [
    "import random"
   ]
  },
  {
   "cell_type": "code",
   "execution_count": 67,
   "metadata": {
    "collapsed": false
   },
   "outputs": [
    {
     "name": "stdout",
     "output_type": "stream",
     "text": [
      "0.510481965141\n",
      "0.390749299795\n"
     ]
    }
   ],
   "source": [
    "print dm.get_similarity('alligator','crocodile')\n",
    "print dm.get_similarity('alligator','trout')"
   ]
  },
  {
   "cell_type": "code",
   "execution_count": 68,
   "metadata": {
    "collapsed": false
   },
   "outputs": [
    {
     "name": "stdout",
     "output_type": "stream",
     "text": [
      "0.571428571429\n",
      "0.2\n"
     ]
    }
   ],
   "source": [
    "print property_overlap('alligator','crocodile')\n",
    "print property_overlap('alligator','trout')"
   ]
  },
  {
   "cell_type": "code",
   "execution_count": 69,
   "metadata": {
    "collapsed": true
   },
   "outputs": [],
   "source": [
    "target_vocab = filter(lambda w: w in dm.vocab, vocab) # this vocab is from the first section McRae."
   ]
  },
  {
   "cell_type": "code",
   "execution_count": 70,
   "metadata": {
    "collapsed": true
   },
   "outputs": [],
   "source": [
    "from itertools import combinations\n",
    "w2i = {w:i for i,w in enumerate(target_vocab)}\n",
    "i2w = {i:w for i,w in enumerate(target_vocab)}"
   ]
  },
  {
   "cell_type": "code",
   "execution_count": 71,
   "metadata": {
    "collapsed": false
   },
   "outputs": [
    {
     "name": "stdout",
     "output_type": "stream",
     "text": [
      "CPU times: user 1min 10s, sys: 452 ms, total: 1min 11s\n",
      "Wall time: 1min 10s\n"
     ]
    }
   ],
   "source": [
    "%%time\n",
    "ovl_matrix = np.zeros((len(target_vocab),len(target_vocab)))\n",
    "sim_matrix = np.zeros((len(target_vocab),len(target_vocab)))\n",
    "ovls, sims = [], []\n",
    "for w_i,w_j in combinations(target_vocab, 2):\n",
    "    ovl_ij, sim_ij = property_overlap(w_i,w_j), dm.get_similarity(w_i,w_j)\n",
    "    ovl_matrix[w2i[w_i]][w2i[w_j]] = ovl_matrix[w2i[w_j]][w2i[w_i]] = ovl_ij\n",
    "    sim_matrix[w2i[w_i]][w2i[w_j]] = sim_matrix[w2i[w_j]][w2i[w_i]] = sim_ij\n",
    "    ovls.append(ovl_ij)\n",
    "    sims.append(sim_ij)"
   ]
  },
  {
   "cell_type": "code",
   "execution_count": 72,
   "metadata": {
    "collapsed": false
   },
   "outputs": [
    {
     "name": "stdout",
     "output_type": "stream",
     "text": [
      "[0.5714285714285714, 0.51048196514146693]\n"
     ]
    }
   ],
   "source": [
    "def get_ovl_sim(w1,w2):\n",
    "    return [ovl_matrix[w2i[w1]][w2i[w2]], sim_matrix[w2i[w1]][w2i[w2]]]\n",
    "print get_ovl_sim('alligator','crocodile')"
   ]
  },
  {
   "cell_type": "code",
   "execution_count": 73,
   "metadata": {
    "collapsed": false
   },
   "outputs": [],
   "source": [
    "ovls = np.asarray(ovls)[:,np.newaxis]\n",
    "sims = np.asarray(sims)[:,np.newaxis]\n",
    "    # for using sklearn.linear_models.LinearRegression"
   ]
  },
  {
   "cell_type": "code",
   "execution_count": 74,
   "metadata": {
    "collapsed": false
   },
   "outputs": [
    {
     "data": {
      "text/plain": [
       "(52003, 1)"
      ]
     },
     "execution_count": 74,
     "metadata": {},
     "output_type": "execute_result"
    }
   ],
   "source": [
    "ovls.shape"
   ]
  },
  {
   "cell_type": "code",
   "execution_count": 75,
   "metadata": {
    "collapsed": false
   },
   "outputs": [
    {
     "name": "stdout",
     "output_type": "stream",
     "text": [
      "[[ 0.15304673]] [ 0.47091774]\n"
     ]
    }
   ],
   "source": [
    "lr = LinearRegression()\n",
    "lr.fit(ovls,sims)\n",
    "print lr.coef_, lr.intercept_"
   ]
  },
  {
   "cell_type": "code",
   "execution_count": null,
   "metadata": {
    "collapsed": true
   },
   "outputs": [],
   "source": [
    "# gradient, intercept, r_value, p_value, std_err = stats.linregress(ovls,sims)\n",
    "# def predict(o):\n",
    "#     return intercept + gradient*o"
   ]
  },
  {
   "cell_type": "code",
   "execution_count": 76,
   "metadata": {
    "collapsed": false
   },
   "outputs": [],
   "source": [
    "def sample_ovl_sim(K=10):\n",
    "    x, y = [], []\n",
    "    for k in xrange(K):\n",
    "        w_i,w_j = random.sample(target_vocab,2)\n",
    "        ovl_sim = get_ovl_sim(w_i,w_j)\n",
    "        x.append(ovl_sim[0])\n",
    "        y.append(ovl_sim[1])\n",
    "    return [np.asarray(x)[:,np.newaxis],\n",
    "            np.asarray(y)[:,np.newaxis]]"
   ]
  },
  {
   "cell_type": "code",
   "execution_count": 81,
   "metadata": {
    "collapsed": false
   },
   "outputs": [],
   "source": [
    "x, y = sample_ovl_sim(100)\n",
    "import matplotlib.pyplot as plt\n",
    "%matplotlib inline"
   ]
  },
  {
   "cell_type": "code",
   "execution_count": 82,
   "metadata": {
    "collapsed": false
   },
   "outputs": [
    {
     "data": {
      "text/plain": [
       "<matplotlib.collections.PathCollection at 0x15d4dda90>"
      ]
     },
     "execution_count": 82,
     "metadata": {},
     "output_type": "execute_result"
    },
    {
     "data": {
      "image/png": "[encoded data removed]",
      "text/plain": [
       "<matplotlib.figure.Figure at 0x15bafd250>"
      ]
     },
     "metadata": {},
     "output_type": "display_data"
    }
   ],
   "source": [
    "plt.scatter(x,y)"
   ]
  },
  {
   "cell_type": "code",
   "execution_count": 83,
   "metadata": {
    "collapsed": false
   },
   "outputs": [
    {
     "data": {
      "text/plain": [
       "<matplotlib.collections.PathCollection at 0x159f65ed0>"
      ]
     },
     "execution_count": 83,
     "metadata": {},
     "output_type": "execute_result"
    },
    {
     "data": {
      "image/png": "[encoded data removed]",
      "text/plain": [
       "<matplotlib.figure.Figure at 0x1628c5bd0>"
      ]
     },
     "metadata": {},
     "output_type": "display_data"
    }
   ],
   "source": [
    "plt.scatter(ovls,sims)"
   ]
  },
  {
   "cell_type": "code",
   "execution_count": 84,
   "metadata": {
    "collapsed": false
   },
   "outputs": [
    {
     "name": "stdout",
     "output_type": "stream",
     "text": [
      "0.0204232870744 0.0421677618595\n",
      "0.474043456525 0.14693930606\n"
     ]
    }
   ],
   "source": [
    "print np.mean(ovls), np.std(ovls)\n",
    "print np.mean(sims), np.std(sims)"
   ]
  },
  {
   "cell_type": "code",
   "execution_count": 87,
   "metadata": {
    "collapsed": false
   },
   "outputs": [],
   "source": [
    "from scipy.stats import norm\n",
    "sse = sum((sim-lr.predict(ovl))**2 for ovl,sim in zip(ovls,sims))\n",
    "rste = np.sqrt(sse/(len(ovls)-2)) # 0.14680034"
   ]
  },
  {
   "cell_type": "code",
   "execution_count": 135,
   "metadata": {
    "collapsed": true
   },
   "outputs": [],
   "source": [
    "def p_s_given_o(o,s): # P(E_dist | w)\n",
    "    f_o = lr.predict(o)\n",
    "    return 1-norm(f_o,rste).cdf(s)[0][0] # raw computation returns array([[..]])."
   ]
  },
  {
   "cell_type": "code",
   "execution_count": 136,
   "metadata": {
    "collapsed": false
   },
   "outputs": [
    {
     "data": {
      "text/plain": [
       "0.62855412136493527"
      ]
     },
     "execution_count": 136,
     "metadata": {},
     "output_type": "execute_result"
    }
   ],
   "source": [
    "p_s_given_o(.57,.51)"
   ]
  },
  {
   "cell_type": "code",
   "execution_count": 93,
   "metadata": {
    "collapsed": false
   },
   "outputs": [
    {
     "data": {
      "text/plain": [
       "array([ 1122.80507608])"
      ]
     },
     "execution_count": 93,
     "metadata": {},
     "output_type": "execute_result"
    }
   ],
   "source": [
    "ss_tot = sum((sim-np.mean(sims))**2 for sim in sims)\n",
    "ss_tot"
   ]
  },
  {
   "cell_type": "code",
   "execution_count": 94,
   "metadata": {
    "collapsed": false
   },
   "outputs": [
    {
     "data": {
      "text/plain": [
       "array([[ 2.16589605]])"
      ]
     },
     "execution_count": 94,
     "metadata": {},
     "output_type": "execute_result"
    }
   ],
   "source": [
    "ss_reg = sum((lr.predict(ovl)-np.mean(sims))**2 for ovl in ovls)\n",
    "ss_reg"
   ]
  },
  {
   "cell_type": "code",
   "execution_count": 95,
   "metadata": {
    "collapsed": false
   },
   "outputs": [
    {
     "data": {
      "text/plain": [
       "array([[ 1120.63918003]])"
      ]
     },
     "execution_count": 95,
     "metadata": {},
     "output_type": "execute_result"
    }
   ],
   "source": [
    "ss_res = sum((sim-lr.predict(ovl))**2 for ovl,sim in zip(ovls,sims))\n",
    "ss_res"
   ]
  },
  {
   "cell_type": "code",
   "execution_count": 96,
   "metadata": {
    "collapsed": false
   },
   "outputs": [
    {
     "data": {
      "text/plain": [
       "array([[ 0.001929]])"
      ]
     },
     "execution_count": 96,
     "metadata": {},
     "output_type": "execute_result"
    }
   ],
   "source": [
    "r_squared = 1 - ss_res/ss_tot\n",
    "r_squared"
   ]
  },
  {
   "cell_type": "markdown",
   "metadata": {
    "collapsed": true
   },
   "source": [
    "# Experiment: Inference"
   ]
  },
  {
   "cell_type": "code",
   "execution_count": 303,
   "metadata": {
    "collapsed": true
   },
   "outputs": [],
   "source": [
    "def coin():\n",
    "    return 1 if random.uniform(0,1)>.5 else 0"
   ]
  },
  {
   "cell_type": "markdown",
   "metadata": {},
   "source": [
    "### A. Experiment 1\n",
    "\n",
    "** We know a lot about crocodiles, that they are *animals*, *dangerous*, *scaly*, etc., and we only know that alligators are *alligator*. We would like to know how the distributional similarity of *crocodile* and *alligator* will affect the degree of property uncertainty that we have about alligators. **\n",
    "\n",
    "** SENTENCE: \"All alligators are dangerous\" **"
   ]
  },
  {
   "cell_type": "code",
   "execution_count": 146,
   "metadata": {
    "collapsed": true
   },
   "outputs": [],
   "source": [
    "import random\n",
    "from scipy.stats import norm"
   ]
  },
  {
   "cell_type": "markdown",
   "metadata": {},
   "source": [
    "##### SAMPLING $P_0(w)$"
   ]
  },
  {
   "cell_type": "code",
   "execution_count": 309,
   "metadata": {
    "collapsed": false
   },
   "outputs": [],
   "source": [
    "class W1:\n",
    "    \n",
    "    def __init__(self):\n",
    "        self.U = ['e1','e2','e3','e4','e5','e6','e7','e8','e9','e10']\n",
    "        self.pred2domain = defaultdict(list)\n",
    "        for pred in ['alligator','crocodile']:\n",
    "            for entity in self.U:\n",
    "                if coin()==1:\n",
    "                    self.pred2domain[pred].append(entity)\n",
    "        for pred in ['animal','dangerous','scaly']:\n",
    "            for entity in self.U:\n",
    "                if entity in self.pred2domain['crocodile']:\n",
    "                    self.pred2domain[pred].append(entity)\n",
    "                else:\n",
    "                    if coin()==1:\n",
    "                        self.pred2domain[pred].append(entity) \n",
    "    \n",
    "    def get_world(self):\n",
    "        return self.pred2domain\n",
    "    \n",
    "    def all_alligators_are_dangerous(self):\n",
    "        for entity in self.U:\n",
    "            if entity not in self.pred2domain['alligator'] or \\\n",
    "               entity in self.pred2domain['alligator'] and entity in self.pred2domain['dangerous']:\n",
    "                    pass\n",
    "            else: return 0\n",
    "        return 1\n",
    "    "
   ]
  },
  {
   "cell_type": "code",
   "execution_count": 310,
   "metadata": {
    "collapsed": false
   },
   "outputs": [],
   "source": [
    "def p0_sentence1(sample_size=2000):\n",
    "    # P_0(sentence) ~= .26\n",
    "    true = 0.\n",
    "    for i in xrange(sample_size):\n",
    "        true += W1().all_alligators_are_dangerous()\n",
    "    return true / sample_size"
   ]
  },
  {
   "cell_type": "code",
   "execution_count": 311,
   "metadata": {
    "collapsed": false
   },
   "outputs": [
    {
     "data": {
      "text/plain": [
       "0.273"
      ]
     },
     "execution_count": 311,
     "metadata": {},
     "output_type": "execute_result"
    }
   ],
   "source": [
    "p0_sentence1()"
   ]
  },
  {
   "cell_type": "markdown",
   "metadata": {},
   "source": [
    "##### SAMPLING $P_1(w)$"
   ]
  },
  {
   "cell_type": "code",
   "execution_count": 312,
   "metadata": {
    "collapsed": false
   },
   "outputs": [
    {
     "name": "stdout",
     "output_type": "stream",
     "text": [
      "[0.5714285714285714, 0.51048196514146693]\n"
     ]
    }
   ],
   "source": [
    "print get_ovl_sim('alligator','crocodile')"
   ]
  },
  {
   "cell_type": "code",
   "execution_count": 313,
   "metadata": {
    "collapsed": false
   },
   "outputs": [],
   "source": [
    "# THE VALUE FROM CURRENT STUDY (wiki dump)\n",
    "beta1, beta0 = 0.15304673, 0.47091774 # f_o = beta0 + beta1*o, from previous.\n",
    "ste = 0.14680034 # N(f_o,ste), from previous.\n",
    "o = 0.5714285714285714 # ovl('alligator','crocodile')\n",
    "s = 0.51048196514146693 # sim('alligator','crocodile')\n",
    "\n",
    "# THE VALUES FROM Erk(2016)\n",
    "# beta1, beta0 = 1.8, .35\n",
    "# ste = .15\n",
    "# o = .57\n",
    "# s = .93"
   ]
  },
  {
   "cell_type": "code",
   "execution_count": 314,
   "metadata": {
    "collapsed": true
   },
   "outputs": [],
   "source": [
    "f_o = beta0 + beta1*o\n",
    "g_0 = norm(f_o,ste**2) # g_0 ~ N(f_o,ste^2)"
   ]
  },
  {
   "cell_type": "code",
   "execution_count": 315,
   "metadata": {
    "collapsed": false
   },
   "outputs": [],
   "source": [
    "def p1_sentence1(sample_size=2000):\n",
    "    # P_1(sentence)\n",
    "    ws = []\n",
    "    for i in xrange(sample_size):\n",
    "        w = W1()\n",
    "        s_prime = g_0.rvs()\n",
    "        if s_prime >= s:\n",
    "            ws.append(w)\n",
    "    true = 0.\n",
    "    for w in ws:\n",
    "        true += w.all_alligators_are_dangerous()\n",
    "    print \"Pr(acceptance) = %.2f%%\" % (len(ws)/float(sample_size)*100)\n",
    "    return true / len(ws)"
   ]
  },
  {
   "cell_type": "code",
   "execution_count": 316,
   "metadata": {
    "collapsed": false
   },
   "outputs": [
    {
     "name": "stdout",
     "output_type": "stream",
     "text": [
      "Pr(acceptance) = 98.80%\n"
     ]
    },
    {
     "data": {
      "text/plain": [
       "0.2565789473684211"
      ]
     },
     "execution_count": 316,
     "metadata": {},
     "output_type": "execute_result"
    }
   ],
   "source": [
    "p1_sentence1()"
   ]
  },
  {
   "cell_type": "markdown",
   "metadata": {},
   "source": [
    "### B. Experiment 2\n",
    "\n",
    "** We know a lot about trouts, that they are *animals*, *aquatic*, *edible*, etc., and we only know that alligators are *alligator*. We would like to know how the distributional similarity of *trout* and *alligator* will affect the degree of property uncertainty that we have about alligators. **\n",
    "\n",
    "** SENTENCE: \"All alligators are edible\" **"
   ]
  },
  {
   "cell_type": "markdown",
   "metadata": {},
   "source": [
    "##### SAMPLE $P_0(w)$"
   ]
  },
  {
   "cell_type": "code",
   "execution_count": 349,
   "metadata": {
    "collapsed": true
   },
   "outputs": [],
   "source": [
    "class W2:\n",
    "    \n",
    "    def __init__(self):\n",
    "        self.U = ['e1','e2','e3','e4','e5','e6','e7','e8','e9','e10']\n",
    "        self.pred2domain = defaultdict(list)\n",
    "        for pred in ['alligator','trout']:\n",
    "            for entity in self.U:\n",
    "                if coin()==1:\n",
    "                    self.pred2domain[pred].append(entity)\n",
    "        for pred in ['animal','aquatic','edible']:\n",
    "            for entity in self.U:\n",
    "                if entity in self.pred2domain['trout']:\n",
    "                    self.pred2domain[pred].append(entity)\n",
    "                else:\n",
    "                    if coin()==1:\n",
    "                        self.pred2domain[pred].append(entity) \n",
    "    \n",
    "    def get_world(self):\n",
    "        return self.pred2domain\n",
    "    \n",
    "    def all_alligators_are_edible(self):\n",
    "        for entity in self.U:\n",
    "            if entity not in self.pred2domain['alligator'] or \\\n",
    "               entity in self.pred2domain['alligator'] and entity in self.pred2domain['edible']:\n",
    "                    pass\n",
    "            else: return 0\n",
    "        return 1\n",
    "    "
   ]
  },
  {
   "cell_type": "code",
   "execution_count": 350,
   "metadata": {
    "collapsed": true
   },
   "outputs": [],
   "source": [
    "def p0_sentence2(sample_size=2000):\n",
    "    true = 0.\n",
    "    for i in xrange(sample_size):\n",
    "        true += W2().all_alligators_are_edible()\n",
    "    return true / sample_size"
   ]
  },
  {
   "cell_type": "code",
   "execution_count": 351,
   "metadata": {
    "collapsed": false
   },
   "outputs": [
    {
     "data": {
      "text/plain": [
       "0.262"
      ]
     },
     "execution_count": 351,
     "metadata": {},
     "output_type": "execute_result"
    }
   ],
   "source": [
    "p0_sentence2()"
   ]
  },
  {
   "cell_type": "markdown",
   "metadata": {},
   "source": [
    "##### SAMPLE $P_1(w)$"
   ]
  },
  {
   "cell_type": "code",
   "execution_count": 356,
   "metadata": {
    "collapsed": false
   },
   "outputs": [
    {
     "name": "stdout",
     "output_type": "stream",
     "text": [
      "[0.20000000000000001, 0.39074929979530337]\n"
     ]
    }
   ],
   "source": [
    "print get_ovl_sim('alligator','trout')"
   ]
  },
  {
   "cell_type": "code",
   "execution_count": 357,
   "metadata": {
    "collapsed": true
   },
   "outputs": [],
   "source": [
    "# THE VALUE FROM CURRENT STUDY (wiki dump)\n",
    "beta1, beta0 = 0.15304673, 0.47091774 # f_o = beta0 + beta1*o, from previous.\n",
    "ste = 0.14680034 # N(f_o,ste), from previous.\n",
    "o = 0.20000000000000001 # ovl('alligator','trout')\n",
    "s = 0.39074929979530337 # sim('alligator','trout')\n",
    "\n",
    "# THE VALUES FROM Erk(2016)\n",
    "# beta1, beta0 = 1.8, .35\n",
    "# ste = .15\n",
    "# o = .2\n",
    "# s = .68"
   ]
  },
  {
   "cell_type": "code",
   "execution_count": 358,
   "metadata": {
    "collapsed": true
   },
   "outputs": [],
   "source": [
    "f_o = beta0 + beta1*o\n",
    "g_0 = norm(f_o,ste**2) # g_0 ~ N(f_o,ste^2)"
   ]
  },
  {
   "cell_type": "code",
   "execution_count": 359,
   "metadata": {
    "collapsed": true
   },
   "outputs": [],
   "source": [
    "def p1_sentence2(sample_size=2000):\n",
    "    # P_1(sentence)\n",
    "    ws = []\n",
    "    for i in xrange(sample_size):\n",
    "        w = W2()\n",
    "        s_prime = g_0.rvs()\n",
    "        if s_prime >= s:\n",
    "            ws.append(w)\n",
    "    true = 0.\n",
    "    for w in ws:\n",
    "        true += w.all_alligators_are_edible()\n",
    "    print \"Pr(acceptance) = %.2f%%\" % (len(ws)/float(sample_size)*100)\n",
    "    return true / len(ws)"
   ]
  },
  {
   "cell_type": "code",
   "execution_count": 360,
   "metadata": {
    "collapsed": false
   },
   "outputs": [
    {
     "name": "stdout",
     "output_type": "stream",
     "text": [
      "Pr(acceptance) = 100.00%\n"
     ]
    },
    {
     "data": {
      "text/plain": [
       "0.27"
      ]
     },
     "execution_count": 360,
     "metadata": {},
     "output_type": "execute_result"
    }
   ],
   "source": [
    "p1_sentence2()"
   ]
  },
  {
   "cell_type": "markdown",
   "metadata": {},
   "source": [
    "### C. Experiment 3\n",
    "\n",
    "** SENTENCE: \"All alligators are animals\" **"
   ]
  },
  {
   "cell_type": "markdown",
   "metadata": {},
   "source": [
    "##### SAMPLE $P_0(w)$"
   ]
  },
  {
   "cell_type": "code",
   "execution_count": 361,
   "metadata": {
    "collapsed": true
   },
   "outputs": [],
   "source": [
    "class W3:\n",
    "    \n",
    "    def __init__(self):\n",
    "        self.U = ['e1','e2','e3','e4','e5','e6','e7','e8','e9','e10']\n",
    "        self.pred2domain = defaultdict(list)\n",
    "        for pred in ['alligator','crocodile','trout']:\n",
    "            for entity in self.U:\n",
    "                if coin()==1:\n",
    "                    self.pred2domain[pred].append(entity)\n",
    "        for pred in ['animal','aquatic','dangerous','edible','scaly']:\n",
    "            for entity in self.U:\n",
    "                if entity in self.pred2domain['crocodile'] and \\\n",
    "                   pred in ['animal','dangerous','scaly']:\n",
    "                        self.pred2domain[pred].append(entity)\n",
    "                elif entity in self.pred2domain['trout'] and \\\n",
    "                     pred in ['animal','dangerous','edible']:\n",
    "                        self.pred2domain[pred].append(entity)\n",
    "                else:\n",
    "                    if coin()==1:\n",
    "                        self.pred2domain[pred].append(entity) \n",
    "    \n",
    "    def get_world(self):\n",
    "        return self.pred2domain\n",
    "    \n",
    "    def all_alligators_are_animals(self):\n",
    "        for entity in self.U:\n",
    "            if entity not in self.pred2domain['alligator'] or \\\n",
    "               entity in self.pred2domain['alligator'] and entity in self.pred2domain['animal']:\n",
    "                    pass\n",
    "            else: return 0\n",
    "        return 1"
   ]
  },
  {
   "cell_type": "code",
   "execution_count": 362,
   "metadata": {
    "collapsed": true
   },
   "outputs": [],
   "source": [
    "def p0_sentence3(sample_size=2000):\n",
    "    true = 0.\n",
    "    for i in xrange(sample_size):\n",
    "        true += W3().all_alligators_are_animals()\n",
    "    return true / sample_size"
   ]
  },
  {
   "cell_type": "code",
   "execution_count": 365,
   "metadata": {
    "collapsed": false
   },
   "outputs": [
    {
     "data": {
      "text/plain": [
       "0.55"
      ]
     },
     "execution_count": 365,
     "metadata": {},
     "output_type": "execute_result"
    }
   ],
   "source": [
    "p0_sentence3()"
   ]
  },
  {
   "cell_type": "markdown",
   "metadata": {},
   "source": [
    "##### SAMPLE $P_1(w)$"
   ]
  },
  {
   "cell_type": "code",
   "execution_count": 372,
   "metadata": {
    "collapsed": true
   },
   "outputs": [],
   "source": [
    "def p1_sentence3(g_0, s, sample_size=2000):\n",
    "    # P_1(sentence)\n",
    "    ws = []\n",
    "    for i in xrange(sample_size):\n",
    "        w = W3()\n",
    "        s_prime = g_0.rvs()\n",
    "        if s_prime >= s:\n",
    "            ws.append(w)\n",
    "    true = 0.\n",
    "    for w in ws:\n",
    "        true += w.all_alligators_are_animals()\n",
    "    print \"Pr(acceptance) = %.2f%%\" % (len(ws)/float(sample_size)*100)\n",
    "    return true / len(ws)"
   ]
  },
  {
   "cell_type": "markdown",
   "metadata": {},
   "source": [
    "**Condition 1: only sim(alligator,crocodile) known**"
   ]
  },
  {
   "cell_type": "code",
   "execution_count": 374,
   "metadata": {
    "collapsed": false
   },
   "outputs": [
    {
     "name": "stdout",
     "output_type": "stream",
     "text": [
      "[0.5714285714285714, 0.51048196514146693]\n"
     ]
    }
   ],
   "source": [
    "print get_ovl_sim('alligator','crocodile')"
   ]
  },
  {
   "cell_type": "code",
   "execution_count": 375,
   "metadata": {
    "collapsed": true
   },
   "outputs": [],
   "source": [
    "# THE VALUE FROM CURRENT STUDY (wiki dump)\n",
    "beta1, beta0 = 0.15304673, 0.47091774 # f_o = beta0 + beta1*o, from previous.\n",
    "ste = 0.14680034 # N(f_o,ste), from previous.\n",
    "o = 0.5714285714285714 # ovl('alligator','crocodile')\n",
    "s = 0.51048196514146693 # sim('alligator','crocodile')\n",
    "\n",
    "# THE VALUES FROM Erk(2016)\n",
    "# beta1, beta0 = 1.8, .35\n",
    "# ste = .15\n",
    "# o = .57\n",
    "# s = .93"
   ]
  },
  {
   "cell_type": "code",
   "execution_count": 376,
   "metadata": {
    "collapsed": true
   },
   "outputs": [],
   "source": [
    "f_o = beta0 + beta1*o\n",
    "g_0 = norm(f_o,ste**2) # g_0 ~ N(f_o,ste^2)"
   ]
  },
  {
   "cell_type": "code",
   "execution_count": 377,
   "metadata": {
    "collapsed": false
   },
   "outputs": [
    {
     "name": "stdout",
     "output_type": "stream",
     "text": [
      "Pr(acceptance) = 98.05%\n"
     ]
    },
    {
     "data": {
      "text/plain": [
       "0.5283018867924528"
      ]
     },
     "execution_count": 377,
     "metadata": {},
     "output_type": "execute_result"
    }
   ],
   "source": [
    "p1_sentence3(g_0=g_0, s=s, sample_size=2000)"
   ]
  },
  {
   "cell_type": "markdown",
   "metadata": {},
   "source": [
    "**Condition 2: only sim(alligator,trout) known**"
   ]
  },
  {
   "cell_type": "code",
   "execution_count": 378,
   "metadata": {
    "collapsed": false
   },
   "outputs": [
    {
     "name": "stdout",
     "output_type": "stream",
     "text": [
      "[0.20000000000000001, 0.39074929979530337]\n"
     ]
    }
   ],
   "source": [
    "print get_ovl_sim('alligator','trout')"
   ]
  },
  {
   "cell_type": "code",
   "execution_count": 379,
   "metadata": {
    "collapsed": true
   },
   "outputs": [],
   "source": [
    "# THE VALUE FROM CURRENT STUDY (wiki dump)\n",
    "beta1, beta0 = 0.15304673, 0.47091774 # f_o = beta0 + beta1*o, from previous.\n",
    "ste = 0.14680034 # N(f_o,ste), from previous.\n",
    "o = 0.20000000000000001 # ovl('alligator','trout')\n",
    "s = 0.39074929979530337 # sim('alligator','trout')\n",
    "\n",
    "# THE VALUES FROM Erk(2016)\n",
    "# beta1, beta0 = 1.8, .35\n",
    "# ste = .15\n",
    "# o = .2\n",
    "# s = .68"
   ]
  },
  {
   "cell_type": "code",
   "execution_count": 380,
   "metadata": {
    "collapsed": true
   },
   "outputs": [],
   "source": [
    "f_o = beta0 + beta1*o\n",
    "g_0 = norm(f_o,ste**2) # g_0 ~ N(f_o,ste^2)"
   ]
  },
  {
   "cell_type": "code",
   "execution_count": 381,
   "metadata": {
    "collapsed": false
   },
   "outputs": [
    {
     "name": "stdout",
     "output_type": "stream",
     "text": [
      "Pr(acceptance) = 100.00%\n"
     ]
    },
    {
     "data": {
      "text/plain": [
       "0.545"
      ]
     },
     "execution_count": 381,
     "metadata": {},
     "output_type": "execute_result"
    }
   ],
   "source": [
    "p1_sentence3(g_0=g_0, s=s, sample_size=2000)"
   ]
  },
  {
   "cell_type": "markdown",
   "metadata": {},
   "source": [
    "**Condition 3: both sim(alligator,crocodile) and sim(alligator,trout) known**"
   ]
  },
  {
   "cell_type": "code",
   "execution_count": 370,
   "metadata": {
    "collapsed": false
   },
   "outputs": [
    {
     "name": "stdout",
     "output_type": "stream",
     "text": [
      "[0.5714285714285714, 0.51048196514146693]\n",
      "[0.20000000000000001, 0.39074929979530337]\n"
     ]
    }
   ],
   "source": [
    "print get_ovl_sim('alligator','crocodile')\n",
    "print get_ovl_sim('alligator','trout')"
   ]
  },
  {
   "cell_type": "code",
   "execution_count": 385,
   "metadata": {
    "collapsed": true
   },
   "outputs": [],
   "source": [
    "# THE VALUE FROM CURRENT STUDY (wiki dump)\n",
    "ste = 0.14680034 # N(f_o,ste), from previous.\n",
    "beta1, beta0 = 0.15304673, 0.47091774 # f_o = beta0 + beta1*o, from previous.\n",
    "o1 = 0.5714285714285714 # ovl('alligator','crocodile')\n",
    "o2 = 0.20000000000000001 # ovl('alligator','trout')\n",
    "s1 = 0.51048196514146693 # sim('alligator','crocodile')\n",
    "s2 = 0.39074929979530337 # sim('alligator','trout')\n",
    "\n",
    "# THE VALUES FROM Erk(2016)\n",
    "# beta1, beta0 = 1.8, .35\n",
    "# o1 = .57\n",
    "# o2 = .2\n",
    "# s1 = .93\n",
    "# s2 = .68"
   ]
  },
  {
   "cell_type": "code",
   "execution_count": 386,
   "metadata": {
    "collapsed": true
   },
   "outputs": [],
   "source": [
    "def p1_sentence3(g_01, g_02, s1, s2, sample_size=2000):\n",
    "    # P_1(sentence)\n",
    "    ws = []\n",
    "    for i in xrange(sample_size):\n",
    "        w = W3()\n",
    "        s1_prime = g_01.rvs()\n",
    "        s2_prime = g_02.rvs()\n",
    "        if s1_prime >= s1 or s2_prime >= s2:\n",
    "            ws.append(w)\n",
    "    true = 0.\n",
    "    for w in ws:\n",
    "        true += w.all_alligators_are_animals()\n",
    "    print \"Pr(acceptance) = %.2f%%\" % (len(ws)/float(sample_size)*100)\n",
    "    return true / len(ws)"
   ]
  },
  {
   "cell_type": "code",
   "execution_count": 387,
   "metadata": {
    "collapsed": false
   },
   "outputs": [],
   "source": [
    "f_o1 = beta0 + beta1*o1\n",
    "g_01 = norm(f_o1,ste**2) \n",
    "f_o2 = beta0 + beta1*o2\n",
    "g_02 = norm(f_o2,ste**2) "
   ]
  },
  {
   "cell_type": "code",
   "execution_count": 389,
   "metadata": {
    "collapsed": false
   },
   "outputs": [
    {
     "name": "stdout",
     "output_type": "stream",
     "text": [
      "Pr(acceptance) = 100.00%\n"
     ]
    },
    {
     "data": {
      "text/plain": [
       "0.5225"
      ]
     },
     "execution_count": 389,
     "metadata": {},
     "output_type": "execute_result"
    }
   ],
   "source": [
    "p1_sentence3(g_01,g_02,s1,s2)"
   ]
  },
  {
   "cell_type": "code",
   "execution_count": null,
   "metadata": {
    "collapsed": true
   },
   "outputs": [],
   "source": []
  }
 ],
 "metadata": {
  "kernelspec": {
   "display_name": "Python 2",
   "language": "python",
   "name": "python2"
  },
  "language_info": {
   "codemirror_mode": {
    "name": "ipython",
    "version": 2
   },
   "file_extension": ".py",
   "mimetype": "text/x-python",
   "name": "python",
   "nbconvert_exporter": "python",
   "pygments_lexer": "ipython2",
   "version": "2.7.11"
  }
 },
 "nbformat": 4,
 "nbformat_minor": 0
}
